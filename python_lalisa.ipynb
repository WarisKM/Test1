{
  "nbformat": 4,
  "nbformat_minor": 0,
  "metadata": {
    "colab": {
      "provenance": []
    },
    "kernelspec": {
      "name": "python3",
      "display_name": "Python 3"
    },
    "language_info": {
      "name": "python"
    }
  },
  "cells": [
    {
      "cell_type": "code",
      "execution_count": 117,
      "metadata": {
        "id": "OJkO5lX4zL3a"
      },
      "outputs": [],
      "source": [
        "class Atm():\n",
        "  def __init__(self,card, pin, balance):\n",
        "    self.card = card\n",
        "    self.pin = pin\n",
        "    self.balance = balance\n",
        "\n",
        "  def identify(self,card, pin = 000):\n",
        "        if self.card == card:\n",
        "          print(\"card is verified\")\n",
        "        else:\n",
        "           return \"please insert a valid card!\"\n",
        "            \n",
        "        if self.pin == pin:\n",
        "            print(\"Authorization is complete\")\n",
        "        else:\n",
        "              print(\"Your pin is incorrect!!\")\n",
        "              print(\"Please try again.\")\n",
        "              \n",
        "  def withdraw(self, amount):\n",
        "    if self.balance >= amount:\n",
        "      self.balance -= amount\n",
        "      print(\"Withdraw successfully.\")\n",
        "      print(\"your new balance {}\".format(self.balance))\n",
        "    else:\n",
        "      print(\"you have insufficient balance\")\n",
        "      print(\"please readjust the amount to be withdrawn , try again.\")\n",
        "  \n",
        "  def deposit(self, amount):\n",
        "    if amount > 0:\n",
        "      self.balance += amount\n",
        "      print(\"Deposit successfully.\")\n",
        "      print(\"your new balance {}\".format(self.balance))\n",
        "    else: \n",
        "      print(\"you cant deposit that amount lol\")\n",
        "\n",
        "  def check_balance(self):\n",
        "    print(\"your total balance is {}\".format(self.balance))\n",
        "\n",
        "  def transfer(self,receiver,amount):\n",
        "    if self.balance >= amount:\n",
        "      self.balance -= amount\n",
        "      print(\"{} has receive {}\".format(receiver,amount))\n",
        "      print(\"Transfer completed.\")\n",
        "      print(\"your total balance is now = {}\".format(self.balance))\n",
        "    else:\n",
        "      print(\"you have insufficient balance\")\n",
        "      print(\"please readjust the amount to be withdrawn , try again.\")"
      ]
    },
    {
      "cell_type": "markdown",
      "source": [
        "initialize object"
      ],
      "metadata": {
        "id": "syo3HgfsAs9L"
      }
    },
    {
      "cell_type": "code",
      "source": [
        "scb = Atm(\"card\",654321,0)"
      ],
      "metadata": {
        "id": "HU4JVOBu7qTA"
      },
      "execution_count": 65,
      "outputs": []
    },
    {
      "cell_type": "markdown",
      "source": [
        "identify the user"
      ],
      "metadata": {
        "id": "eHMZbV48AwKg"
      }
    },
    {
      "cell_type": "code",
      "source": [
        "scb.identify(\"gfsdfg\")"
      ],
      "metadata": {
        "colab": {
          "base_uri": "https://localhost:8080/",
          "height": 35
        },
        "id": "bba114N68KGd",
        "outputId": "f7014fc4-a316-4595-dcf8-7579fe365094"
      },
      "execution_count": 66,
      "outputs": [
        {
          "output_type": "execute_result",
          "data": {
            "text/plain": [
              "'please insert a valid card!'"
            ],
            "application/vnd.google.colaboratory.intrinsic+json": {
              "type": "string"
            }
          },
          "metadata": {},
          "execution_count": 66
        }
      ]
    },
    {
      "cell_type": "code",
      "source": [
        "scb.identify(\"gfsdfg\",654321)"
      ],
      "metadata": {
        "colab": {
          "base_uri": "https://localhost:8080/",
          "height": 35
        },
        "id": "PV0kzmm9-LN0",
        "outputId": "cb6f2908-eecd-4e18-f065-21809a3c5b89"
      },
      "execution_count": 67,
      "outputs": [
        {
          "output_type": "execute_result",
          "data": {
            "text/plain": [
              "'please insert a valid card!'"
            ],
            "application/vnd.google.colaboratory.intrinsic+json": {
              "type": "string"
            }
          },
          "metadata": {},
          "execution_count": 67
        }
      ]
    },
    {
      "cell_type": "code",
      "source": [
        "scb.identify(\"card\",612)"
      ],
      "metadata": {
        "colab": {
          "base_uri": "https://localhost:8080/"
        },
        "id": "_fritqS1_7wi",
        "outputId": "81442c73-8394-43d5-8b2f-168ec57c90e9"
      },
      "execution_count": 69,
      "outputs": [
        {
          "output_type": "stream",
          "name": "stdout",
          "text": [
            "card is verified\n",
            "Your pin is incorrect!!\n",
            "Please try again.\n"
          ]
        }
      ]
    },
    {
      "cell_type": "code",
      "source": [
        "scb.identify(\"card\",654321)"
      ],
      "metadata": {
        "colab": {
          "base_uri": "https://localhost:8080/"
        },
        "id": "U2MCItz7AQr9",
        "outputId": "486c14a5-d624-43c7-9fc7-4adee879fa05"
      },
      "execution_count": 70,
      "outputs": [
        {
          "output_type": "stream",
          "name": "stdout",
          "text": [
            "card is verified\n",
            "Authorization is complete\n"
          ]
        }
      ]
    },
    {
      "cell_type": "markdown",
      "source": [
        "withdraw"
      ],
      "metadata": {
        "id": "rcncmx_GAzFu"
      }
    },
    {
      "cell_type": "code",
      "source": [
        "tmb = Atm(\"card\",654321,5000)"
      ],
      "metadata": {
        "id": "9osU98kuAYbD"
      },
      "execution_count": 91,
      "outputs": []
    },
    {
      "cell_type": "code",
      "source": [
        "tmb.withdraw(200)"
      ],
      "metadata": {
        "colab": {
          "base_uri": "https://localhost:8080/"
        },
        "id": "BJ49BRObBKu6",
        "outputId": "6fbacb72-abda-4778-ff68-7cf2a633cb06"
      },
      "execution_count": 92,
      "outputs": [
        {
          "output_type": "stream",
          "name": "stdout",
          "text": [
            "Withdraw successfully.\n",
            "your new balance 4800\n"
          ]
        }
      ]
    },
    {
      "cell_type": "code",
      "source": [
        "tmb.withdraw(4801)"
      ],
      "metadata": {
        "colab": {
          "base_uri": "https://localhost:8080/"
        },
        "id": "PmrqHG0oBOIZ",
        "outputId": "953d7485-f7ff-4ff4-d2d4-846be40a2d10"
      },
      "execution_count": 93,
      "outputs": [
        {
          "output_type": "stream",
          "name": "stdout",
          "text": [
            "you have insufficient balance\n",
            "please readjust the amount to be withdrawn\n"
          ]
        }
      ]
    },
    {
      "cell_type": "markdown",
      "source": [
        "deposit"
      ],
      "metadata": {
        "id": "Pl-LUVBDCes9"
      }
    },
    {
      "cell_type": "code",
      "source": [
        "ktb = Atm(\"card\",654321,5000)"
      ],
      "metadata": {
        "id": "eamf4jn2ChCT"
      },
      "execution_count": 107,
      "outputs": []
    },
    {
      "cell_type": "code",
      "source": [
        "ktb.deposit(15000)"
      ],
      "metadata": {
        "colab": {
          "base_uri": "https://localhost:8080/"
        },
        "id": "GEkH-feNCm6S",
        "outputId": "f065682a-e164-444a-d1f4-f33cd6490540"
      },
      "execution_count": 108,
      "outputs": [
        {
          "output_type": "stream",
          "name": "stdout",
          "text": [
            "Deposit successfully.\n",
            "your new balance 20000\n"
          ]
        }
      ]
    },
    {
      "cell_type": "code",
      "source": [
        "ktb.deposit(-1)"
      ],
      "metadata": {
        "colab": {
          "base_uri": "https://localhost:8080/"
        },
        "id": "KfGoskEcC9tN",
        "outputId": "e9fbc4c6-62ff-41ce-af7d-ca00897cf207"
      },
      "execution_count": 109,
      "outputs": [
        {
          "output_type": "stream",
          "name": "stdout",
          "text": [
            "you cant deposit that amount lol\n"
          ]
        }
      ]
    },
    {
      "cell_type": "markdown",
      "source": [
        "check_balance"
      ],
      "metadata": {
        "id": "FXovJiY3DIKN"
      }
    },
    {
      "cell_type": "code",
      "source": [
        "fish = Atm(\"card\",654321,5000)"
      ],
      "metadata": {
        "id": "gdd2svbXDLk4"
      },
      "execution_count": 111,
      "outputs": []
    },
    {
      "cell_type": "code",
      "source": [
        "fish.check_balance()"
      ],
      "metadata": {
        "colab": {
          "base_uri": "https://localhost:8080/"
        },
        "id": "dDT-vs3rDQE_",
        "outputId": "35e0d22b-2da4-41ac-ffde-2b30eef25009"
      },
      "execution_count": 112,
      "outputs": [
        {
          "output_type": "stream",
          "name": "stdout",
          "text": [
            "your total balance is 5000\n"
          ]
        }
      ]
    },
    {
      "cell_type": "markdown",
      "source": [
        "transfer"
      ],
      "metadata": {
        "id": "F5mNvufNDWBt"
      }
    },
    {
      "cell_type": "code",
      "source": [
        "drx = Atm(\"card\",654321,5000)"
      ],
      "metadata": {
        "id": "2Z6YG_pkDVqS"
      },
      "execution_count": 118,
      "outputs": []
    },
    {
      "cell_type": "code",
      "source": [
        "drx.transfer(\"stax\" , 2000)"
      ],
      "metadata": {
        "colab": {
          "base_uri": "https://localhost:8080/"
        },
        "id": "h-jE4RlZDnGv",
        "outputId": "1cf2b086-4e8f-4d15-deb8-76c7de2af248"
      },
      "execution_count": 119,
      "outputs": [
        {
          "output_type": "stream",
          "name": "stdout",
          "text": [
            "stax has receive 2000\n",
            "Transfer completed.\n",
            "your total balance is now = 3000\n"
          ]
        }
      ]
    },
    {
      "cell_type": "code",
      "source": [
        "drx.transfer(\"stax\" , 3001)"
      ],
      "metadata": {
        "id": "70GYOPsqEDmM",
        "outputId": "5edb1067-6b4d-45f7-ccfa-15c2b808111d",
        "colab": {
          "base_uri": "https://localhost:8080/"
        }
      },
      "execution_count": 120,
      "outputs": [
        {
          "output_type": "stream",
          "name": "stdout",
          "text": [
            "you have insufficient balance\n",
            "please readjust the amount to be withdrawn , try again.\n"
          ]
        }
      ]
    }
  ]
}