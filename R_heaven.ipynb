{
  "nbformat": 4,
  "nbformat_minor": 0,
  "metadata": {
    "colab": {
      "provenance": []
    },
    "kernelspec": {
      "name": "ir",
      "display_name": "R"
    },
    "language_info": {
      "name": "R"
    }
  },
  "cells": [
    {
      "cell_type": "code",
      "source": [
        "install.packages(\"nycflights13\")\n",
        "install.packages(\"tidyverse\")\n",
        "# install.packages(\"dplyr\")\n",
        "\n",
        "library(\"nycflights13\")\n",
        "library(\"tidyverse\")\n",
        "# library(\"dplyr\")\n",
        "\n"
      ],
      "metadata": {
        "colab": {
          "base_uri": "https://localhost:8080/"
        },
        "id": "vC52LFAm7F2F",
        "outputId": "350f0dde-c0f3-4d71-e94b-fef2ff87065d"
      },
      "execution_count": null,
      "outputs": [
        {
          "output_type": "stream",
          "name": "stderr",
          "text": [
            "Installing package into ‘/usr/local/lib/R/site-library’\n",
            "(as ‘lib’ is unspecified)\n",
            "\n",
            "Installing package into ‘/usr/local/lib/R/site-library’\n",
            "(as ‘lib’ is unspecified)\n",
            "\n",
            "also installing the dependencies ‘textshaping’, ‘conflicted’, ‘jsonlite’, ‘ragg’, ‘stringr’\n",
            "\n",
            "\n",
            "Warning message in install.packages(\"tidyverse\"):\n",
            "“installation of package ‘textshaping’ had non-zero exit status”\n",
            "Warning message in install.packages(\"tidyverse\"):\n",
            "“installation of package ‘ragg’ had non-zero exit status”\n",
            "Warning message in install.packages(\"tidyverse\"):\n",
            "“installation of package ‘tidyverse’ had non-zero exit status”\n",
            "Warning message in system(\"timedatectl\", intern = TRUE):\n",
            "“running command 'timedatectl' had status 1”\n",
            "── \u001b[1mAttaching packages\u001b[22m ─────────────────────────────────────── tidyverse 1.3.1 ──\n",
            "\n",
            "\u001b[32m✔\u001b[39m \u001b[34mggplot2\u001b[39m 3.4.1     \u001b[32m✔\u001b[39m \u001b[34mpurrr  \u001b[39m 1.0.1\n",
            "\u001b[32m✔\u001b[39m \u001b[34mtibble \u001b[39m 3.1.8     \u001b[32m✔\u001b[39m \u001b[34mstringr\u001b[39m 1.5.0\n",
            "\u001b[32m✔\u001b[39m \u001b[34mtidyr  \u001b[39m 1.3.0     \u001b[32m✔\u001b[39m \u001b[34mforcats\u001b[39m 1.0.0\n",
            "\u001b[32m✔\u001b[39m \u001b[34mreadr  \u001b[39m 2.1.4     \n",
            "\n",
            "── \u001b[1mConflicts\u001b[22m ────────────────────────────────────────── tidyverse_conflicts() ──\n",
            "\u001b[31m✖\u001b[39m \u001b[34mdplyr\u001b[39m::\u001b[32mfilter()\u001b[39m masks \u001b[34mstats\u001b[39m::filter()\n",
            "\u001b[31m✖\u001b[39m \u001b[34mdplyr\u001b[39m::\u001b[32mlag()\u001b[39m    masks \u001b[34mstats\u001b[39m::lag()\n",
            "\n"
          ]
        }
      ]
    },
    {
      "cell_type": "code",
      "source": [
        "df_flights <- flights\n",
        "options(repr.matrix.max.cols=50, repr.matrix.max.rows=10)\n",
        "df_flights"
      ],
      "metadata": {
        "colab": {
          "base_uri": "https://localhost:8080/",
          "height": 810
        },
        "id": "53_vbSZ07ORw",
        "outputId": "7558f30d-1a03-4d8b-809d-27d3b3306ae0"
      },
      "execution_count": null,
      "outputs": [
        {
          "output_type": "display_data",
          "data": {
            "text/html": [
              "<table class=\"dataframe\">\n",
              "<caption>A tibble: 336776 × 19</caption>\n",
              "<thead>\n",
              "\t<tr><th scope=col>year</th><th scope=col>month</th><th scope=col>day</th><th scope=col>dep_time</th><th scope=col>sched_dep_time</th><th scope=col>dep_delay</th><th scope=col>arr_time</th><th scope=col>sched_arr_time</th><th scope=col>arr_delay</th><th scope=col>carrier</th><th scope=col>flight</th><th scope=col>tailnum</th><th scope=col>origin</th><th scope=col>dest</th><th scope=col>air_time</th><th scope=col>distance</th><th scope=col>hour</th><th scope=col>minute</th><th scope=col>time_hour</th></tr>\n",
              "\t<tr><th scope=col>&lt;int&gt;</th><th scope=col>&lt;int&gt;</th><th scope=col>&lt;int&gt;</th><th scope=col>&lt;int&gt;</th><th scope=col>&lt;int&gt;</th><th scope=col>&lt;dbl&gt;</th><th scope=col>&lt;int&gt;</th><th scope=col>&lt;int&gt;</th><th scope=col>&lt;dbl&gt;</th><th scope=col>&lt;chr&gt;</th><th scope=col>&lt;int&gt;</th><th scope=col>&lt;chr&gt;</th><th scope=col>&lt;chr&gt;</th><th scope=col>&lt;chr&gt;</th><th scope=col>&lt;dbl&gt;</th><th scope=col>&lt;dbl&gt;</th><th scope=col>&lt;dbl&gt;</th><th scope=col>&lt;dbl&gt;</th><th scope=col>&lt;dttm&gt;</th></tr>\n",
              "</thead>\n",
              "<tbody>\n",
              "\t<tr><td>2013</td><td>1</td><td>1</td><td>517</td><td>515</td><td> 2</td><td> 830</td><td> 819</td><td> 11</td><td>UA</td><td>1545</td><td>N14228</td><td>EWR</td><td>IAH</td><td>227</td><td>1400</td><td>5</td><td>15</td><td>2013-01-01 05:00:00</td></tr>\n",
              "\t<tr><td>2013</td><td>1</td><td>1</td><td>533</td><td>529</td><td> 4</td><td> 850</td><td> 830</td><td> 20</td><td>UA</td><td>1714</td><td>N24211</td><td>LGA</td><td>IAH</td><td>227</td><td>1416</td><td>5</td><td>29</td><td>2013-01-01 05:00:00</td></tr>\n",
              "\t<tr><td>2013</td><td>1</td><td>1</td><td>542</td><td>540</td><td> 2</td><td> 923</td><td> 850</td><td> 33</td><td>AA</td><td>1141</td><td>N619AA</td><td>JFK</td><td>MIA</td><td>160</td><td>1089</td><td>5</td><td>40</td><td>2013-01-01 05:00:00</td></tr>\n",
              "\t<tr><td>2013</td><td>1</td><td>1</td><td>544</td><td>545</td><td>-1</td><td>1004</td><td>1022</td><td>-18</td><td>B6</td><td> 725</td><td>N804JB</td><td>JFK</td><td>BQN</td><td>183</td><td>1576</td><td>5</td><td>45</td><td>2013-01-01 05:00:00</td></tr>\n",
              "\t<tr><td>2013</td><td>1</td><td>1</td><td>554</td><td>600</td><td>-6</td><td> 812</td><td> 837</td><td>-25</td><td>DL</td><td> 461</td><td>N668DN</td><td>LGA</td><td>ATL</td><td>116</td><td> 762</td><td>6</td><td> 0</td><td>2013-01-01 06:00:00</td></tr>\n",
              "\t<tr><td>⋮</td><td>⋮</td><td>⋮</td><td>⋮</td><td>⋮</td><td>⋮</td><td>⋮</td><td>⋮</td><td>⋮</td><td>⋮</td><td>⋮</td><td>⋮</td><td>⋮</td><td>⋮</td><td>⋮</td><td>⋮</td><td>⋮</td><td>⋮</td><td>⋮</td></tr>\n",
              "\t<tr><td>2013</td><td>9</td><td>30</td><td>NA</td><td>1455</td><td>NA</td><td>NA</td><td>1634</td><td>NA</td><td>9E</td><td>3393</td><td>NA    </td><td>JFK</td><td>DCA</td><td>NA</td><td>213</td><td>14</td><td>55</td><td>2013-09-30 14:00:00</td></tr>\n",
              "\t<tr><td>2013</td><td>9</td><td>30</td><td>NA</td><td>2200</td><td>NA</td><td>NA</td><td>2312</td><td>NA</td><td>9E</td><td>3525</td><td>NA    </td><td>LGA</td><td>SYR</td><td>NA</td><td>198</td><td>22</td><td> 0</td><td>2013-09-30 22:00:00</td></tr>\n",
              "\t<tr><td>2013</td><td>9</td><td>30</td><td>NA</td><td>1210</td><td>NA</td><td>NA</td><td>1330</td><td>NA</td><td>MQ</td><td>3461</td><td>N535MQ</td><td>LGA</td><td>BNA</td><td>NA</td><td>764</td><td>12</td><td>10</td><td>2013-09-30 12:00:00</td></tr>\n",
              "\t<tr><td>2013</td><td>9</td><td>30</td><td>NA</td><td>1159</td><td>NA</td><td>NA</td><td>1344</td><td>NA</td><td>MQ</td><td>3572</td><td>N511MQ</td><td>LGA</td><td>CLE</td><td>NA</td><td>419</td><td>11</td><td>59</td><td>2013-09-30 11:00:00</td></tr>\n",
              "\t<tr><td>2013</td><td>9</td><td>30</td><td>NA</td><td> 840</td><td>NA</td><td>NA</td><td>1020</td><td>NA</td><td>MQ</td><td>3531</td><td>N839MQ</td><td>LGA</td><td>RDU</td><td>NA</td><td>431</td><td> 8</td><td>40</td><td>2013-09-30 08:00:00</td></tr>\n",
              "</tbody>\n",
              "</table>\n"
            ],
            "text/markdown": "\nA tibble: 336776 × 19\n\n| year &lt;int&gt; | month &lt;int&gt; | day &lt;int&gt; | dep_time &lt;int&gt; | sched_dep_time &lt;int&gt; | dep_delay &lt;dbl&gt; | arr_time &lt;int&gt; | sched_arr_time &lt;int&gt; | arr_delay &lt;dbl&gt; | carrier &lt;chr&gt; | flight &lt;int&gt; | tailnum &lt;chr&gt; | origin &lt;chr&gt; | dest &lt;chr&gt; | air_time &lt;dbl&gt; | distance &lt;dbl&gt; | hour &lt;dbl&gt; | minute &lt;dbl&gt; | time_hour &lt;dttm&gt; |\n|---|---|---|---|---|---|---|---|---|---|---|---|---|---|---|---|---|---|---|\n| 2013 | 1 | 1 | 517 | 515 |  2 |  830 |  819 |  11 | UA | 1545 | N14228 | EWR | IAH | 227 | 1400 | 5 | 15 | 2013-01-01 05:00:00 |\n| 2013 | 1 | 1 | 533 | 529 |  4 |  850 |  830 |  20 | UA | 1714 | N24211 | LGA | IAH | 227 | 1416 | 5 | 29 | 2013-01-01 05:00:00 |\n| 2013 | 1 | 1 | 542 | 540 |  2 |  923 |  850 |  33 | AA | 1141 | N619AA | JFK | MIA | 160 | 1089 | 5 | 40 | 2013-01-01 05:00:00 |\n| 2013 | 1 | 1 | 544 | 545 | -1 | 1004 | 1022 | -18 | B6 |  725 | N804JB | JFK | BQN | 183 | 1576 | 5 | 45 | 2013-01-01 05:00:00 |\n| 2013 | 1 | 1 | 554 | 600 | -6 |  812 |  837 | -25 | DL |  461 | N668DN | LGA | ATL | 116 |  762 | 6 |  0 | 2013-01-01 06:00:00 |\n| ⋮ | ⋮ | ⋮ | ⋮ | ⋮ | ⋮ | ⋮ | ⋮ | ⋮ | ⋮ | ⋮ | ⋮ | ⋮ | ⋮ | ⋮ | ⋮ | ⋮ | ⋮ | ⋮ |\n| 2013 | 9 | 30 | NA | 1455 | NA | NA | 1634 | NA | 9E | 3393 | NA     | JFK | DCA | NA | 213 | 14 | 55 | 2013-09-30 14:00:00 |\n| 2013 | 9 | 30 | NA | 2200 | NA | NA | 2312 | NA | 9E | 3525 | NA     | LGA | SYR | NA | 198 | 22 |  0 | 2013-09-30 22:00:00 |\n| 2013 | 9 | 30 | NA | 1210 | NA | NA | 1330 | NA | MQ | 3461 | N535MQ | LGA | BNA | NA | 764 | 12 | 10 | 2013-09-30 12:00:00 |\n| 2013 | 9 | 30 | NA | 1159 | NA | NA | 1344 | NA | MQ | 3572 | N511MQ | LGA | CLE | NA | 419 | 11 | 59 | 2013-09-30 11:00:00 |\n| 2013 | 9 | 30 | NA |  840 | NA | NA | 1020 | NA | MQ | 3531 | N839MQ | LGA | RDU | NA | 431 |  8 | 40 | 2013-09-30 08:00:00 |\n\n",
            "text/latex": "A tibble: 336776 × 19\n\\begin{tabular}{lllllllllllllllllll}\n year & month & day & dep\\_time & sched\\_dep\\_time & dep\\_delay & arr\\_time & sched\\_arr\\_time & arr\\_delay & carrier & flight & tailnum & origin & dest & air\\_time & distance & hour & minute & time\\_hour\\\\\n <int> & <int> & <int> & <int> & <int> & <dbl> & <int> & <int> & <dbl> & <chr> & <int> & <chr> & <chr> & <chr> & <dbl> & <dbl> & <dbl> & <dbl> & <dttm>\\\\\n\\hline\n\t 2013 & 1 & 1 & 517 & 515 &  2 &  830 &  819 &  11 & UA & 1545 & N14228 & EWR & IAH & 227 & 1400 & 5 & 15 & 2013-01-01 05:00:00\\\\\n\t 2013 & 1 & 1 & 533 & 529 &  4 &  850 &  830 &  20 & UA & 1714 & N24211 & LGA & IAH & 227 & 1416 & 5 & 29 & 2013-01-01 05:00:00\\\\\n\t 2013 & 1 & 1 & 542 & 540 &  2 &  923 &  850 &  33 & AA & 1141 & N619AA & JFK & MIA & 160 & 1089 & 5 & 40 & 2013-01-01 05:00:00\\\\\n\t 2013 & 1 & 1 & 544 & 545 & -1 & 1004 & 1022 & -18 & B6 &  725 & N804JB & JFK & BQN & 183 & 1576 & 5 & 45 & 2013-01-01 05:00:00\\\\\n\t 2013 & 1 & 1 & 554 & 600 & -6 &  812 &  837 & -25 & DL &  461 & N668DN & LGA & ATL & 116 &  762 & 6 &  0 & 2013-01-01 06:00:00\\\\\n\t ⋮ & ⋮ & ⋮ & ⋮ & ⋮ & ⋮ & ⋮ & ⋮ & ⋮ & ⋮ & ⋮ & ⋮ & ⋮ & ⋮ & ⋮ & ⋮ & ⋮ & ⋮ & ⋮\\\\\n\t 2013 & 9 & 30 & NA & 1455 & NA & NA & 1634 & NA & 9E & 3393 & NA     & JFK & DCA & NA & 213 & 14 & 55 & 2013-09-30 14:00:00\\\\\n\t 2013 & 9 & 30 & NA & 2200 & NA & NA & 2312 & NA & 9E & 3525 & NA     & LGA & SYR & NA & 198 & 22 &  0 & 2013-09-30 22:00:00\\\\\n\t 2013 & 9 & 30 & NA & 1210 & NA & NA & 1330 & NA & MQ & 3461 & N535MQ & LGA & BNA & NA & 764 & 12 & 10 & 2013-09-30 12:00:00\\\\\n\t 2013 & 9 & 30 & NA & 1159 & NA & NA & 1344 & NA & MQ & 3572 & N511MQ & LGA & CLE & NA & 419 & 11 & 59 & 2013-09-30 11:00:00\\\\\n\t 2013 & 9 & 30 & NA &  840 & NA & NA & 1020 & NA & MQ & 3531 & N839MQ & LGA & RDU & NA & 431 &  8 & 40 & 2013-09-30 08:00:00\\\\\n\\end{tabular}\n",
            "text/plain": [
              "       year month day dep_time sched_dep_time dep_delay arr_time sched_arr_time\n",
              "1      2013 1     1   517      515             2         830      819          \n",
              "2      2013 1     1   533      529             4         850      830          \n",
              "3      2013 1     1   542      540             2         923      850          \n",
              "4      2013 1     1   544      545            -1        1004     1022          \n",
              "5      2013 1     1   554      600            -6         812      837          \n",
              "⋮      ⋮    ⋮     ⋮   ⋮        ⋮              ⋮         ⋮        ⋮             \n",
              "336772 2013 9     30  NA       1455           NA        NA       1634          \n",
              "336773 2013 9     30  NA       2200           NA        NA       2312          \n",
              "336774 2013 9     30  NA       1210           NA        NA       1330          \n",
              "336775 2013 9     30  NA       1159           NA        NA       1344          \n",
              "336776 2013 9     30  NA        840           NA        NA       1020          \n",
              "       arr_delay carrier flight tailnum origin dest air_time distance hour\n",
              "1       11       UA      1545   N14228  EWR    IAH  227      1400     5   \n",
              "2       20       UA      1714   N24211  LGA    IAH  227      1416     5   \n",
              "3       33       AA      1141   N619AA  JFK    MIA  160      1089     5   \n",
              "4      -18       B6       725   N804JB  JFK    BQN  183      1576     5   \n",
              "5      -25       DL       461   N668DN  LGA    ATL  116       762     6   \n",
              "⋮      ⋮         ⋮       ⋮      ⋮       ⋮      ⋮    ⋮        ⋮        ⋮   \n",
              "336772 NA        9E      3393   NA      JFK    DCA  NA       213      14  \n",
              "336773 NA        9E      3525   NA      LGA    SYR  NA       198      22  \n",
              "336774 NA        MQ      3461   N535MQ  LGA    BNA  NA       764      12  \n",
              "336775 NA        MQ      3572   N511MQ  LGA    CLE  NA       419      11  \n",
              "336776 NA        MQ      3531   N839MQ  LGA    RDU  NA       431       8  \n",
              "       minute time_hour          \n",
              "1      15     2013-01-01 05:00:00\n",
              "2      29     2013-01-01 05:00:00\n",
              "3      40     2013-01-01 05:00:00\n",
              "4      45     2013-01-01 05:00:00\n",
              "5       0     2013-01-01 06:00:00\n",
              "⋮      ⋮      ⋮                  \n",
              "336772 55     2013-09-30 14:00:00\n",
              "336773  0     2013-09-30 22:00:00\n",
              "336774 10     2013-09-30 12:00:00\n",
              "336775 59     2013-09-30 11:00:00\n",
              "336776 40     2013-09-30 08:00:00"
            ]
          },
          "metadata": {}
        }
      ]
    },
    {
      "cell_type": "code",
      "source": [
        "df_airlines <- airlines\n",
        "df_airlines"
      ],
      "metadata": {
        "colab": {
          "base_uri": "https://localhost:8080/",
          "height": 443
        },
        "id": "jtiqC8jCFzN5",
        "outputId": "697f3d67-b7c8-4410-8b75-1225a3695817"
      },
      "execution_count": null,
      "outputs": [
        {
          "output_type": "display_data",
          "data": {
            "text/html": [
              "<table class=\"dataframe\">\n",
              "<caption>A tibble: 16 × 2</caption>\n",
              "<thead>\n",
              "\t<tr><th scope=col>carrier</th><th scope=col>name</th></tr>\n",
              "\t<tr><th scope=col>&lt;chr&gt;</th><th scope=col>&lt;chr&gt;</th></tr>\n",
              "</thead>\n",
              "<tbody>\n",
              "\t<tr><td>9E</td><td>Endeavor Air Inc.     </td></tr>\n",
              "\t<tr><td>AA</td><td>American Airlines Inc.</td></tr>\n",
              "\t<tr><td>AS</td><td>Alaska Airlines Inc.  </td></tr>\n",
              "\t<tr><td>B6</td><td>JetBlue Airways       </td></tr>\n",
              "\t<tr><td>DL</td><td>Delta Air Lines Inc.  </td></tr>\n",
              "\t<tr><td>⋮</td><td>⋮</td></tr>\n",
              "\t<tr><td>UA</td><td>United Air Lines Inc. </td></tr>\n",
              "\t<tr><td>US</td><td>US Airways Inc.       </td></tr>\n",
              "\t<tr><td>VX</td><td>Virgin America        </td></tr>\n",
              "\t<tr><td>WN</td><td>Southwest Airlines Co.</td></tr>\n",
              "\t<tr><td>YV</td><td>Mesa Airlines Inc.    </td></tr>\n",
              "</tbody>\n",
              "</table>\n"
            ],
            "text/markdown": "\nA tibble: 16 × 2\n\n| carrier &lt;chr&gt; | name &lt;chr&gt; |\n|---|---|\n| 9E | Endeavor Air Inc.      |\n| AA | American Airlines Inc. |\n| AS | Alaska Airlines Inc.   |\n| B6 | JetBlue Airways        |\n| DL | Delta Air Lines Inc.   |\n| ⋮ | ⋮ |\n| UA | United Air Lines Inc.  |\n| US | US Airways Inc.        |\n| VX | Virgin America         |\n| WN | Southwest Airlines Co. |\n| YV | Mesa Airlines Inc.     |\n\n",
            "text/latex": "A tibble: 16 × 2\n\\begin{tabular}{ll}\n carrier & name\\\\\n <chr> & <chr>\\\\\n\\hline\n\t 9E & Endeavor Air Inc.     \\\\\n\t AA & American Airlines Inc.\\\\\n\t AS & Alaska Airlines Inc.  \\\\\n\t B6 & JetBlue Airways       \\\\\n\t DL & Delta Air Lines Inc.  \\\\\n\t ⋮ & ⋮\\\\\n\t UA & United Air Lines Inc. \\\\\n\t US & US Airways Inc.       \\\\\n\t VX & Virgin America        \\\\\n\t WN & Southwest Airlines Co.\\\\\n\t YV & Mesa Airlines Inc.    \\\\\n\\end{tabular}\n",
            "text/plain": [
              "   carrier name                  \n",
              "1  9E      Endeavor Air Inc.     \n",
              "2  AA      American Airlines Inc.\n",
              "3  AS      Alaska Airlines Inc.  \n",
              "4  B6      JetBlue Airways       \n",
              "5  DL      Delta Air Lines Inc.  \n",
              "⋮  ⋮       ⋮                     \n",
              "12 UA      United Air Lines Inc. \n",
              "13 US      US Airways Inc.       \n",
              "14 VX      Virgin America        \n",
              "15 WN      Southwest Airlines Co.\n",
              "16 YV      Mesa Airlines Inc.    "
            ]
          },
          "metadata": {}
        }
      ]
    },
    {
      "cell_type": "code",
      "source": [
        "df_airports <- airports\n",
        "df_airports"
      ],
      "metadata": {
        "colab": {
          "base_uri": "https://localhost:8080/",
          "height": 1000
        },
        "id": "7wSu3D1hAKqg",
        "outputId": "40957216-29ba-48cb-f1ff-b3dcfc212f51"
      },
      "execution_count": null,
      "outputs": [
        {
          "output_type": "display_data",
          "data": {
            "text/html": [
              "<table class=\"dataframe\">\n",
              "<caption>A tibble: 1458 × 8</caption>\n",
              "<thead>\n",
              "\t<tr><th scope=col>faa</th><th scope=col>name</th><th scope=col>lat</th><th scope=col>lon</th><th scope=col>alt</th><th scope=col>tz</th><th scope=col>dst</th><th scope=col>tzone</th></tr>\n",
              "\t<tr><th scope=col>&lt;chr&gt;</th><th scope=col>&lt;chr&gt;</th><th scope=col>&lt;dbl&gt;</th><th scope=col>&lt;dbl&gt;</th><th scope=col>&lt;dbl&gt;</th><th scope=col>&lt;dbl&gt;</th><th scope=col>&lt;chr&gt;</th><th scope=col>&lt;chr&gt;</th></tr>\n",
              "</thead>\n",
              "<tbody>\n",
              "\t<tr><td>04G</td><td>Lansdowne Airport                   </td><td>41.13047</td><td> -80.61958</td><td>1044</td><td>-5</td><td>A</td><td>America/New_York   </td></tr>\n",
              "\t<tr><td>06A</td><td>Moton Field Municipal Airport       </td><td>32.46057</td><td> -85.68003</td><td> 264</td><td>-6</td><td>A</td><td>America/Chicago    </td></tr>\n",
              "\t<tr><td>06C</td><td>Schaumburg Regional                 </td><td>41.98934</td><td> -88.10124</td><td> 801</td><td>-6</td><td>A</td><td>America/Chicago    </td></tr>\n",
              "\t<tr><td>06N</td><td>Randall Airport                     </td><td>41.43191</td><td> -74.39156</td><td> 523</td><td>-5</td><td>A</td><td>America/New_York   </td></tr>\n",
              "\t<tr><td>09J</td><td>Jekyll Island Airport               </td><td>31.07447</td><td> -81.42778</td><td>  11</td><td>-5</td><td>A</td><td>America/New_York   </td></tr>\n",
              "\t<tr><td>0A9</td><td>Elizabethton Municipal Airport      </td><td>36.37122</td><td> -82.17342</td><td>1593</td><td>-5</td><td>A</td><td>America/New_York   </td></tr>\n",
              "\t<tr><td>0G6</td><td>Williams County Airport             </td><td>41.46731</td><td> -84.50678</td><td> 730</td><td>-5</td><td>A</td><td>America/New_York   </td></tr>\n",
              "\t<tr><td>0G7</td><td>Finger Lakes Regional Airport       </td><td>42.88356</td><td> -76.78123</td><td> 492</td><td>-5</td><td>A</td><td>America/New_York   </td></tr>\n",
              "\t<tr><td>0P2</td><td>Shoestring Aviation Airfield        </td><td>39.79482</td><td> -76.64719</td><td>1000</td><td>-5</td><td>U</td><td>America/New_York   </td></tr>\n",
              "\t<tr><td>0S9</td><td>Jefferson County Intl               </td><td>48.05381</td><td>-122.81064</td><td> 108</td><td>-8</td><td>A</td><td>America/Los_Angeles</td></tr>\n",
              "\t<tr><td>0W3</td><td>Harford County Airport              </td><td>39.56684</td><td> -76.20240</td><td> 409</td><td>-5</td><td>A</td><td>America/New_York   </td></tr>\n",
              "\t<tr><td>10C</td><td>Galt Field Airport                  </td><td>42.40289</td><td> -88.37511</td><td> 875</td><td>-6</td><td>U</td><td>America/Chicago    </td></tr>\n",
              "\t<tr><td>17G</td><td>Port Bucyrus-Crawford County Airport</td><td>40.78156</td><td> -82.97481</td><td>1003</td><td>-5</td><td>A</td><td>America/New_York   </td></tr>\n",
              "\t<tr><td>19A</td><td>Jackson County Airport              </td><td>34.17586</td><td> -83.56160</td><td> 951</td><td>-5</td><td>U</td><td>America/New_York   </td></tr>\n",
              "\t<tr><td>1A3</td><td>Martin Campbell Field Airport       </td><td>35.01581</td><td> -84.34683</td><td>1789</td><td>-5</td><td>A</td><td>America/New_York   </td></tr>\n",
              "\t<tr><td>1B9</td><td>Mansfield Municipal                 </td><td>42.00013</td><td> -71.19677</td><td> 122</td><td>-5</td><td>A</td><td>America/New_York   </td></tr>\n",
              "\t<tr><td>1C9</td><td>Frazier Lake Airpark                </td><td>54.01333</td><td>-124.76833</td><td> 152</td><td>-8</td><td>A</td><td>America/Vancouver  </td></tr>\n",
              "\t<tr><td>1CS</td><td>Clow International Airport          </td><td>41.69597</td><td> -88.12923</td><td> 670</td><td>-6</td><td>U</td><td>America/Chicago    </td></tr>\n",
              "\t<tr><td>1G3</td><td>Kent State Airport                  </td><td>41.15139</td><td> -81.41511</td><td>1134</td><td>-5</td><td>A</td><td>America/New_York   </td></tr>\n",
              "\t<tr><td>1G4</td><td>Grand Canyon West Airport           </td><td>35.89990</td><td>-113.81567</td><td>4813</td><td>-7</td><td>A</td><td>America/Phoenix    </td></tr>\n",
              "\t<tr><td>1H2</td><td>Effingham Memorial Airport          </td><td>39.07000</td><td> -88.53400</td><td> 585</td><td>-6</td><td>A</td><td>America/Chicago    </td></tr>\n",
              "\t<tr><td>1OH</td><td>Fortman Airport                     </td><td>40.55533</td><td> -84.38662</td><td> 885</td><td>-5</td><td>U</td><td>America/New_York   </td></tr>\n",
              "\t<tr><td>1RL</td><td>Point Roberts Airpark               </td><td>48.97972</td><td>-123.07889</td><td>  10</td><td>-8</td><td>A</td><td>America/Los_Angeles</td></tr>\n",
              "\t<tr><td>23M</td><td>Clarke CO                           </td><td>32.05170</td><td> -88.44340</td><td> 320</td><td>-6</td><td>A</td><td>America/Chicago    </td></tr>\n",
              "\t<tr><td>24C</td><td>Lowell City Airport                 </td><td>42.95392</td><td> -85.34391</td><td> 681</td><td>-5</td><td>A</td><td>America/New_York   </td></tr>\n",
              "\t<tr><td>24J</td><td>Suwannee County Airport             </td><td>30.30013</td><td> -83.02469</td><td> 104</td><td>-5</td><td>A</td><td>America/New_York   </td></tr>\n",
              "\t<tr><td>25D</td><td>Forest Lake Airport                 </td><td>45.24775</td><td> -92.99439</td><td> 925</td><td>-6</td><td>A</td><td>America/Chicago    </td></tr>\n",
              "\t<tr><td>29D</td><td>Grove City Airport                  </td><td>41.14603</td><td> -80.16775</td><td>1371</td><td>-5</td><td>A</td><td>America/New_York   </td></tr>\n",
              "\t<tr><td>2A0</td><td>Mark Anton Airport                  </td><td>35.48625</td><td> -84.93108</td><td> 718</td><td>-5</td><td>A</td><td>America/New_York   </td></tr>\n",
              "\t<tr><td>2B2</td><td>Plum Island Airport                 </td><td>42.79536</td><td> -70.83944</td><td>  11</td><td>-5</td><td>A</td><td>America/New_York   </td></tr>\n",
              "\t<tr><td>⋮</td><td>⋮</td><td>⋮</td><td>⋮</td><td>⋮</td><td>⋮</td><td>⋮</td><td>⋮</td></tr>\n",
              "\t<tr><td>X59</td><td>Valkaria Municipal                  </td><td>27.96086</td><td> -80.55833</td><td>  26</td><td>-5</td><td>A</td><td>America/New_York   </td></tr>\n",
              "\t<tr><td>XFL</td><td>Flagler County Airport              </td><td>29.28210</td><td> -81.12120</td><td>  33</td><td>-5</td><td>A</td><td>America/New_York   </td></tr>\n",
              "\t<tr><td>XNA</td><td>NW Arkansas Regional                </td><td>36.28187</td><td> -94.30681</td><td>1287</td><td>-6</td><td>A</td><td>America/Chicago    </td></tr>\n",
              "\t<tr><td>XZK</td><td>Amherst Amtrak Station AMM          </td><td>42.37500</td><td> -72.51139</td><td> 258</td><td>-5</td><td>A</td><td>America/New_York   </td></tr>\n",
              "\t<tr><td>Y51</td><td>Municipal Airport                   </td><td>43.57936</td><td> -90.89647</td><td>1292</td><td>-6</td><td>A</td><td>America/Chicago    </td></tr>\n",
              "\t<tr><td>Y72</td><td>Bloyer Field                        </td><td>43.97622</td><td> -90.48061</td><td> 966</td><td>-6</td><td>A</td><td>America/Chicago    </td></tr>\n",
              "\t<tr><td>YAK</td><td>Yakutat                             </td><td>59.30120</td><td>-139.39370</td><td>  33</td><td>-9</td><td>A</td><td>NA                 </td></tr>\n",
              "\t<tr><td>YIP</td><td>Willow Run                          </td><td>42.23793</td><td> -83.53041</td><td> 716</td><td>-5</td><td>A</td><td>America/New_York   </td></tr>\n",
              "\t<tr><td>YKM</td><td>Yakima Air Terminal McAllister Field</td><td>46.56820</td><td>-120.54400</td><td>1095</td><td>-8</td><td>A</td><td>America/Los_Angeles</td></tr>\n",
              "\t<tr><td>YKN</td><td>Chan Gurney                         </td><td>42.87110</td><td> -97.39690</td><td>1200</td><td>-6</td><td>A</td><td>America/Chicago    </td></tr>\n",
              "\t<tr><td>YNG</td><td>Youngstown Warren Rgnl              </td><td>41.26074</td><td> -80.67910</td><td>1196</td><td>-5</td><td>A</td><td>America/New_York   </td></tr>\n",
              "\t<tr><td>YUM</td><td>Yuma Mcas Yuma Intl                 </td><td>32.65658</td><td>-114.60598</td><td> 216</td><td>-7</td><td>N</td><td>America/Phoenix    </td></tr>\n",
              "\t<tr><td>Z84</td><td>Clear                               </td><td>64.30120</td><td>-149.12014</td><td> 552</td><td>-9</td><td>A</td><td>America/Anchorage  </td></tr>\n",
              "\t<tr><td>ZBP</td><td>Penn Station                        </td><td>39.30722</td><td> -76.61556</td><td>  66</td><td>-5</td><td>A</td><td>America/New_York   </td></tr>\n",
              "\t<tr><td>ZFV</td><td>Philadelphia 30th St Station        </td><td>39.95570</td><td> -75.18200</td><td>   0</td><td>-5</td><td>A</td><td>America/New_York   </td></tr>\n",
              "\t<tr><td>ZPH</td><td>Municipal Airport                   </td><td>28.22806</td><td> -82.15583</td><td>  90</td><td>-5</td><td>A</td><td>America/New_York   </td></tr>\n",
              "\t<tr><td>ZRA</td><td>Atlantic City Rail Terminal         </td><td>39.36650</td><td> -74.44200</td><td>   8</td><td>-5</td><td>A</td><td>America/New_York   </td></tr>\n",
              "\t<tr><td>ZRD</td><td>Train Station                       </td><td>37.53430</td><td> -77.42945</td><td>  26</td><td>-5</td><td>A</td><td>America/New_York   </td></tr>\n",
              "\t<tr><td>ZRP</td><td>Newark Penn Station                 </td><td>40.73472</td><td> -74.16417</td><td>   0</td><td>-5</td><td>A</td><td>America/New_York   </td></tr>\n",
              "\t<tr><td>ZRT</td><td>Hartford Union Station              </td><td>41.76888</td><td> -72.68150</td><td>   0</td><td>-5</td><td>A</td><td>America/New_York   </td></tr>\n",
              "\t<tr><td>ZRZ</td><td>New Carrollton Rail Station         </td><td>38.94800</td><td> -76.87190</td><td>  39</td><td>-5</td><td>A</td><td>America/New_York   </td></tr>\n",
              "\t<tr><td>ZSF</td><td>Springfield Amtrak Station          </td><td>42.10600</td><td> -72.59305</td><td>  65</td><td>-5</td><td>A</td><td>America/New_York   </td></tr>\n",
              "\t<tr><td>ZSY</td><td>Scottsdale Airport                  </td><td>33.62289</td><td>-111.91053</td><td>1519</td><td>-7</td><td>A</td><td>America/Phoenix    </td></tr>\n",
              "\t<tr><td>ZTF</td><td>Stamford Amtrak Station             </td><td>41.04694</td><td> -73.54149</td><td>   0</td><td>-5</td><td>A</td><td>America/New_York   </td></tr>\n",
              "\t<tr><td>ZTY</td><td>Boston Back Bay Station             </td><td>42.34780</td><td> -71.07500</td><td>  20</td><td>-5</td><td>A</td><td>America/New_York   </td></tr>\n",
              "\t<tr><td>ZUN</td><td>Black Rock                          </td><td>35.08323</td><td>-108.79178</td><td>6454</td><td>-7</td><td>A</td><td>America/Denver     </td></tr>\n",
              "\t<tr><td>ZVE</td><td>New Haven Rail Station              </td><td>41.29867</td><td> -72.92599</td><td>   7</td><td>-5</td><td>A</td><td>America/New_York   </td></tr>\n",
              "\t<tr><td>ZWI</td><td>Wilmington Amtrak Station           </td><td>39.73667</td><td> -75.55167</td><td>   0</td><td>-5</td><td>A</td><td>America/New_York   </td></tr>\n",
              "\t<tr><td>ZWU</td><td>Washington Union Station            </td><td>38.89746</td><td> -77.00643</td><td>  76</td><td>-5</td><td>A</td><td>America/New_York   </td></tr>\n",
              "\t<tr><td>ZYP</td><td>Penn Station                        </td><td>40.75050</td><td> -73.99350</td><td>  35</td><td>-5</td><td>A</td><td>America/New_York   </td></tr>\n",
              "</tbody>\n",
              "</table>\n"
            ],
            "text/markdown": "\nA tibble: 1458 × 8\n\n| faa &lt;chr&gt; | name &lt;chr&gt; | lat &lt;dbl&gt; | lon &lt;dbl&gt; | alt &lt;dbl&gt; | tz &lt;dbl&gt; | dst &lt;chr&gt; | tzone &lt;chr&gt; |\n|---|---|---|---|---|---|---|---|\n| 04G | Lansdowne Airport                    | 41.13047 |  -80.61958 | 1044 | -5 | A | America/New_York    |\n| 06A | Moton Field Municipal Airport        | 32.46057 |  -85.68003 |  264 | -6 | A | America/Chicago     |\n| 06C | Schaumburg Regional                  | 41.98934 |  -88.10124 |  801 | -6 | A | America/Chicago     |\n| 06N | Randall Airport                      | 41.43191 |  -74.39156 |  523 | -5 | A | America/New_York    |\n| 09J | Jekyll Island Airport                | 31.07447 |  -81.42778 |   11 | -5 | A | America/New_York    |\n| 0A9 | Elizabethton Municipal Airport       | 36.37122 |  -82.17342 | 1593 | -5 | A | America/New_York    |\n| 0G6 | Williams County Airport              | 41.46731 |  -84.50678 |  730 | -5 | A | America/New_York    |\n| 0G7 | Finger Lakes Regional Airport        | 42.88356 |  -76.78123 |  492 | -5 | A | America/New_York    |\n| 0P2 | Shoestring Aviation Airfield         | 39.79482 |  -76.64719 | 1000 | -5 | U | America/New_York    |\n| 0S9 | Jefferson County Intl                | 48.05381 | -122.81064 |  108 | -8 | A | America/Los_Angeles |\n| 0W3 | Harford County Airport               | 39.56684 |  -76.20240 |  409 | -5 | A | America/New_York    |\n| 10C | Galt Field Airport                   | 42.40289 |  -88.37511 |  875 | -6 | U | America/Chicago     |\n| 17G | Port Bucyrus-Crawford County Airport | 40.78156 |  -82.97481 | 1003 | -5 | A | America/New_York    |\n| 19A | Jackson County Airport               | 34.17586 |  -83.56160 |  951 | -5 | U | America/New_York    |\n| 1A3 | Martin Campbell Field Airport        | 35.01581 |  -84.34683 | 1789 | -5 | A | America/New_York    |\n| 1B9 | Mansfield Municipal                  | 42.00013 |  -71.19677 |  122 | -5 | A | America/New_York    |\n| 1C9 | Frazier Lake Airpark                 | 54.01333 | -124.76833 |  152 | -8 | A | America/Vancouver   |\n| 1CS | Clow International Airport           | 41.69597 |  -88.12923 |  670 | -6 | U | America/Chicago     |\n| 1G3 | Kent State Airport                   | 41.15139 |  -81.41511 | 1134 | -5 | A | America/New_York    |\n| 1G4 | Grand Canyon West Airport            | 35.89990 | -113.81567 | 4813 | -7 | A | America/Phoenix     |\n| 1H2 | Effingham Memorial Airport           | 39.07000 |  -88.53400 |  585 | -6 | A | America/Chicago     |\n| 1OH | Fortman Airport                      | 40.55533 |  -84.38662 |  885 | -5 | U | America/New_York    |\n| 1RL | Point Roberts Airpark                | 48.97972 | -123.07889 |   10 | -8 | A | America/Los_Angeles |\n| 23M | Clarke CO                            | 32.05170 |  -88.44340 |  320 | -6 | A | America/Chicago     |\n| 24C | Lowell City Airport                  | 42.95392 |  -85.34391 |  681 | -5 | A | America/New_York    |\n| 24J | Suwannee County Airport              | 30.30013 |  -83.02469 |  104 | -5 | A | America/New_York    |\n| 25D | Forest Lake Airport                  | 45.24775 |  -92.99439 |  925 | -6 | A | America/Chicago     |\n| 29D | Grove City Airport                   | 41.14603 |  -80.16775 | 1371 | -5 | A | America/New_York    |\n| 2A0 | Mark Anton Airport                   | 35.48625 |  -84.93108 |  718 | -5 | A | America/New_York    |\n| 2B2 | Plum Island Airport                  | 42.79536 |  -70.83944 |   11 | -5 | A | America/New_York    |\n| ⋮ | ⋮ | ⋮ | ⋮ | ⋮ | ⋮ | ⋮ | ⋮ |\n| X59 | Valkaria Municipal                   | 27.96086 |  -80.55833 |   26 | -5 | A | America/New_York    |\n| XFL | Flagler County Airport               | 29.28210 |  -81.12120 |   33 | -5 | A | America/New_York    |\n| XNA | NW Arkansas Regional                 | 36.28187 |  -94.30681 | 1287 | -6 | A | America/Chicago     |\n| XZK | Amherst Amtrak Station AMM           | 42.37500 |  -72.51139 |  258 | -5 | A | America/New_York    |\n| Y51 | Municipal Airport                    | 43.57936 |  -90.89647 | 1292 | -6 | A | America/Chicago     |\n| Y72 | Bloyer Field                         | 43.97622 |  -90.48061 |  966 | -6 | A | America/Chicago     |\n| YAK | Yakutat                              | 59.30120 | -139.39370 |   33 | -9 | A | NA                  |\n| YIP | Willow Run                           | 42.23793 |  -83.53041 |  716 | -5 | A | America/New_York    |\n| YKM | Yakima Air Terminal McAllister Field | 46.56820 | -120.54400 | 1095 | -8 | A | America/Los_Angeles |\n| YKN | Chan Gurney                          | 42.87110 |  -97.39690 | 1200 | -6 | A | America/Chicago     |\n| YNG | Youngstown Warren Rgnl               | 41.26074 |  -80.67910 | 1196 | -5 | A | America/New_York    |\n| YUM | Yuma Mcas Yuma Intl                  | 32.65658 | -114.60598 |  216 | -7 | N | America/Phoenix     |\n| Z84 | Clear                                | 64.30120 | -149.12014 |  552 | -9 | A | America/Anchorage   |\n| ZBP | Penn Station                         | 39.30722 |  -76.61556 |   66 | -5 | A | America/New_York    |\n| ZFV | Philadelphia 30th St Station         | 39.95570 |  -75.18200 |    0 | -5 | A | America/New_York    |\n| ZPH | Municipal Airport                    | 28.22806 |  -82.15583 |   90 | -5 | A | America/New_York    |\n| ZRA | Atlantic City Rail Terminal          | 39.36650 |  -74.44200 |    8 | -5 | A | America/New_York    |\n| ZRD | Train Station                        | 37.53430 |  -77.42945 |   26 | -5 | A | America/New_York    |\n| ZRP | Newark Penn Station                  | 40.73472 |  -74.16417 |    0 | -5 | A | America/New_York    |\n| ZRT | Hartford Union Station               | 41.76888 |  -72.68150 |    0 | -5 | A | America/New_York    |\n| ZRZ | New Carrollton Rail Station          | 38.94800 |  -76.87190 |   39 | -5 | A | America/New_York    |\n| ZSF | Springfield Amtrak Station           | 42.10600 |  -72.59305 |   65 | -5 | A | America/New_York    |\n| ZSY | Scottsdale Airport                   | 33.62289 | -111.91053 | 1519 | -7 | A | America/Phoenix     |\n| ZTF | Stamford Amtrak Station              | 41.04694 |  -73.54149 |    0 | -5 | A | America/New_York    |\n| ZTY | Boston Back Bay Station              | 42.34780 |  -71.07500 |   20 | -5 | A | America/New_York    |\n| ZUN | Black Rock                           | 35.08323 | -108.79178 | 6454 | -7 | A | America/Denver      |\n| ZVE | New Haven Rail Station               | 41.29867 |  -72.92599 |    7 | -5 | A | America/New_York    |\n| ZWI | Wilmington Amtrak Station            | 39.73667 |  -75.55167 |    0 | -5 | A | America/New_York    |\n| ZWU | Washington Union Station             | 38.89746 |  -77.00643 |   76 | -5 | A | America/New_York    |\n| ZYP | Penn Station                         | 40.75050 |  -73.99350 |   35 | -5 | A | America/New_York    |\n\n",
            "text/latex": "A tibble: 1458 × 8\n\\begin{tabular}{llllllll}\n faa & name & lat & lon & alt & tz & dst & tzone\\\\\n <chr> & <chr> & <dbl> & <dbl> & <dbl> & <dbl> & <chr> & <chr>\\\\\n\\hline\n\t 04G & Lansdowne Airport                    & 41.13047 &  -80.61958 & 1044 & -5 & A & America/New\\_York   \\\\\n\t 06A & Moton Field Municipal Airport        & 32.46057 &  -85.68003 &  264 & -6 & A & America/Chicago    \\\\\n\t 06C & Schaumburg Regional                  & 41.98934 &  -88.10124 &  801 & -6 & A & America/Chicago    \\\\\n\t 06N & Randall Airport                      & 41.43191 &  -74.39156 &  523 & -5 & A & America/New\\_York   \\\\\n\t 09J & Jekyll Island Airport                & 31.07447 &  -81.42778 &   11 & -5 & A & America/New\\_York   \\\\\n\t 0A9 & Elizabethton Municipal Airport       & 36.37122 &  -82.17342 & 1593 & -5 & A & America/New\\_York   \\\\\n\t 0G6 & Williams County Airport              & 41.46731 &  -84.50678 &  730 & -5 & A & America/New\\_York   \\\\\n\t 0G7 & Finger Lakes Regional Airport        & 42.88356 &  -76.78123 &  492 & -5 & A & America/New\\_York   \\\\\n\t 0P2 & Shoestring Aviation Airfield         & 39.79482 &  -76.64719 & 1000 & -5 & U & America/New\\_York   \\\\\n\t 0S9 & Jefferson County Intl                & 48.05381 & -122.81064 &  108 & -8 & A & America/Los\\_Angeles\\\\\n\t 0W3 & Harford County Airport               & 39.56684 &  -76.20240 &  409 & -5 & A & America/New\\_York   \\\\\n\t 10C & Galt Field Airport                   & 42.40289 &  -88.37511 &  875 & -6 & U & America/Chicago    \\\\\n\t 17G & Port Bucyrus-Crawford County Airport & 40.78156 &  -82.97481 & 1003 & -5 & A & America/New\\_York   \\\\\n\t 19A & Jackson County Airport               & 34.17586 &  -83.56160 &  951 & -5 & U & America/New\\_York   \\\\\n\t 1A3 & Martin Campbell Field Airport        & 35.01581 &  -84.34683 & 1789 & -5 & A & America/New\\_York   \\\\\n\t 1B9 & Mansfield Municipal                  & 42.00013 &  -71.19677 &  122 & -5 & A & America/New\\_York   \\\\\n\t 1C9 & Frazier Lake Airpark                 & 54.01333 & -124.76833 &  152 & -8 & A & America/Vancouver  \\\\\n\t 1CS & Clow International Airport           & 41.69597 &  -88.12923 &  670 & -6 & U & America/Chicago    \\\\\n\t 1G3 & Kent State Airport                   & 41.15139 &  -81.41511 & 1134 & -5 & A & America/New\\_York   \\\\\n\t 1G4 & Grand Canyon West Airport            & 35.89990 & -113.81567 & 4813 & -7 & A & America/Phoenix    \\\\\n\t 1H2 & Effingham Memorial Airport           & 39.07000 &  -88.53400 &  585 & -6 & A & America/Chicago    \\\\\n\t 1OH & Fortman Airport                      & 40.55533 &  -84.38662 &  885 & -5 & U & America/New\\_York   \\\\\n\t 1RL & Point Roberts Airpark                & 48.97972 & -123.07889 &   10 & -8 & A & America/Los\\_Angeles\\\\\n\t 23M & Clarke CO                            & 32.05170 &  -88.44340 &  320 & -6 & A & America/Chicago    \\\\\n\t 24C & Lowell City Airport                  & 42.95392 &  -85.34391 &  681 & -5 & A & America/New\\_York   \\\\\n\t 24J & Suwannee County Airport              & 30.30013 &  -83.02469 &  104 & -5 & A & America/New\\_York   \\\\\n\t 25D & Forest Lake Airport                  & 45.24775 &  -92.99439 &  925 & -6 & A & America/Chicago    \\\\\n\t 29D & Grove City Airport                   & 41.14603 &  -80.16775 & 1371 & -5 & A & America/New\\_York   \\\\\n\t 2A0 & Mark Anton Airport                   & 35.48625 &  -84.93108 &  718 & -5 & A & America/New\\_York   \\\\\n\t 2B2 & Plum Island Airport                  & 42.79536 &  -70.83944 &   11 & -5 & A & America/New\\_York   \\\\\n\t ⋮ & ⋮ & ⋮ & ⋮ & ⋮ & ⋮ & ⋮ & ⋮\\\\\n\t X59 & Valkaria Municipal                   & 27.96086 &  -80.55833 &   26 & -5 & A & America/New\\_York   \\\\\n\t XFL & Flagler County Airport               & 29.28210 &  -81.12120 &   33 & -5 & A & America/New\\_York   \\\\\n\t XNA & NW Arkansas Regional                 & 36.28187 &  -94.30681 & 1287 & -6 & A & America/Chicago    \\\\\n\t XZK & Amherst Amtrak Station AMM           & 42.37500 &  -72.51139 &  258 & -5 & A & America/New\\_York   \\\\\n\t Y51 & Municipal Airport                    & 43.57936 &  -90.89647 & 1292 & -6 & A & America/Chicago    \\\\\n\t Y72 & Bloyer Field                         & 43.97622 &  -90.48061 &  966 & -6 & A & America/Chicago    \\\\\n\t YAK & Yakutat                              & 59.30120 & -139.39370 &   33 & -9 & A & NA                 \\\\\n\t YIP & Willow Run                           & 42.23793 &  -83.53041 &  716 & -5 & A & America/New\\_York   \\\\\n\t YKM & Yakima Air Terminal McAllister Field & 46.56820 & -120.54400 & 1095 & -8 & A & America/Los\\_Angeles\\\\\n\t YKN & Chan Gurney                          & 42.87110 &  -97.39690 & 1200 & -6 & A & America/Chicago    \\\\\n\t YNG & Youngstown Warren Rgnl               & 41.26074 &  -80.67910 & 1196 & -5 & A & America/New\\_York   \\\\\n\t YUM & Yuma Mcas Yuma Intl                  & 32.65658 & -114.60598 &  216 & -7 & N & America/Phoenix    \\\\\n\t Z84 & Clear                                & 64.30120 & -149.12014 &  552 & -9 & A & America/Anchorage  \\\\\n\t ZBP & Penn Station                         & 39.30722 &  -76.61556 &   66 & -5 & A & America/New\\_York   \\\\\n\t ZFV & Philadelphia 30th St Station         & 39.95570 &  -75.18200 &    0 & -5 & A & America/New\\_York   \\\\\n\t ZPH & Municipal Airport                    & 28.22806 &  -82.15583 &   90 & -5 & A & America/New\\_York   \\\\\n\t ZRA & Atlantic City Rail Terminal          & 39.36650 &  -74.44200 &    8 & -5 & A & America/New\\_York   \\\\\n\t ZRD & Train Station                        & 37.53430 &  -77.42945 &   26 & -5 & A & America/New\\_York   \\\\\n\t ZRP & Newark Penn Station                  & 40.73472 &  -74.16417 &    0 & -5 & A & America/New\\_York   \\\\\n\t ZRT & Hartford Union Station               & 41.76888 &  -72.68150 &    0 & -5 & A & America/New\\_York   \\\\\n\t ZRZ & New Carrollton Rail Station          & 38.94800 &  -76.87190 &   39 & -5 & A & America/New\\_York   \\\\\n\t ZSF & Springfield Amtrak Station           & 42.10600 &  -72.59305 &   65 & -5 & A & America/New\\_York   \\\\\n\t ZSY & Scottsdale Airport                   & 33.62289 & -111.91053 & 1519 & -7 & A & America/Phoenix    \\\\\n\t ZTF & Stamford Amtrak Station              & 41.04694 &  -73.54149 &    0 & -5 & A & America/New\\_York   \\\\\n\t ZTY & Boston Back Bay Station              & 42.34780 &  -71.07500 &   20 & -5 & A & America/New\\_York   \\\\\n\t ZUN & Black Rock                           & 35.08323 & -108.79178 & 6454 & -7 & A & America/Denver     \\\\\n\t ZVE & New Haven Rail Station               & 41.29867 &  -72.92599 &    7 & -5 & A & America/New\\_York   \\\\\n\t ZWI & Wilmington Amtrak Station            & 39.73667 &  -75.55167 &    0 & -5 & A & America/New\\_York   \\\\\n\t ZWU & Washington Union Station             & 38.89746 &  -77.00643 &   76 & -5 & A & America/New\\_York   \\\\\n\t ZYP & Penn Station                         & 40.75050 &  -73.99350 &   35 & -5 & A & America/New\\_York   \\\\\n\\end{tabular}\n",
            "text/plain": [
              "     faa name                                 lat      lon        alt  tz dst\n",
              "1    04G Lansdowne Airport                    41.13047  -80.61958 1044 -5 A  \n",
              "2    06A Moton Field Municipal Airport        32.46057  -85.68003  264 -6 A  \n",
              "3    06C Schaumburg Regional                  41.98934  -88.10124  801 -6 A  \n",
              "4    06N Randall Airport                      41.43191  -74.39156  523 -5 A  \n",
              "5    09J Jekyll Island Airport                31.07447  -81.42778   11 -5 A  \n",
              "6    0A9 Elizabethton Municipal Airport       36.37122  -82.17342 1593 -5 A  \n",
              "7    0G6 Williams County Airport              41.46731  -84.50678  730 -5 A  \n",
              "8    0G7 Finger Lakes Regional Airport        42.88356  -76.78123  492 -5 A  \n",
              "9    0P2 Shoestring Aviation Airfield         39.79482  -76.64719 1000 -5 U  \n",
              "10   0S9 Jefferson County Intl                48.05381 -122.81064  108 -8 A  \n",
              "11   0W3 Harford County Airport               39.56684  -76.20240  409 -5 A  \n",
              "12   10C Galt Field Airport                   42.40289  -88.37511  875 -6 U  \n",
              "13   17G Port Bucyrus-Crawford County Airport 40.78156  -82.97481 1003 -5 A  \n",
              "14   19A Jackson County Airport               34.17586  -83.56160  951 -5 U  \n",
              "15   1A3 Martin Campbell Field Airport        35.01581  -84.34683 1789 -5 A  \n",
              "16   1B9 Mansfield Municipal                  42.00013  -71.19677  122 -5 A  \n",
              "17   1C9 Frazier Lake Airpark                 54.01333 -124.76833  152 -8 A  \n",
              "18   1CS Clow International Airport           41.69597  -88.12923  670 -6 U  \n",
              "19   1G3 Kent State Airport                   41.15139  -81.41511 1134 -5 A  \n",
              "20   1G4 Grand Canyon West Airport            35.89990 -113.81567 4813 -7 A  \n",
              "21   1H2 Effingham Memorial Airport           39.07000  -88.53400  585 -6 A  \n",
              "22   1OH Fortman Airport                      40.55533  -84.38662  885 -5 U  \n",
              "23   1RL Point Roberts Airpark                48.97972 -123.07889   10 -8 A  \n",
              "24   23M Clarke CO                            32.05170  -88.44340  320 -6 A  \n",
              "25   24C Lowell City Airport                  42.95392  -85.34391  681 -5 A  \n",
              "26   24J Suwannee County Airport              30.30013  -83.02469  104 -5 A  \n",
              "27   25D Forest Lake Airport                  45.24775  -92.99439  925 -6 A  \n",
              "28   29D Grove City Airport                   41.14603  -80.16775 1371 -5 A  \n",
              "29   2A0 Mark Anton Airport                   35.48625  -84.93108  718 -5 A  \n",
              "30   2B2 Plum Island Airport                  42.79536  -70.83944   11 -5 A  \n",
              "⋮    ⋮   ⋮                                    ⋮        ⋮          ⋮    ⋮  ⋮  \n",
              "1429 X59 Valkaria Municipal                   27.96086  -80.55833   26 -5 A  \n",
              "1430 XFL Flagler County Airport               29.28210  -81.12120   33 -5 A  \n",
              "1431 XNA NW Arkansas Regional                 36.28187  -94.30681 1287 -6 A  \n",
              "1432 XZK Amherst Amtrak Station AMM           42.37500  -72.51139  258 -5 A  \n",
              "1433 Y51 Municipal Airport                    43.57936  -90.89647 1292 -6 A  \n",
              "1434 Y72 Bloyer Field                         43.97622  -90.48061  966 -6 A  \n",
              "1435 YAK Yakutat                              59.30120 -139.39370   33 -9 A  \n",
              "1436 YIP Willow Run                           42.23793  -83.53041  716 -5 A  \n",
              "1437 YKM Yakima Air Terminal McAllister Field 46.56820 -120.54400 1095 -8 A  \n",
              "1438 YKN Chan Gurney                          42.87110  -97.39690 1200 -6 A  \n",
              "1439 YNG Youngstown Warren Rgnl               41.26074  -80.67910 1196 -5 A  \n",
              "1440 YUM Yuma Mcas Yuma Intl                  32.65658 -114.60598  216 -7 N  \n",
              "1441 Z84 Clear                                64.30120 -149.12014  552 -9 A  \n",
              "1442 ZBP Penn Station                         39.30722  -76.61556   66 -5 A  \n",
              "1443 ZFV Philadelphia 30th St Station         39.95570  -75.18200    0 -5 A  \n",
              "1444 ZPH Municipal Airport                    28.22806  -82.15583   90 -5 A  \n",
              "1445 ZRA Atlantic City Rail Terminal          39.36650  -74.44200    8 -5 A  \n",
              "1446 ZRD Train Station                        37.53430  -77.42945   26 -5 A  \n",
              "1447 ZRP Newark Penn Station                  40.73472  -74.16417    0 -5 A  \n",
              "1448 ZRT Hartford Union Station               41.76888  -72.68150    0 -5 A  \n",
              "1449 ZRZ New Carrollton Rail Station          38.94800  -76.87190   39 -5 A  \n",
              "1450 ZSF Springfield Amtrak Station           42.10600  -72.59305   65 -5 A  \n",
              "1451 ZSY Scottsdale Airport                   33.62289 -111.91053 1519 -7 A  \n",
              "1452 ZTF Stamford Amtrak Station              41.04694  -73.54149    0 -5 A  \n",
              "1453 ZTY Boston Back Bay Station              42.34780  -71.07500   20 -5 A  \n",
              "1454 ZUN Black Rock                           35.08323 -108.79178 6454 -7 A  \n",
              "1455 ZVE New Haven Rail Station               41.29867  -72.92599    7 -5 A  \n",
              "1456 ZWI Wilmington Amtrak Station            39.73667  -75.55167    0 -5 A  \n",
              "1457 ZWU Washington Union Station             38.89746  -77.00643   76 -5 A  \n",
              "1458 ZYP Penn Station                         40.75050  -73.99350   35 -5 A  \n",
              "     tzone              \n",
              "1    America/New_York   \n",
              "2    America/Chicago    \n",
              "3    America/Chicago    \n",
              "4    America/New_York   \n",
              "5    America/New_York   \n",
              "6    America/New_York   \n",
              "7    America/New_York   \n",
              "8    America/New_York   \n",
              "9    America/New_York   \n",
              "10   America/Los_Angeles\n",
              "11   America/New_York   \n",
              "12   America/Chicago    \n",
              "13   America/New_York   \n",
              "14   America/New_York   \n",
              "15   America/New_York   \n",
              "16   America/New_York   \n",
              "17   America/Vancouver  \n",
              "18   America/Chicago    \n",
              "19   America/New_York   \n",
              "20   America/Phoenix    \n",
              "21   America/Chicago    \n",
              "22   America/New_York   \n",
              "23   America/Los_Angeles\n",
              "24   America/Chicago    \n",
              "25   America/New_York   \n",
              "26   America/New_York   \n",
              "27   America/Chicago    \n",
              "28   America/New_York   \n",
              "29   America/New_York   \n",
              "30   America/New_York   \n",
              "⋮    ⋮                  \n",
              "1429 America/New_York   \n",
              "1430 America/New_York   \n",
              "1431 America/Chicago    \n",
              "1432 America/New_York   \n",
              "1433 America/Chicago    \n",
              "1434 America/Chicago    \n",
              "1435 NA                 \n",
              "1436 America/New_York   \n",
              "1437 America/Los_Angeles\n",
              "1438 America/Chicago    \n",
              "1439 America/New_York   \n",
              "1440 America/Phoenix    \n",
              "1441 America/Anchorage  \n",
              "1442 America/New_York   \n",
              "1443 America/New_York   \n",
              "1444 America/New_York   \n",
              "1445 America/New_York   \n",
              "1446 America/New_York   \n",
              "1447 America/New_York   \n",
              "1448 America/New_York   \n",
              "1449 America/New_York   \n",
              "1450 America/New_York   \n",
              "1451 America/Phoenix    \n",
              "1452 America/New_York   \n",
              "1453 America/New_York   \n",
              "1454 America/Denver     \n",
              "1455 America/New_York   \n",
              "1456 America/New_York   \n",
              "1457 America/New_York   \n",
              "1458 America/New_York   "
            ]
          },
          "metadata": {}
        }
      ]
    },
    {
      "cell_type": "code",
      "source": [
        "df_planes <- planes\n",
        "df_planes "
      ],
      "metadata": {
        "colab": {
          "base_uri": "https://localhost:8080/",
          "height": 1000
        },
        "id": "Tedeg48b9OCc",
        "outputId": "10d24a0d-820c-4bd1-89f5-73d85f8fce4a"
      },
      "execution_count": null,
      "outputs": [
        {
          "output_type": "display_data",
          "data": {
            "text/html": [
              "<table class=\"dataframe\">\n",
              "<caption>A tibble: 3322 × 9</caption>\n",
              "<thead>\n",
              "\t<tr><th scope=col>tailnum</th><th scope=col>year</th><th scope=col>type</th><th scope=col>manufacturer</th><th scope=col>model</th><th scope=col>engines</th><th scope=col>seats</th><th scope=col>speed</th><th scope=col>engine</th></tr>\n",
              "\t<tr><th scope=col>&lt;chr&gt;</th><th scope=col>&lt;int&gt;</th><th scope=col>&lt;chr&gt;</th><th scope=col>&lt;chr&gt;</th><th scope=col>&lt;chr&gt;</th><th scope=col>&lt;int&gt;</th><th scope=col>&lt;int&gt;</th><th scope=col>&lt;int&gt;</th><th scope=col>&lt;chr&gt;</th></tr>\n",
              "</thead>\n",
              "<tbody>\n",
              "\t<tr><td>N10156</td><td>2004</td><td>Fixed wing multi engine</td><td>EMBRAER         </td><td>EMB-145XR</td><td>2</td><td> 55</td><td>NA</td><td>Turbo-fan</td></tr>\n",
              "\t<tr><td>N102UW</td><td>1998</td><td>Fixed wing multi engine</td><td>AIRBUS INDUSTRIE</td><td>A320-214 </td><td>2</td><td>182</td><td>NA</td><td>Turbo-fan</td></tr>\n",
              "\t<tr><td>N103US</td><td>1999</td><td>Fixed wing multi engine</td><td>AIRBUS INDUSTRIE</td><td>A320-214 </td><td>2</td><td>182</td><td>NA</td><td>Turbo-fan</td></tr>\n",
              "\t<tr><td>N104UW</td><td>1999</td><td>Fixed wing multi engine</td><td>AIRBUS INDUSTRIE</td><td>A320-214 </td><td>2</td><td>182</td><td>NA</td><td>Turbo-fan</td></tr>\n",
              "\t<tr><td>N10575</td><td>2002</td><td>Fixed wing multi engine</td><td>EMBRAER         </td><td>EMB-145LR</td><td>2</td><td> 55</td><td>NA</td><td>Turbo-fan</td></tr>\n",
              "\t<tr><td>N105UW</td><td>1999</td><td>Fixed wing multi engine</td><td>AIRBUS INDUSTRIE</td><td>A320-214 </td><td>2</td><td>182</td><td>NA</td><td>Turbo-fan</td></tr>\n",
              "\t<tr><td>N107US</td><td>1999</td><td>Fixed wing multi engine</td><td>AIRBUS INDUSTRIE</td><td>A320-214 </td><td>2</td><td>182</td><td>NA</td><td>Turbo-fan</td></tr>\n",
              "\t<tr><td>N108UW</td><td>1999</td><td>Fixed wing multi engine</td><td>AIRBUS INDUSTRIE</td><td>A320-214 </td><td>2</td><td>182</td><td>NA</td><td>Turbo-fan</td></tr>\n",
              "\t<tr><td>N109UW</td><td>1999</td><td>Fixed wing multi engine</td><td>AIRBUS INDUSTRIE</td><td>A320-214 </td><td>2</td><td>182</td><td>NA</td><td>Turbo-fan</td></tr>\n",
              "\t<tr><td>N110UW</td><td>1999</td><td>Fixed wing multi engine</td><td>AIRBUS INDUSTRIE</td><td>A320-214 </td><td>2</td><td>182</td><td>NA</td><td>Turbo-fan</td></tr>\n",
              "\t<tr><td>N11106</td><td>2002</td><td>Fixed wing multi engine</td><td>EMBRAER         </td><td>EMB-145XR</td><td>2</td><td> 55</td><td>NA</td><td>Turbo-fan</td></tr>\n",
              "\t<tr><td>N11107</td><td>2002</td><td>Fixed wing multi engine</td><td>EMBRAER         </td><td>EMB-145XR</td><td>2</td><td> 55</td><td>NA</td><td>Turbo-fan</td></tr>\n",
              "\t<tr><td>N11109</td><td>2002</td><td>Fixed wing multi engine</td><td>EMBRAER         </td><td>EMB-145XR</td><td>2</td><td> 55</td><td>NA</td><td>Turbo-fan</td></tr>\n",
              "\t<tr><td>N11113</td><td>2002</td><td>Fixed wing multi engine</td><td>EMBRAER         </td><td>EMB-145XR</td><td>2</td><td> 55</td><td>NA</td><td>Turbo-fan</td></tr>\n",
              "\t<tr><td>N11119</td><td>2002</td><td>Fixed wing multi engine</td><td>EMBRAER         </td><td>EMB-145XR</td><td>2</td><td> 55</td><td>NA</td><td>Turbo-fan</td></tr>\n",
              "\t<tr><td>N11121</td><td>2003</td><td>Fixed wing multi engine</td><td>EMBRAER         </td><td>EMB-145XR</td><td>2</td><td> 55</td><td>NA</td><td>Turbo-fan</td></tr>\n",
              "\t<tr><td>N11127</td><td>2003</td><td>Fixed wing multi engine</td><td>EMBRAER         </td><td>EMB-145XR</td><td>2</td><td> 55</td><td>NA</td><td>Turbo-fan</td></tr>\n",
              "\t<tr><td>N11137</td><td>2003</td><td>Fixed wing multi engine</td><td>EMBRAER         </td><td>EMB-145XR</td><td>2</td><td> 55</td><td>NA</td><td>Turbo-fan</td></tr>\n",
              "\t<tr><td>N11140</td><td>2003</td><td>Fixed wing multi engine</td><td>EMBRAER         </td><td>EMB-145XR</td><td>2</td><td> 55</td><td>NA</td><td>Turbo-fan</td></tr>\n",
              "\t<tr><td>N11150</td><td>2003</td><td>Fixed wing multi engine</td><td>EMBRAER         </td><td>EMB-145XR</td><td>2</td><td> 55</td><td>NA</td><td>Turbo-fan</td></tr>\n",
              "\t<tr><td>N11155</td><td>2004</td><td>Fixed wing multi engine</td><td>EMBRAER         </td><td>EMB-145XR</td><td>2</td><td> 55</td><td>NA</td><td>Turbo-fan</td></tr>\n",
              "\t<tr><td>N11164</td><td>2004</td><td>Fixed wing multi engine</td><td>EMBRAER         </td><td>EMB-145XR</td><td>2</td><td> 55</td><td>NA</td><td>Turbo-fan</td></tr>\n",
              "\t<tr><td>N11165</td><td>2004</td><td>Fixed wing multi engine</td><td>EMBRAER         </td><td>EMB-145XR</td><td>2</td><td> 55</td><td>NA</td><td>Turbo-fan</td></tr>\n",
              "\t<tr><td>N11176</td><td>2004</td><td>Fixed wing multi engine</td><td>EMBRAER         </td><td>EMB-145XR</td><td>2</td><td> 55</td><td>NA</td><td>Turbo-fan</td></tr>\n",
              "\t<tr><td>N11181</td><td>2005</td><td>Fixed wing multi engine</td><td>EMBRAER         </td><td>EMB-145XR</td><td>2</td><td> 55</td><td>NA</td><td>Turbo-fan</td></tr>\n",
              "\t<tr><td>N11184</td><td>2005</td><td>Fixed wing multi engine</td><td>EMBRAER         </td><td>EMB-145XR</td><td>2</td><td> 55</td><td>NA</td><td>Turbo-fan</td></tr>\n",
              "\t<tr><td>N11187</td><td>2005</td><td>Fixed wing multi engine</td><td>EMBRAER         </td><td>EMB-145XR</td><td>2</td><td> 55</td><td>NA</td><td>Turbo-fan</td></tr>\n",
              "\t<tr><td>N11189</td><td>2005</td><td>Fixed wing multi engine</td><td>EMBRAER         </td><td>EMB-145XR</td><td>2</td><td> 55</td><td>NA</td><td>Turbo-fan</td></tr>\n",
              "\t<tr><td>N11191</td><td>2005</td><td>Fixed wing multi engine</td><td>EMBRAER         </td><td>EMB-145XR</td><td>2</td><td> 55</td><td>NA</td><td>Turbo-fan</td></tr>\n",
              "\t<tr><td>N11192</td><td>2005</td><td>Fixed wing multi engine</td><td>EMBRAER         </td><td>EMB-145XR</td><td>2</td><td> 55</td><td>NA</td><td>Turbo-fan</td></tr>\n",
              "\t<tr><td>⋮</td><td>⋮</td><td>⋮</td><td>⋮</td><td>⋮</td><td>⋮</td><td>⋮</td><td>⋮</td><td>⋮</td></tr>\n",
              "\t<tr><td>N984DL</td><td>1991</td><td>Fixed wing multi engine</td><td>MCDONNELL DOUGLAS AIRCRAFT CO</td><td>MD-88  </td><td>2</td><td>142</td><td>NA</td><td>Turbo-fan</td></tr>\n",
              "\t<tr><td>N985AT</td><td>2001</td><td>Fixed wing multi engine</td><td>BOEING                       </td><td>717-200</td><td>2</td><td>100</td><td>NA</td><td>Turbo-fan</td></tr>\n",
              "\t<tr><td>N985DL</td><td>1991</td><td>Fixed wing multi engine</td><td>MCDONNELL DOUGLAS AIRCRAFT CO</td><td>MD-88  </td><td>2</td><td>142</td><td>NA</td><td>Turbo-fan</td></tr>\n",
              "\t<tr><td>N986AT</td><td>2001</td><td>Fixed wing multi engine</td><td>BOEING                       </td><td>717-200</td><td>2</td><td>100</td><td>NA</td><td>Turbo-fan</td></tr>\n",
              "\t<tr><td>N986DL</td><td>1991</td><td>Fixed wing multi engine</td><td>MCDONNELL DOUGLAS AIRCRAFT CO</td><td>MD-88  </td><td>2</td><td>142</td><td>NA</td><td>Turbo-fan</td></tr>\n",
              "\t<tr><td>N987AT</td><td>2001</td><td>Fixed wing multi engine</td><td>BOEING                       </td><td>717-200</td><td>2</td><td>100</td><td>NA</td><td>Turbo-fan</td></tr>\n",
              "\t<tr><td>N987DL</td><td>1991</td><td>Fixed wing multi engine</td><td>MCDONNELL DOUGLAS AIRCRAFT CO</td><td>MD-88  </td><td>2</td><td>142</td><td>NA</td><td>Turbo-fan</td></tr>\n",
              "\t<tr><td>N988AT</td><td>2001</td><td>Fixed wing multi engine</td><td>BOEING                       </td><td>717-200</td><td>2</td><td>100</td><td>NA</td><td>Turbo-fan</td></tr>\n",
              "\t<tr><td>N988DL</td><td>1991</td><td>Fixed wing multi engine</td><td>MCDONNELL DOUGLAS AIRCRAFT CO</td><td>MD-88  </td><td>2</td><td>142</td><td>NA</td><td>Turbo-fan</td></tr>\n",
              "\t<tr><td>N989AT</td><td>2001</td><td>Fixed wing multi engine</td><td>BOEING                       </td><td>717-200</td><td>2</td><td>100</td><td>NA</td><td>Turbo-fan</td></tr>\n",
              "\t<tr><td>N989DL</td><td>1991</td><td>Fixed wing multi engine</td><td>MCDONNELL DOUGLAS AIRCRAFT CO</td><td>MD-88  </td><td>2</td><td>142</td><td>NA</td><td>Turbo-fan</td></tr>\n",
              "\t<tr><td>N990AT</td><td>2001</td><td>Fixed wing multi engine</td><td>BOEING                       </td><td>717-200</td><td>2</td><td>100</td><td>NA</td><td>Turbo-fan</td></tr>\n",
              "\t<tr><td>N990DL</td><td>1991</td><td>Fixed wing multi engine</td><td>MCDONNELL DOUGLAS AIRCRAFT CO</td><td>MD-88  </td><td>2</td><td>142</td><td>NA</td><td>Turbo-fan</td></tr>\n",
              "\t<tr><td>N991AT</td><td>  NA</td><td>Fixed wing multi engine</td><td>BOEING                       </td><td>717-200</td><td>2</td><td>100</td><td>NA</td><td>Turbo-fan</td></tr>\n",
              "\t<tr><td>N991DL</td><td>1991</td><td>Fixed wing multi engine</td><td>MCDONNELL DOUGLAS AIRCRAFT CO</td><td>MD-88  </td><td>2</td><td>142</td><td>NA</td><td>Turbo-fan</td></tr>\n",
              "\t<tr><td>N992AT</td><td>2002</td><td>Fixed wing multi engine</td><td>BOEING                       </td><td>717-200</td><td>2</td><td>100</td><td>NA</td><td>Turbo-fan</td></tr>\n",
              "\t<tr><td>N992DL</td><td>1991</td><td>Fixed wing multi engine</td><td>MCDONNELL DOUGLAS AIRCRAFT CO</td><td>MD-88  </td><td>2</td><td>142</td><td>NA</td><td>Turbo-fan</td></tr>\n",
              "\t<tr><td>N993AT</td><td>2002</td><td>Fixed wing multi engine</td><td>BOEING                       </td><td>717-200</td><td>2</td><td>100</td><td>NA</td><td>Turbo-fan</td></tr>\n",
              "\t<tr><td>N993DL</td><td>1991</td><td>Fixed wing multi engine</td><td>MCDONNELL DOUGLAS AIRCRAFT CO</td><td>MD-88  </td><td>2</td><td>142</td><td>NA</td><td>Turbo-fan</td></tr>\n",
              "\t<tr><td>N994AT</td><td>2002</td><td>Fixed wing multi engine</td><td>BOEING                       </td><td>717-200</td><td>2</td><td>100</td><td>NA</td><td>Turbo-fan</td></tr>\n",
              "\t<tr><td>N994DL</td><td>1991</td><td>Fixed wing multi engine</td><td>MCDONNELL DOUGLAS CORPORATION</td><td>MD-88  </td><td>2</td><td>142</td><td>NA</td><td>Turbo-jet</td></tr>\n",
              "\t<tr><td>N995AT</td><td>2002</td><td>Fixed wing multi engine</td><td>BOEING                       </td><td>717-200</td><td>2</td><td>100</td><td>NA</td><td>Turbo-fan</td></tr>\n",
              "\t<tr><td>N995DL</td><td>1991</td><td>Fixed wing multi engine</td><td>MCDONNELL DOUGLAS AIRCRAFT CO</td><td>MD-88  </td><td>2</td><td>142</td><td>NA</td><td>Turbo-fan</td></tr>\n",
              "\t<tr><td>N996AT</td><td>2002</td><td>Fixed wing multi engine</td><td>BOEING                       </td><td>717-200</td><td>2</td><td>100</td><td>NA</td><td>Turbo-fan</td></tr>\n",
              "\t<tr><td>N996DL</td><td>1991</td><td>Fixed wing multi engine</td><td>MCDONNELL DOUGLAS AIRCRAFT CO</td><td>MD-88  </td><td>2</td><td>142</td><td>NA</td><td>Turbo-fan</td></tr>\n",
              "\t<tr><td>N997AT</td><td>2002</td><td>Fixed wing multi engine</td><td>BOEING                       </td><td>717-200</td><td>2</td><td>100</td><td>NA</td><td>Turbo-fan</td></tr>\n",
              "\t<tr><td>N997DL</td><td>1992</td><td>Fixed wing multi engine</td><td>MCDONNELL DOUGLAS AIRCRAFT CO</td><td>MD-88  </td><td>2</td><td>142</td><td>NA</td><td>Turbo-fan</td></tr>\n",
              "\t<tr><td>N998AT</td><td>2002</td><td>Fixed wing multi engine</td><td>BOEING                       </td><td>717-200</td><td>2</td><td>100</td><td>NA</td><td>Turbo-fan</td></tr>\n",
              "\t<tr><td>N998DL</td><td>1992</td><td>Fixed wing multi engine</td><td>MCDONNELL DOUGLAS CORPORATION</td><td>MD-88  </td><td>2</td><td>142</td><td>NA</td><td>Turbo-jet</td></tr>\n",
              "\t<tr><td>N999DN</td><td>1992</td><td>Fixed wing multi engine</td><td>MCDONNELL DOUGLAS CORPORATION</td><td>MD-88  </td><td>2</td><td>142</td><td>NA</td><td>Turbo-jet</td></tr>\n",
              "</tbody>\n",
              "</table>\n"
            ],
            "text/markdown": "\nA tibble: 3322 × 9\n\n| tailnum &lt;chr&gt; | year &lt;int&gt; | type &lt;chr&gt; | manufacturer &lt;chr&gt; | model &lt;chr&gt; | engines &lt;int&gt; | seats &lt;int&gt; | speed &lt;int&gt; | engine &lt;chr&gt; |\n|---|---|---|---|---|---|---|---|---|\n| N10156 | 2004 | Fixed wing multi engine | EMBRAER          | EMB-145XR | 2 |  55 | NA | Turbo-fan |\n| N102UW | 1998 | Fixed wing multi engine | AIRBUS INDUSTRIE | A320-214  | 2 | 182 | NA | Turbo-fan |\n| N103US | 1999 | Fixed wing multi engine | AIRBUS INDUSTRIE | A320-214  | 2 | 182 | NA | Turbo-fan |\n| N104UW | 1999 | Fixed wing multi engine | AIRBUS INDUSTRIE | A320-214  | 2 | 182 | NA | Turbo-fan |\n| N10575 | 2002 | Fixed wing multi engine | EMBRAER          | EMB-145LR | 2 |  55 | NA | Turbo-fan |\n| N105UW | 1999 | Fixed wing multi engine | AIRBUS INDUSTRIE | A320-214  | 2 | 182 | NA | Turbo-fan |\n| N107US | 1999 | Fixed wing multi engine | AIRBUS INDUSTRIE | A320-214  | 2 | 182 | NA | Turbo-fan |\n| N108UW | 1999 | Fixed wing multi engine | AIRBUS INDUSTRIE | A320-214  | 2 | 182 | NA | Turbo-fan |\n| N109UW | 1999 | Fixed wing multi engine | AIRBUS INDUSTRIE | A320-214  | 2 | 182 | NA | Turbo-fan |\n| N110UW | 1999 | Fixed wing multi engine | AIRBUS INDUSTRIE | A320-214  | 2 | 182 | NA | Turbo-fan |\n| N11106 | 2002 | Fixed wing multi engine | EMBRAER          | EMB-145XR | 2 |  55 | NA | Turbo-fan |\n| N11107 | 2002 | Fixed wing multi engine | EMBRAER          | EMB-145XR | 2 |  55 | NA | Turbo-fan |\n| N11109 | 2002 | Fixed wing multi engine | EMBRAER          | EMB-145XR | 2 |  55 | NA | Turbo-fan |\n| N11113 | 2002 | Fixed wing multi engine | EMBRAER          | EMB-145XR | 2 |  55 | NA | Turbo-fan |\n| N11119 | 2002 | Fixed wing multi engine | EMBRAER          | EMB-145XR | 2 |  55 | NA | Turbo-fan |\n| N11121 | 2003 | Fixed wing multi engine | EMBRAER          | EMB-145XR | 2 |  55 | NA | Turbo-fan |\n| N11127 | 2003 | Fixed wing multi engine | EMBRAER          | EMB-145XR | 2 |  55 | NA | Turbo-fan |\n| N11137 | 2003 | Fixed wing multi engine | EMBRAER          | EMB-145XR | 2 |  55 | NA | Turbo-fan |\n| N11140 | 2003 | Fixed wing multi engine | EMBRAER          | EMB-145XR | 2 |  55 | NA | Turbo-fan |\n| N11150 | 2003 | Fixed wing multi engine | EMBRAER          | EMB-145XR | 2 |  55 | NA | Turbo-fan |\n| N11155 | 2004 | Fixed wing multi engine | EMBRAER          | EMB-145XR | 2 |  55 | NA | Turbo-fan |\n| N11164 | 2004 | Fixed wing multi engine | EMBRAER          | EMB-145XR | 2 |  55 | NA | Turbo-fan |\n| N11165 | 2004 | Fixed wing multi engine | EMBRAER          | EMB-145XR | 2 |  55 | NA | Turbo-fan |\n| N11176 | 2004 | Fixed wing multi engine | EMBRAER          | EMB-145XR | 2 |  55 | NA | Turbo-fan |\n| N11181 | 2005 | Fixed wing multi engine | EMBRAER          | EMB-145XR | 2 |  55 | NA | Turbo-fan |\n| N11184 | 2005 | Fixed wing multi engine | EMBRAER          | EMB-145XR | 2 |  55 | NA | Turbo-fan |\n| N11187 | 2005 | Fixed wing multi engine | EMBRAER          | EMB-145XR | 2 |  55 | NA | Turbo-fan |\n| N11189 | 2005 | Fixed wing multi engine | EMBRAER          | EMB-145XR | 2 |  55 | NA | Turbo-fan |\n| N11191 | 2005 | Fixed wing multi engine | EMBRAER          | EMB-145XR | 2 |  55 | NA | Turbo-fan |\n| N11192 | 2005 | Fixed wing multi engine | EMBRAER          | EMB-145XR | 2 |  55 | NA | Turbo-fan |\n| ⋮ | ⋮ | ⋮ | ⋮ | ⋮ | ⋮ | ⋮ | ⋮ | ⋮ |\n| N984DL | 1991 | Fixed wing multi engine | MCDONNELL DOUGLAS AIRCRAFT CO | MD-88   | 2 | 142 | NA | Turbo-fan |\n| N985AT | 2001 | Fixed wing multi engine | BOEING                        | 717-200 | 2 | 100 | NA | Turbo-fan |\n| N985DL | 1991 | Fixed wing multi engine | MCDONNELL DOUGLAS AIRCRAFT CO | MD-88   | 2 | 142 | NA | Turbo-fan |\n| N986AT | 2001 | Fixed wing multi engine | BOEING                        | 717-200 | 2 | 100 | NA | Turbo-fan |\n| N986DL | 1991 | Fixed wing multi engine | MCDONNELL DOUGLAS AIRCRAFT CO | MD-88   | 2 | 142 | NA | Turbo-fan |\n| N987AT | 2001 | Fixed wing multi engine | BOEING                        | 717-200 | 2 | 100 | NA | Turbo-fan |\n| N987DL | 1991 | Fixed wing multi engine | MCDONNELL DOUGLAS AIRCRAFT CO | MD-88   | 2 | 142 | NA | Turbo-fan |\n| N988AT | 2001 | Fixed wing multi engine | BOEING                        | 717-200 | 2 | 100 | NA | Turbo-fan |\n| N988DL | 1991 | Fixed wing multi engine | MCDONNELL DOUGLAS AIRCRAFT CO | MD-88   | 2 | 142 | NA | Turbo-fan |\n| N989AT | 2001 | Fixed wing multi engine | BOEING                        | 717-200 | 2 | 100 | NA | Turbo-fan |\n| N989DL | 1991 | Fixed wing multi engine | MCDONNELL DOUGLAS AIRCRAFT CO | MD-88   | 2 | 142 | NA | Turbo-fan |\n| N990AT | 2001 | Fixed wing multi engine | BOEING                        | 717-200 | 2 | 100 | NA | Turbo-fan |\n| N990DL | 1991 | Fixed wing multi engine | MCDONNELL DOUGLAS AIRCRAFT CO | MD-88   | 2 | 142 | NA | Turbo-fan |\n| N991AT |   NA | Fixed wing multi engine | BOEING                        | 717-200 | 2 | 100 | NA | Turbo-fan |\n| N991DL | 1991 | Fixed wing multi engine | MCDONNELL DOUGLAS AIRCRAFT CO | MD-88   | 2 | 142 | NA | Turbo-fan |\n| N992AT | 2002 | Fixed wing multi engine | BOEING                        | 717-200 | 2 | 100 | NA | Turbo-fan |\n| N992DL | 1991 | Fixed wing multi engine | MCDONNELL DOUGLAS AIRCRAFT CO | MD-88   | 2 | 142 | NA | Turbo-fan |\n| N993AT | 2002 | Fixed wing multi engine | BOEING                        | 717-200 | 2 | 100 | NA | Turbo-fan |\n| N993DL | 1991 | Fixed wing multi engine | MCDONNELL DOUGLAS AIRCRAFT CO | MD-88   | 2 | 142 | NA | Turbo-fan |\n| N994AT | 2002 | Fixed wing multi engine | BOEING                        | 717-200 | 2 | 100 | NA | Turbo-fan |\n| N994DL | 1991 | Fixed wing multi engine | MCDONNELL DOUGLAS CORPORATION | MD-88   | 2 | 142 | NA | Turbo-jet |\n| N995AT | 2002 | Fixed wing multi engine | BOEING                        | 717-200 | 2 | 100 | NA | Turbo-fan |\n| N995DL | 1991 | Fixed wing multi engine | MCDONNELL DOUGLAS AIRCRAFT CO | MD-88   | 2 | 142 | NA | Turbo-fan |\n| N996AT | 2002 | Fixed wing multi engine | BOEING                        | 717-200 | 2 | 100 | NA | Turbo-fan |\n| N996DL | 1991 | Fixed wing multi engine | MCDONNELL DOUGLAS AIRCRAFT CO | MD-88   | 2 | 142 | NA | Turbo-fan |\n| N997AT | 2002 | Fixed wing multi engine | BOEING                        | 717-200 | 2 | 100 | NA | Turbo-fan |\n| N997DL | 1992 | Fixed wing multi engine | MCDONNELL DOUGLAS AIRCRAFT CO | MD-88   | 2 | 142 | NA | Turbo-fan |\n| N998AT | 2002 | Fixed wing multi engine | BOEING                        | 717-200 | 2 | 100 | NA | Turbo-fan |\n| N998DL | 1992 | Fixed wing multi engine | MCDONNELL DOUGLAS CORPORATION | MD-88   | 2 | 142 | NA | Turbo-jet |\n| N999DN | 1992 | Fixed wing multi engine | MCDONNELL DOUGLAS CORPORATION | MD-88   | 2 | 142 | NA | Turbo-jet |\n\n",
            "text/latex": "A tibble: 3322 × 9\n\\begin{tabular}{lllllllll}\n tailnum & year & type & manufacturer & model & engines & seats & speed & engine\\\\\n <chr> & <int> & <chr> & <chr> & <chr> & <int> & <int> & <int> & <chr>\\\\\n\\hline\n\t N10156 & 2004 & Fixed wing multi engine & EMBRAER          & EMB-145XR & 2 &  55 & NA & Turbo-fan\\\\\n\t N102UW & 1998 & Fixed wing multi engine & AIRBUS INDUSTRIE & A320-214  & 2 & 182 & NA & Turbo-fan\\\\\n\t N103US & 1999 & Fixed wing multi engine & AIRBUS INDUSTRIE & A320-214  & 2 & 182 & NA & Turbo-fan\\\\\n\t N104UW & 1999 & Fixed wing multi engine & AIRBUS INDUSTRIE & A320-214  & 2 & 182 & NA & Turbo-fan\\\\\n\t N10575 & 2002 & Fixed wing multi engine & EMBRAER          & EMB-145LR & 2 &  55 & NA & Turbo-fan\\\\\n\t N105UW & 1999 & Fixed wing multi engine & AIRBUS INDUSTRIE & A320-214  & 2 & 182 & NA & Turbo-fan\\\\\n\t N107US & 1999 & Fixed wing multi engine & AIRBUS INDUSTRIE & A320-214  & 2 & 182 & NA & Turbo-fan\\\\\n\t N108UW & 1999 & Fixed wing multi engine & AIRBUS INDUSTRIE & A320-214  & 2 & 182 & NA & Turbo-fan\\\\\n\t N109UW & 1999 & Fixed wing multi engine & AIRBUS INDUSTRIE & A320-214  & 2 & 182 & NA & Turbo-fan\\\\\n\t N110UW & 1999 & Fixed wing multi engine & AIRBUS INDUSTRIE & A320-214  & 2 & 182 & NA & Turbo-fan\\\\\n\t N11106 & 2002 & Fixed wing multi engine & EMBRAER          & EMB-145XR & 2 &  55 & NA & Turbo-fan\\\\\n\t N11107 & 2002 & Fixed wing multi engine & EMBRAER          & EMB-145XR & 2 &  55 & NA & Turbo-fan\\\\\n\t N11109 & 2002 & Fixed wing multi engine & EMBRAER          & EMB-145XR & 2 &  55 & NA & Turbo-fan\\\\\n\t N11113 & 2002 & Fixed wing multi engine & EMBRAER          & EMB-145XR & 2 &  55 & NA & Turbo-fan\\\\\n\t N11119 & 2002 & Fixed wing multi engine & EMBRAER          & EMB-145XR & 2 &  55 & NA & Turbo-fan\\\\\n\t N11121 & 2003 & Fixed wing multi engine & EMBRAER          & EMB-145XR & 2 &  55 & NA & Turbo-fan\\\\\n\t N11127 & 2003 & Fixed wing multi engine & EMBRAER          & EMB-145XR & 2 &  55 & NA & Turbo-fan\\\\\n\t N11137 & 2003 & Fixed wing multi engine & EMBRAER          & EMB-145XR & 2 &  55 & NA & Turbo-fan\\\\\n\t N11140 & 2003 & Fixed wing multi engine & EMBRAER          & EMB-145XR & 2 &  55 & NA & Turbo-fan\\\\\n\t N11150 & 2003 & Fixed wing multi engine & EMBRAER          & EMB-145XR & 2 &  55 & NA & Turbo-fan\\\\\n\t N11155 & 2004 & Fixed wing multi engine & EMBRAER          & EMB-145XR & 2 &  55 & NA & Turbo-fan\\\\\n\t N11164 & 2004 & Fixed wing multi engine & EMBRAER          & EMB-145XR & 2 &  55 & NA & Turbo-fan\\\\\n\t N11165 & 2004 & Fixed wing multi engine & EMBRAER          & EMB-145XR & 2 &  55 & NA & Turbo-fan\\\\\n\t N11176 & 2004 & Fixed wing multi engine & EMBRAER          & EMB-145XR & 2 &  55 & NA & Turbo-fan\\\\\n\t N11181 & 2005 & Fixed wing multi engine & EMBRAER          & EMB-145XR & 2 &  55 & NA & Turbo-fan\\\\\n\t N11184 & 2005 & Fixed wing multi engine & EMBRAER          & EMB-145XR & 2 &  55 & NA & Turbo-fan\\\\\n\t N11187 & 2005 & Fixed wing multi engine & EMBRAER          & EMB-145XR & 2 &  55 & NA & Turbo-fan\\\\\n\t N11189 & 2005 & Fixed wing multi engine & EMBRAER          & EMB-145XR & 2 &  55 & NA & Turbo-fan\\\\\n\t N11191 & 2005 & Fixed wing multi engine & EMBRAER          & EMB-145XR & 2 &  55 & NA & Turbo-fan\\\\\n\t N11192 & 2005 & Fixed wing multi engine & EMBRAER          & EMB-145XR & 2 &  55 & NA & Turbo-fan\\\\\n\t ⋮ & ⋮ & ⋮ & ⋮ & ⋮ & ⋮ & ⋮ & ⋮ & ⋮\\\\\n\t N984DL & 1991 & Fixed wing multi engine & MCDONNELL DOUGLAS AIRCRAFT CO & MD-88   & 2 & 142 & NA & Turbo-fan\\\\\n\t N985AT & 2001 & Fixed wing multi engine & BOEING                        & 717-200 & 2 & 100 & NA & Turbo-fan\\\\\n\t N985DL & 1991 & Fixed wing multi engine & MCDONNELL DOUGLAS AIRCRAFT CO & MD-88   & 2 & 142 & NA & Turbo-fan\\\\\n\t N986AT & 2001 & Fixed wing multi engine & BOEING                        & 717-200 & 2 & 100 & NA & Turbo-fan\\\\\n\t N986DL & 1991 & Fixed wing multi engine & MCDONNELL DOUGLAS AIRCRAFT CO & MD-88   & 2 & 142 & NA & Turbo-fan\\\\\n\t N987AT & 2001 & Fixed wing multi engine & BOEING                        & 717-200 & 2 & 100 & NA & Turbo-fan\\\\\n\t N987DL & 1991 & Fixed wing multi engine & MCDONNELL DOUGLAS AIRCRAFT CO & MD-88   & 2 & 142 & NA & Turbo-fan\\\\\n\t N988AT & 2001 & Fixed wing multi engine & BOEING                        & 717-200 & 2 & 100 & NA & Turbo-fan\\\\\n\t N988DL & 1991 & Fixed wing multi engine & MCDONNELL DOUGLAS AIRCRAFT CO & MD-88   & 2 & 142 & NA & Turbo-fan\\\\\n\t N989AT & 2001 & Fixed wing multi engine & BOEING                        & 717-200 & 2 & 100 & NA & Turbo-fan\\\\\n\t N989DL & 1991 & Fixed wing multi engine & MCDONNELL DOUGLAS AIRCRAFT CO & MD-88   & 2 & 142 & NA & Turbo-fan\\\\\n\t N990AT & 2001 & Fixed wing multi engine & BOEING                        & 717-200 & 2 & 100 & NA & Turbo-fan\\\\\n\t N990DL & 1991 & Fixed wing multi engine & MCDONNELL DOUGLAS AIRCRAFT CO & MD-88   & 2 & 142 & NA & Turbo-fan\\\\\n\t N991AT &   NA & Fixed wing multi engine & BOEING                        & 717-200 & 2 & 100 & NA & Turbo-fan\\\\\n\t N991DL & 1991 & Fixed wing multi engine & MCDONNELL DOUGLAS AIRCRAFT CO & MD-88   & 2 & 142 & NA & Turbo-fan\\\\\n\t N992AT & 2002 & Fixed wing multi engine & BOEING                        & 717-200 & 2 & 100 & NA & Turbo-fan\\\\\n\t N992DL & 1991 & Fixed wing multi engine & MCDONNELL DOUGLAS AIRCRAFT CO & MD-88   & 2 & 142 & NA & Turbo-fan\\\\\n\t N993AT & 2002 & Fixed wing multi engine & BOEING                        & 717-200 & 2 & 100 & NA & Turbo-fan\\\\\n\t N993DL & 1991 & Fixed wing multi engine & MCDONNELL DOUGLAS AIRCRAFT CO & MD-88   & 2 & 142 & NA & Turbo-fan\\\\\n\t N994AT & 2002 & Fixed wing multi engine & BOEING                        & 717-200 & 2 & 100 & NA & Turbo-fan\\\\\n\t N994DL & 1991 & Fixed wing multi engine & MCDONNELL DOUGLAS CORPORATION & MD-88   & 2 & 142 & NA & Turbo-jet\\\\\n\t N995AT & 2002 & Fixed wing multi engine & BOEING                        & 717-200 & 2 & 100 & NA & Turbo-fan\\\\\n\t N995DL & 1991 & Fixed wing multi engine & MCDONNELL DOUGLAS AIRCRAFT CO & MD-88   & 2 & 142 & NA & Turbo-fan\\\\\n\t N996AT & 2002 & Fixed wing multi engine & BOEING                        & 717-200 & 2 & 100 & NA & Turbo-fan\\\\\n\t N996DL & 1991 & Fixed wing multi engine & MCDONNELL DOUGLAS AIRCRAFT CO & MD-88   & 2 & 142 & NA & Turbo-fan\\\\\n\t N997AT & 2002 & Fixed wing multi engine & BOEING                        & 717-200 & 2 & 100 & NA & Turbo-fan\\\\\n\t N997DL & 1992 & Fixed wing multi engine & MCDONNELL DOUGLAS AIRCRAFT CO & MD-88   & 2 & 142 & NA & Turbo-fan\\\\\n\t N998AT & 2002 & Fixed wing multi engine & BOEING                        & 717-200 & 2 & 100 & NA & Turbo-fan\\\\\n\t N998DL & 1992 & Fixed wing multi engine & MCDONNELL DOUGLAS CORPORATION & MD-88   & 2 & 142 & NA & Turbo-jet\\\\\n\t N999DN & 1992 & Fixed wing multi engine & MCDONNELL DOUGLAS CORPORATION & MD-88   & 2 & 142 & NA & Turbo-jet\\\\\n\\end{tabular}\n",
            "text/plain": [
              "     tailnum year type                    manufacturer                 \n",
              "1    N10156  2004 Fixed wing multi engine EMBRAER                      \n",
              "2    N102UW  1998 Fixed wing multi engine AIRBUS INDUSTRIE             \n",
              "3    N103US  1999 Fixed wing multi engine AIRBUS INDUSTRIE             \n",
              "4    N104UW  1999 Fixed wing multi engine AIRBUS INDUSTRIE             \n",
              "5    N10575  2002 Fixed wing multi engine EMBRAER                      \n",
              "6    N105UW  1999 Fixed wing multi engine AIRBUS INDUSTRIE             \n",
              "7    N107US  1999 Fixed wing multi engine AIRBUS INDUSTRIE             \n",
              "8    N108UW  1999 Fixed wing multi engine AIRBUS INDUSTRIE             \n",
              "9    N109UW  1999 Fixed wing multi engine AIRBUS INDUSTRIE             \n",
              "10   N110UW  1999 Fixed wing multi engine AIRBUS INDUSTRIE             \n",
              "11   N11106  2002 Fixed wing multi engine EMBRAER                      \n",
              "12   N11107  2002 Fixed wing multi engine EMBRAER                      \n",
              "13   N11109  2002 Fixed wing multi engine EMBRAER                      \n",
              "14   N11113  2002 Fixed wing multi engine EMBRAER                      \n",
              "15   N11119  2002 Fixed wing multi engine EMBRAER                      \n",
              "16   N11121  2003 Fixed wing multi engine EMBRAER                      \n",
              "17   N11127  2003 Fixed wing multi engine EMBRAER                      \n",
              "18   N11137  2003 Fixed wing multi engine EMBRAER                      \n",
              "19   N11140  2003 Fixed wing multi engine EMBRAER                      \n",
              "20   N11150  2003 Fixed wing multi engine EMBRAER                      \n",
              "21   N11155  2004 Fixed wing multi engine EMBRAER                      \n",
              "22   N11164  2004 Fixed wing multi engine EMBRAER                      \n",
              "23   N11165  2004 Fixed wing multi engine EMBRAER                      \n",
              "24   N11176  2004 Fixed wing multi engine EMBRAER                      \n",
              "25   N11181  2005 Fixed wing multi engine EMBRAER                      \n",
              "26   N11184  2005 Fixed wing multi engine EMBRAER                      \n",
              "27   N11187  2005 Fixed wing multi engine EMBRAER                      \n",
              "28   N11189  2005 Fixed wing multi engine EMBRAER                      \n",
              "29   N11191  2005 Fixed wing multi engine EMBRAER                      \n",
              "30   N11192  2005 Fixed wing multi engine EMBRAER                      \n",
              "⋮    ⋮       ⋮    ⋮                       ⋮                            \n",
              "3293 N984DL  1991 Fixed wing multi engine MCDONNELL DOUGLAS AIRCRAFT CO\n",
              "3294 N985AT  2001 Fixed wing multi engine BOEING                       \n",
              "3295 N985DL  1991 Fixed wing multi engine MCDONNELL DOUGLAS AIRCRAFT CO\n",
              "3296 N986AT  2001 Fixed wing multi engine BOEING                       \n",
              "3297 N986DL  1991 Fixed wing multi engine MCDONNELL DOUGLAS AIRCRAFT CO\n",
              "3298 N987AT  2001 Fixed wing multi engine BOEING                       \n",
              "3299 N987DL  1991 Fixed wing multi engine MCDONNELL DOUGLAS AIRCRAFT CO\n",
              "3300 N988AT  2001 Fixed wing multi engine BOEING                       \n",
              "3301 N988DL  1991 Fixed wing multi engine MCDONNELL DOUGLAS AIRCRAFT CO\n",
              "3302 N989AT  2001 Fixed wing multi engine BOEING                       \n",
              "3303 N989DL  1991 Fixed wing multi engine MCDONNELL DOUGLAS AIRCRAFT CO\n",
              "3304 N990AT  2001 Fixed wing multi engine BOEING                       \n",
              "3305 N990DL  1991 Fixed wing multi engine MCDONNELL DOUGLAS AIRCRAFT CO\n",
              "3306 N991AT    NA Fixed wing multi engine BOEING                       \n",
              "3307 N991DL  1991 Fixed wing multi engine MCDONNELL DOUGLAS AIRCRAFT CO\n",
              "3308 N992AT  2002 Fixed wing multi engine BOEING                       \n",
              "3309 N992DL  1991 Fixed wing multi engine MCDONNELL DOUGLAS AIRCRAFT CO\n",
              "3310 N993AT  2002 Fixed wing multi engine BOEING                       \n",
              "3311 N993DL  1991 Fixed wing multi engine MCDONNELL DOUGLAS AIRCRAFT CO\n",
              "3312 N994AT  2002 Fixed wing multi engine BOEING                       \n",
              "3313 N994DL  1991 Fixed wing multi engine MCDONNELL DOUGLAS CORPORATION\n",
              "3314 N995AT  2002 Fixed wing multi engine BOEING                       \n",
              "3315 N995DL  1991 Fixed wing multi engine MCDONNELL DOUGLAS AIRCRAFT CO\n",
              "3316 N996AT  2002 Fixed wing multi engine BOEING                       \n",
              "3317 N996DL  1991 Fixed wing multi engine MCDONNELL DOUGLAS AIRCRAFT CO\n",
              "3318 N997AT  2002 Fixed wing multi engine BOEING                       \n",
              "3319 N997DL  1992 Fixed wing multi engine MCDONNELL DOUGLAS AIRCRAFT CO\n",
              "3320 N998AT  2002 Fixed wing multi engine BOEING                       \n",
              "3321 N998DL  1992 Fixed wing multi engine MCDONNELL DOUGLAS CORPORATION\n",
              "3322 N999DN  1992 Fixed wing multi engine MCDONNELL DOUGLAS CORPORATION\n",
              "     model     engines seats speed engine   \n",
              "1    EMB-145XR 2        55   NA    Turbo-fan\n",
              "2    A320-214  2       182   NA    Turbo-fan\n",
              "3    A320-214  2       182   NA    Turbo-fan\n",
              "4    A320-214  2       182   NA    Turbo-fan\n",
              "5    EMB-145LR 2        55   NA    Turbo-fan\n",
              "6    A320-214  2       182   NA    Turbo-fan\n",
              "7    A320-214  2       182   NA    Turbo-fan\n",
              "8    A320-214  2       182   NA    Turbo-fan\n",
              "9    A320-214  2       182   NA    Turbo-fan\n",
              "10   A320-214  2       182   NA    Turbo-fan\n",
              "11   EMB-145XR 2        55   NA    Turbo-fan\n",
              "12   EMB-145XR 2        55   NA    Turbo-fan\n",
              "13   EMB-145XR 2        55   NA    Turbo-fan\n",
              "14   EMB-145XR 2        55   NA    Turbo-fan\n",
              "15   EMB-145XR 2        55   NA    Turbo-fan\n",
              "16   EMB-145XR 2        55   NA    Turbo-fan\n",
              "17   EMB-145XR 2        55   NA    Turbo-fan\n",
              "18   EMB-145XR 2        55   NA    Turbo-fan\n",
              "19   EMB-145XR 2        55   NA    Turbo-fan\n",
              "20   EMB-145XR 2        55   NA    Turbo-fan\n",
              "21   EMB-145XR 2        55   NA    Turbo-fan\n",
              "22   EMB-145XR 2        55   NA    Turbo-fan\n",
              "23   EMB-145XR 2        55   NA    Turbo-fan\n",
              "24   EMB-145XR 2        55   NA    Turbo-fan\n",
              "25   EMB-145XR 2        55   NA    Turbo-fan\n",
              "26   EMB-145XR 2        55   NA    Turbo-fan\n",
              "27   EMB-145XR 2        55   NA    Turbo-fan\n",
              "28   EMB-145XR 2        55   NA    Turbo-fan\n",
              "29   EMB-145XR 2        55   NA    Turbo-fan\n",
              "30   EMB-145XR 2        55   NA    Turbo-fan\n",
              "⋮    ⋮         ⋮       ⋮     ⋮     ⋮        \n",
              "3293 MD-88     2       142   NA    Turbo-fan\n",
              "3294 717-200   2       100   NA    Turbo-fan\n",
              "3295 MD-88     2       142   NA    Turbo-fan\n",
              "3296 717-200   2       100   NA    Turbo-fan\n",
              "3297 MD-88     2       142   NA    Turbo-fan\n",
              "3298 717-200   2       100   NA    Turbo-fan\n",
              "3299 MD-88     2       142   NA    Turbo-fan\n",
              "3300 717-200   2       100   NA    Turbo-fan\n",
              "3301 MD-88     2       142   NA    Turbo-fan\n",
              "3302 717-200   2       100   NA    Turbo-fan\n",
              "3303 MD-88     2       142   NA    Turbo-fan\n",
              "3304 717-200   2       100   NA    Turbo-fan\n",
              "3305 MD-88     2       142   NA    Turbo-fan\n",
              "3306 717-200   2       100   NA    Turbo-fan\n",
              "3307 MD-88     2       142   NA    Turbo-fan\n",
              "3308 717-200   2       100   NA    Turbo-fan\n",
              "3309 MD-88     2       142   NA    Turbo-fan\n",
              "3310 717-200   2       100   NA    Turbo-fan\n",
              "3311 MD-88     2       142   NA    Turbo-fan\n",
              "3312 717-200   2       100   NA    Turbo-fan\n",
              "3313 MD-88     2       142   NA    Turbo-jet\n",
              "3314 717-200   2       100   NA    Turbo-fan\n",
              "3315 MD-88     2       142   NA    Turbo-fan\n",
              "3316 717-200   2       100   NA    Turbo-fan\n",
              "3317 MD-88     2       142   NA    Turbo-fan\n",
              "3318 717-200   2       100   NA    Turbo-fan\n",
              "3319 MD-88     2       142   NA    Turbo-fan\n",
              "3320 717-200   2       100   NA    Turbo-fan\n",
              "3321 MD-88     2       142   NA    Turbo-jet\n",
              "3322 MD-88     2       142   NA    Turbo-jet"
            ]
          },
          "metadata": {}
        }
      ]
    },
    {
      "cell_type": "code",
      "source": [
        "df_weather <- weather\n",
        "df_weather"
      ],
      "metadata": {
        "colab": {
          "base_uri": "https://localhost:8080/",
          "height": 1000
        },
        "id": "auQyzOx49Vc_",
        "outputId": "efe16658-189b-481f-eb66-f9936e247b97"
      },
      "execution_count": null,
      "outputs": [
        {
          "output_type": "display_data",
          "data": {
            "text/html": [
              "<table class=\"dataframe\">\n",
              "<caption>A tibble: 26115 × 15</caption>\n",
              "<thead>\n",
              "\t<tr><th scope=col>origin</th><th scope=col>year</th><th scope=col>month</th><th scope=col>day</th><th scope=col>hour</th><th scope=col>temp</th><th scope=col>dewp</th><th scope=col>humid</th><th scope=col>wind_dir</th><th scope=col>wind_speed</th><th scope=col>wind_gust</th><th scope=col>precip</th><th scope=col>pressure</th><th scope=col>visib</th><th scope=col>time_hour</th></tr>\n",
              "\t<tr><th scope=col>&lt;chr&gt;</th><th scope=col>&lt;int&gt;</th><th scope=col>&lt;int&gt;</th><th scope=col>&lt;int&gt;</th><th scope=col>&lt;int&gt;</th><th scope=col>&lt;dbl&gt;</th><th scope=col>&lt;dbl&gt;</th><th scope=col>&lt;dbl&gt;</th><th scope=col>&lt;dbl&gt;</th><th scope=col>&lt;dbl&gt;</th><th scope=col>&lt;dbl&gt;</th><th scope=col>&lt;dbl&gt;</th><th scope=col>&lt;dbl&gt;</th><th scope=col>&lt;dbl&gt;</th><th scope=col>&lt;dttm&gt;</th></tr>\n",
              "</thead>\n",
              "<tbody>\n",
              "\t<tr><td>EWR</td><td>2013</td><td>1</td><td>1</td><td> 1</td><td>39.02</td><td>26.06</td><td>59.37</td><td>270</td><td>10.35702</td><td>      NA</td><td>0</td><td>1012.0</td><td>10</td><td>2013-01-01 01:00:00</td></tr>\n",
              "\t<tr><td>EWR</td><td>2013</td><td>1</td><td>1</td><td> 2</td><td>39.02</td><td>26.96</td><td>61.63</td><td>250</td><td> 8.05546</td><td>      NA</td><td>0</td><td>1012.3</td><td>10</td><td>2013-01-01 02:00:00</td></tr>\n",
              "\t<tr><td>EWR</td><td>2013</td><td>1</td><td>1</td><td> 3</td><td>39.02</td><td>28.04</td><td>64.43</td><td>240</td><td>11.50780</td><td>      NA</td><td>0</td><td>1012.5</td><td>10</td><td>2013-01-01 03:00:00</td></tr>\n",
              "\t<tr><td>EWR</td><td>2013</td><td>1</td><td>1</td><td> 4</td><td>39.92</td><td>28.04</td><td>62.21</td><td>250</td><td>12.65858</td><td>      NA</td><td>0</td><td>1012.2</td><td>10</td><td>2013-01-01 04:00:00</td></tr>\n",
              "\t<tr><td>EWR</td><td>2013</td><td>1</td><td>1</td><td> 5</td><td>39.02</td><td>28.04</td><td>64.43</td><td>260</td><td>12.65858</td><td>      NA</td><td>0</td><td>1011.9</td><td>10</td><td>2013-01-01 05:00:00</td></tr>\n",
              "\t<tr><td>EWR</td><td>2013</td><td>1</td><td>1</td><td> 6</td><td>37.94</td><td>28.04</td><td>67.21</td><td>240</td><td>11.50780</td><td>      NA</td><td>0</td><td>1012.4</td><td>10</td><td>2013-01-01 06:00:00</td></tr>\n",
              "\t<tr><td>EWR</td><td>2013</td><td>1</td><td>1</td><td> 7</td><td>39.02</td><td>28.04</td><td>64.43</td><td>240</td><td>14.96014</td><td>      NA</td><td>0</td><td>1012.2</td><td>10</td><td>2013-01-01 07:00:00</td></tr>\n",
              "\t<tr><td>EWR</td><td>2013</td><td>1</td><td>1</td><td> 8</td><td>39.92</td><td>28.04</td><td>62.21</td><td>250</td><td>10.35702</td><td>      NA</td><td>0</td><td>1012.2</td><td>10</td><td>2013-01-01 08:00:00</td></tr>\n",
              "\t<tr><td>EWR</td><td>2013</td><td>1</td><td>1</td><td> 9</td><td>39.92</td><td>28.04</td><td>62.21</td><td>260</td><td>14.96014</td><td>      NA</td><td>0</td><td>1012.7</td><td>10</td><td>2013-01-01 09:00:00</td></tr>\n",
              "\t<tr><td>EWR</td><td>2013</td><td>1</td><td>1</td><td>10</td><td>41.00</td><td>28.04</td><td>59.65</td><td>260</td><td>13.80936</td><td>      NA</td><td>0</td><td>1012.4</td><td>10</td><td>2013-01-01 10:00:00</td></tr>\n",
              "\t<tr><td>EWR</td><td>2013</td><td>1</td><td>1</td><td>11</td><td>41.00</td><td>26.96</td><td>57.06</td><td>260</td><td>14.96014</td><td>      NA</td><td>0</td><td>1011.4</td><td>10</td><td>2013-01-01 11:00:00</td></tr>\n",
              "\t<tr><td>EWR</td><td>2013</td><td>1</td><td>1</td><td>13</td><td>39.20</td><td>28.40</td><td>69.67</td><td>330</td><td>16.11092</td><td>      NA</td><td>0</td><td>    NA</td><td>10</td><td>2013-01-01 13:00:00</td></tr>\n",
              "\t<tr><td>EWR</td><td>2013</td><td>1</td><td>1</td><td>14</td><td>39.02</td><td>24.08</td><td>54.68</td><td>280</td><td>13.80936</td><td>      NA</td><td>0</td><td>1010.8</td><td>10</td><td>2013-01-01 14:00:00</td></tr>\n",
              "\t<tr><td>EWR</td><td>2013</td><td>1</td><td>1</td><td>15</td><td>37.94</td><td>24.08</td><td>57.04</td><td>290</td><td> 9.20624</td><td>      NA</td><td>0</td><td>1011.9</td><td>10</td><td>2013-01-01 15:00:00</td></tr>\n",
              "\t<tr><td>EWR</td><td>2013</td><td>1</td><td>1</td><td>16</td><td>37.04</td><td>19.94</td><td>49.62</td><td>300</td><td>13.80936</td><td>20.71404</td><td>0</td><td>1012.1</td><td>10</td><td>2013-01-01 16:00:00</td></tr>\n",
              "\t<tr><td>EWR</td><td>2013</td><td>1</td><td>1</td><td>17</td><td>35.96</td><td>19.04</td><td>49.83</td><td>330</td><td>11.50780</td><td>      NA</td><td>0</td><td>1013.2</td><td>10</td><td>2013-01-01 17:00:00</td></tr>\n",
              "\t<tr><td>EWR</td><td>2013</td><td>1</td><td>1</td><td>18</td><td>33.98</td><td>15.08</td><td>45.43</td><td>310</td><td>12.65858</td><td>25.31716</td><td>0</td><td>1014.1</td><td>10</td><td>2013-01-01 18:00:00</td></tr>\n",
              "\t<tr><td>EWR</td><td>2013</td><td>1</td><td>1</td><td>19</td><td>33.08</td><td>12.92</td><td>42.84</td><td>320</td><td>10.35702</td><td>      NA</td><td>0</td><td>1014.4</td><td>10</td><td>2013-01-01 19:00:00</td></tr>\n",
              "\t<tr><td>EWR</td><td>2013</td><td>1</td><td>1</td><td>20</td><td>32.00</td><td>15.08</td><td>49.19</td><td>310</td><td>14.96014</td><td>      NA</td><td>0</td><td>1015.2</td><td>10</td><td>2013-01-01 20:00:00</td></tr>\n",
              "\t<tr><td>EWR</td><td>2013</td><td>1</td><td>1</td><td>21</td><td>30.02</td><td>12.92</td><td>48.48</td><td>320</td><td>18.41248</td><td>26.46794</td><td>0</td><td>1016.0</td><td>10</td><td>2013-01-01 21:00:00</td></tr>\n",
              "\t<tr><td>EWR</td><td>2013</td><td>1</td><td>1</td><td>22</td><td>28.94</td><td>12.02</td><td>48.69</td><td>320</td><td>18.41248</td><td>25.31716</td><td>0</td><td>1016.5</td><td>10</td><td>2013-01-01 22:00:00</td></tr>\n",
              "\t<tr><td>EWR</td><td>2013</td><td>1</td><td>1</td><td>23</td><td>28.04</td><td>10.94</td><td>48.15</td><td>310</td><td>16.11092</td><td>      NA</td><td>0</td><td>1016.4</td><td>10</td><td>2013-01-01 23:00:00</td></tr>\n",
              "\t<tr><td>EWR</td><td>2013</td><td>1</td><td>2</td><td> 0</td><td>26.96</td><td>10.94</td><td>50.34</td><td>310</td><td>14.96014</td><td>25.31716</td><td>0</td><td>1016.3</td><td>10</td><td>2013-01-02 00:00:00</td></tr>\n",
              "\t<tr><td>EWR</td><td>2013</td><td>1</td><td>2</td><td> 1</td><td>26.06</td><td>10.94</td><td>52.25</td><td>330</td><td>12.65858</td><td>24.16638</td><td>0</td><td>1016.3</td><td>10</td><td>2013-01-02 01:00:00</td></tr>\n",
              "\t<tr><td>EWR</td><td>2013</td><td>1</td><td>2</td><td> 2</td><td>24.98</td><td>10.94</td><td>54.65</td><td>330</td><td>13.80936</td><td>      NA</td><td>0</td><td>1017.0</td><td>10</td><td>2013-01-02 02:00:00</td></tr>\n",
              "\t<tr><td>EWR</td><td>2013</td><td>1</td><td>2</td><td> 3</td><td>24.08</td><td> 8.96</td><td>51.93</td><td>320</td><td>14.96014</td><td>      NA</td><td>0</td><td>1016.6</td><td>10</td><td>2013-01-02 03:00:00</td></tr>\n",
              "\t<tr><td>EWR</td><td>2013</td><td>1</td><td>2</td><td> 4</td><td>24.08</td><td> 8.96</td><td>51.93</td><td>330</td><td>12.65858</td><td>      NA</td><td>0</td><td>1016.9</td><td>10</td><td>2013-01-02 04:00:00</td></tr>\n",
              "\t<tr><td>EWR</td><td>2013</td><td>1</td><td>2</td><td> 5</td><td>24.08</td><td> 8.96</td><td>51.93</td><td>330</td><td> 6.90468</td><td>      NA</td><td>0</td><td>1016.9</td><td>10</td><td>2013-01-02 05:00:00</td></tr>\n",
              "\t<tr><td>EWR</td><td>2013</td><td>1</td><td>2</td><td> 6</td><td>24.08</td><td> 8.96</td><td>51.93</td><td>310</td><td> 3.45234</td><td>      NA</td><td>0</td><td>1017.2</td><td>10</td><td>2013-01-02 06:00:00</td></tr>\n",
              "\t<tr><td>EWR</td><td>2013</td><td>1</td><td>2</td><td> 7</td><td>24.98</td><td>10.04</td><td>52.50</td><td>300</td><td> 6.90468</td><td>      NA</td><td>0</td><td>1017.6</td><td>10</td><td>2013-01-02 07:00:00</td></tr>\n",
              "\t<tr><td>⋮</td><td>⋮</td><td>⋮</td><td>⋮</td><td>⋮</td><td>⋮</td><td>⋮</td><td>⋮</td><td>⋮</td><td>⋮</td><td>⋮</td><td>⋮</td><td>⋮</td><td>⋮</td><td>⋮</td></tr>\n",
              "\t<tr><td>LGA</td><td>2013</td><td>12</td><td>29</td><td>13</td><td>42.80</td><td>37.94</td><td>88.76</td><td> 70</td><td>12.65858</td><td>      NA</td><td>0.19</td><td>    NA</td><td> 2.50</td><td>2013-12-29 13:00:00</td></tr>\n",
              "\t<tr><td>LGA</td><td>2013</td><td>12</td><td>29</td><td>14</td><td>41.00</td><td>37.94</td><td>93.19</td><td> 60</td><td>18.41248</td><td>      NA</td><td>0.21</td><td>    NA</td><td> 1.75</td><td>2013-12-29 14:00:00</td></tr>\n",
              "\t<tr><td>LGA</td><td>2013</td><td>12</td><td>29</td><td>15</td><td>41.00</td><td>39.02</td><td>92.59</td><td> 40</td><td>13.80936</td><td>      NA</td><td>0.37</td><td> 999.9</td><td> 1.50</td><td>2013-12-29 15:00:00</td></tr>\n",
              "\t<tr><td>LGA</td><td>2013</td><td>12</td><td>29</td><td>16</td><td>41.00</td><td>37.94</td><td>88.76</td><td>350</td><td> 8.05546</td><td>23.01560</td><td>0.28</td><td> 998.7</td><td> 1.50</td><td>2013-12-29 16:00:00</td></tr>\n",
              "\t<tr><td>LGA</td><td>2013</td><td>12</td><td>29</td><td>17</td><td>44.06</td><td>41.00</td><td>93.24</td><td>350</td><td>20.71404</td><td>      NA</td><td>0.04</td><td>    NA</td><td> 5.00</td><td>2013-12-29 17:00:00</td></tr>\n",
              "\t<tr><td>LGA</td><td>2013</td><td>12</td><td>29</td><td>18</td><td>42.08</td><td>39.02</td><td>88.81</td><td>330</td><td>14.96014</td><td>      NA</td><td>0.00</td><td> 997.2</td><td> 3.00</td><td>2013-12-29 18:00:00</td></tr>\n",
              "\t<tr><td>LGA</td><td>2013</td><td>12</td><td>29</td><td>19</td><td>42.80</td><td>37.94</td><td>85.13</td><td>320</td><td>17.26170</td><td>      NA</td><td>0.00</td><td>    NA</td><td> 8.00</td><td>2013-12-29 19:00:00</td></tr>\n",
              "\t<tr><td>LGA</td><td>2013</td><td>12</td><td>29</td><td>20</td><td>42.08</td><td>37.94</td><td>86.89</td><td>320</td><td>19.56326</td><td>      NA</td><td>0.00</td><td>    NA</td><td>10.00</td><td>2013-12-29 20:00:00</td></tr>\n",
              "\t<tr><td>LGA</td><td>2013</td><td>12</td><td>29</td><td>21</td><td>42.80</td><td>37.40</td><td>82.17</td><td>320</td><td>16.11092</td><td>      NA</td><td>0.00</td><td>    NA</td><td>10.00</td><td>2013-12-29 21:00:00</td></tr>\n",
              "\t<tr><td>LGA</td><td>2013</td><td>12</td><td>29</td><td>22</td><td>42.98</td><td>37.04</td><td>79.38</td><td>300</td><td> 9.20624</td><td>      NA</td><td>0.00</td><td>1003.8</td><td>10.00</td><td>2013-12-29 22:00:00</td></tr>\n",
              "\t<tr><td>LGA</td><td>2013</td><td>12</td><td>29</td><td>23</td><td>42.98</td><td>35.06</td><td>73.39</td><td>310</td><td>17.26170</td><td>24.16638</td><td>0.00</td><td>1005.1</td><td>10.00</td><td>2013-12-29 23:00:00</td></tr>\n",
              "\t<tr><td>LGA</td><td>2013</td><td>12</td><td>30</td><td> 0</td><td>42.08</td><td>33.98</td><td>72.78</td><td>320</td><td>11.50780</td><td>      NA</td><td>0.00</td><td>1005.9</td><td>10.00</td><td>2013-12-30 00:00:00</td></tr>\n",
              "\t<tr><td>LGA</td><td>2013</td><td>12</td><td>30</td><td> 1</td><td>42.08</td><td>33.98</td><td>72.78</td><td>250</td><td> 9.20624</td><td>      NA</td><td>0.00</td><td>1007.6</td><td>10.00</td><td>2013-12-30 01:00:00</td></tr>\n",
              "\t<tr><td>LGA</td><td>2013</td><td>12</td><td>30</td><td> 2</td><td>41.00</td><td>33.98</td><td>75.88</td><td>240</td><td> 8.05546</td><td>      NA</td><td>0.00</td><td>1008.3</td><td>10.00</td><td>2013-12-30 02:00:00</td></tr>\n",
              "\t<tr><td>LGA</td><td>2013</td><td>12</td><td>30</td><td> 3</td><td>42.98</td><td>33.98</td><td>70.30</td><td>270</td><td> 9.20624</td><td>      NA</td><td>0.00</td><td>1008.2</td><td>10.00</td><td>2013-12-30 03:00:00</td></tr>\n",
              "\t<tr><td>LGA</td><td>2013</td><td>12</td><td>30</td><td> 4</td><td>41.00</td><td>33.08</td><td>73.19</td><td>  0</td><td> 0.00000</td><td>      NA</td><td>0.00</td><td>1008.9</td><td>10.00</td><td>2013-12-30 04:00:00</td></tr>\n",
              "\t<tr><td>LGA</td><td>2013</td><td>12</td><td>30</td><td> 5</td><td>42.98</td><td>33.08</td><td>67.81</td><td>250</td><td>10.35702</td><td>      NA</td><td>0.00</td><td>1009.2</td><td>10.00</td><td>2013-12-30 05:00:00</td></tr>\n",
              "\t<tr><td>LGA</td><td>2013</td><td>12</td><td>30</td><td> 6</td><td>42.98</td><td>33.98</td><td>70.30</td><td>230</td><td> 6.90468</td><td>      NA</td><td>0.00</td><td>1010.8</td><td>10.00</td><td>2013-12-30 06:00:00</td></tr>\n",
              "\t<tr><td>LGA</td><td>2013</td><td>12</td><td>30</td><td> 7</td><td>44.06</td><td>35.06</td><td>70.42</td><td>240</td><td>11.50780</td><td>      NA</td><td>0.00</td><td>1011.9</td><td>10.00</td><td>2013-12-30 07:00:00</td></tr>\n",
              "\t<tr><td>LGA</td><td>2013</td><td>12</td><td>30</td><td> 8</td><td>44.06</td><td>33.98</td><td>67.45</td><td>260</td><td>11.50780</td><td>      NA</td><td>0.00</td><td>1012.9</td><td>10.00</td><td>2013-12-30 08:00:00</td></tr>\n",
              "\t<tr><td>LGA</td><td>2013</td><td>12</td><td>30</td><td> 9</td><td>44.06</td><td>33.08</td><td>65.07</td><td>260</td><td>13.80936</td><td>      NA</td><td>0.00</td><td>1013.7</td><td>10.00</td><td>2013-12-30 09:00:00</td></tr>\n",
              "\t<tr><td>LGA</td><td>2013</td><td>12</td><td>30</td><td>10</td><td>42.98</td><td>33.80</td><td>70.28</td><td>330</td><td>16.11092</td><td>      NA</td><td>0.00</td><td>    NA</td><td>10.00</td><td>2013-12-30 10:00:00</td></tr>\n",
              "\t<tr><td>LGA</td><td>2013</td><td>12</td><td>30</td><td>11</td><td>41.00</td><td>28.40</td><td>62.21</td><td>340</td><td>13.80936</td><td>23.01560</td><td>0.00</td><td>    NA</td><td>10.00</td><td>2013-12-30 11:00:00</td></tr>\n",
              "\t<tr><td>LGA</td><td>2013</td><td>12</td><td>30</td><td>12</td><td>37.94</td><td>23.00</td><td>54.51</td><td>330</td><td>21.86482</td><td>27.61872</td><td>0.00</td><td>1015.7</td><td>10.00</td><td>2013-12-30 12:00:00</td></tr>\n",
              "\t<tr><td>LGA</td><td>2013</td><td>12</td><td>30</td><td>13</td><td>37.04</td><td>21.92</td><td>53.97</td><td>340</td><td>17.26170</td><td>20.71404</td><td>0.00</td><td>1016.5</td><td>10.00</td><td>2013-12-30 13:00:00</td></tr>\n",
              "\t<tr><td>LGA</td><td>2013</td><td>12</td><td>30</td><td>14</td><td>35.96</td><td>19.94</td><td>51.78</td><td>340</td><td>13.80936</td><td>21.86482</td><td>0.00</td><td>1017.1</td><td>10.00</td><td>2013-12-30 14:00:00</td></tr>\n",
              "\t<tr><td>LGA</td><td>2013</td><td>12</td><td>30</td><td>15</td><td>33.98</td><td>17.06</td><td>49.51</td><td>330</td><td>17.26170</td><td>21.86482</td><td>0.00</td><td>1018.8</td><td>10.00</td><td>2013-12-30 15:00:00</td></tr>\n",
              "\t<tr><td>LGA</td><td>2013</td><td>12</td><td>30</td><td>16</td><td>32.00</td><td>15.08</td><td>49.19</td><td>340</td><td>14.96014</td><td>23.01560</td><td>0.00</td><td>1019.5</td><td>10.00</td><td>2013-12-30 16:00:00</td></tr>\n",
              "\t<tr><td>LGA</td><td>2013</td><td>12</td><td>30</td><td>17</td><td>30.92</td><td>12.92</td><td>46.74</td><td>320</td><td>17.26170</td><td>      NA</td><td>0.00</td><td>1019.9</td><td>10.00</td><td>2013-12-30 17:00:00</td></tr>\n",
              "\t<tr><td>LGA</td><td>2013</td><td>12</td><td>30</td><td>18</td><td>28.94</td><td>10.94</td><td>46.41</td><td>330</td><td>18.41248</td><td>      NA</td><td>0.00</td><td>1020.9</td><td>10.00</td><td>2013-12-30 18:00:00</td></tr>\n",
              "</tbody>\n",
              "</table>\n"
            ],
            "text/markdown": "\nA tibble: 26115 × 15\n\n| origin &lt;chr&gt; | year &lt;int&gt; | month &lt;int&gt; | day &lt;int&gt; | hour &lt;int&gt; | temp &lt;dbl&gt; | dewp &lt;dbl&gt; | humid &lt;dbl&gt; | wind_dir &lt;dbl&gt; | wind_speed &lt;dbl&gt; | wind_gust &lt;dbl&gt; | precip &lt;dbl&gt; | pressure &lt;dbl&gt; | visib &lt;dbl&gt; | time_hour &lt;dttm&gt; |\n|---|---|---|---|---|---|---|---|---|---|---|---|---|---|---|\n| EWR | 2013 | 1 | 1 |  1 | 39.02 | 26.06 | 59.37 | 270 | 10.35702 |       NA | 0 | 1012.0 | 10 | 2013-01-01 01:00:00 |\n| EWR | 2013 | 1 | 1 |  2 | 39.02 | 26.96 | 61.63 | 250 |  8.05546 |       NA | 0 | 1012.3 | 10 | 2013-01-01 02:00:00 |\n| EWR | 2013 | 1 | 1 |  3 | 39.02 | 28.04 | 64.43 | 240 | 11.50780 |       NA | 0 | 1012.5 | 10 | 2013-01-01 03:00:00 |\n| EWR | 2013 | 1 | 1 |  4 | 39.92 | 28.04 | 62.21 | 250 | 12.65858 |       NA | 0 | 1012.2 | 10 | 2013-01-01 04:00:00 |\n| EWR | 2013 | 1 | 1 |  5 | 39.02 | 28.04 | 64.43 | 260 | 12.65858 |       NA | 0 | 1011.9 | 10 | 2013-01-01 05:00:00 |\n| EWR | 2013 | 1 | 1 |  6 | 37.94 | 28.04 | 67.21 | 240 | 11.50780 |       NA | 0 | 1012.4 | 10 | 2013-01-01 06:00:00 |\n| EWR | 2013 | 1 | 1 |  7 | 39.02 | 28.04 | 64.43 | 240 | 14.96014 |       NA | 0 | 1012.2 | 10 | 2013-01-01 07:00:00 |\n| EWR | 2013 | 1 | 1 |  8 | 39.92 | 28.04 | 62.21 | 250 | 10.35702 |       NA | 0 | 1012.2 | 10 | 2013-01-01 08:00:00 |\n| EWR | 2013 | 1 | 1 |  9 | 39.92 | 28.04 | 62.21 | 260 | 14.96014 |       NA | 0 | 1012.7 | 10 | 2013-01-01 09:00:00 |\n| EWR | 2013 | 1 | 1 | 10 | 41.00 | 28.04 | 59.65 | 260 | 13.80936 |       NA | 0 | 1012.4 | 10 | 2013-01-01 10:00:00 |\n| EWR | 2013 | 1 | 1 | 11 | 41.00 | 26.96 | 57.06 | 260 | 14.96014 |       NA | 0 | 1011.4 | 10 | 2013-01-01 11:00:00 |\n| EWR | 2013 | 1 | 1 | 13 | 39.20 | 28.40 | 69.67 | 330 | 16.11092 |       NA | 0 |     NA | 10 | 2013-01-01 13:00:00 |\n| EWR | 2013 | 1 | 1 | 14 | 39.02 | 24.08 | 54.68 | 280 | 13.80936 |       NA | 0 | 1010.8 | 10 | 2013-01-01 14:00:00 |\n| EWR | 2013 | 1 | 1 | 15 | 37.94 | 24.08 | 57.04 | 290 |  9.20624 |       NA | 0 | 1011.9 | 10 | 2013-01-01 15:00:00 |\n| EWR | 2013 | 1 | 1 | 16 | 37.04 | 19.94 | 49.62 | 300 | 13.80936 | 20.71404 | 0 | 1012.1 | 10 | 2013-01-01 16:00:00 |\n| EWR | 2013 | 1 | 1 | 17 | 35.96 | 19.04 | 49.83 | 330 | 11.50780 |       NA | 0 | 1013.2 | 10 | 2013-01-01 17:00:00 |\n| EWR | 2013 | 1 | 1 | 18 | 33.98 | 15.08 | 45.43 | 310 | 12.65858 | 25.31716 | 0 | 1014.1 | 10 | 2013-01-01 18:00:00 |\n| EWR | 2013 | 1 | 1 | 19 | 33.08 | 12.92 | 42.84 | 320 | 10.35702 |       NA | 0 | 1014.4 | 10 | 2013-01-01 19:00:00 |\n| EWR | 2013 | 1 | 1 | 20 | 32.00 | 15.08 | 49.19 | 310 | 14.96014 |       NA | 0 | 1015.2 | 10 | 2013-01-01 20:00:00 |\n| EWR | 2013 | 1 | 1 | 21 | 30.02 | 12.92 | 48.48 | 320 | 18.41248 | 26.46794 | 0 | 1016.0 | 10 | 2013-01-01 21:00:00 |\n| EWR | 2013 | 1 | 1 | 22 | 28.94 | 12.02 | 48.69 | 320 | 18.41248 | 25.31716 | 0 | 1016.5 | 10 | 2013-01-01 22:00:00 |\n| EWR | 2013 | 1 | 1 | 23 | 28.04 | 10.94 | 48.15 | 310 | 16.11092 |       NA | 0 | 1016.4 | 10 | 2013-01-01 23:00:00 |\n| EWR | 2013 | 1 | 2 |  0 | 26.96 | 10.94 | 50.34 | 310 | 14.96014 | 25.31716 | 0 | 1016.3 | 10 | 2013-01-02 00:00:00 |\n| EWR | 2013 | 1 | 2 |  1 | 26.06 | 10.94 | 52.25 | 330 | 12.65858 | 24.16638 | 0 | 1016.3 | 10 | 2013-01-02 01:00:00 |\n| EWR | 2013 | 1 | 2 |  2 | 24.98 | 10.94 | 54.65 | 330 | 13.80936 |       NA | 0 | 1017.0 | 10 | 2013-01-02 02:00:00 |\n| EWR | 2013 | 1 | 2 |  3 | 24.08 |  8.96 | 51.93 | 320 | 14.96014 |       NA | 0 | 1016.6 | 10 | 2013-01-02 03:00:00 |\n| EWR | 2013 | 1 | 2 |  4 | 24.08 |  8.96 | 51.93 | 330 | 12.65858 |       NA | 0 | 1016.9 | 10 | 2013-01-02 04:00:00 |\n| EWR | 2013 | 1 | 2 |  5 | 24.08 |  8.96 | 51.93 | 330 |  6.90468 |       NA | 0 | 1016.9 | 10 | 2013-01-02 05:00:00 |\n| EWR | 2013 | 1 | 2 |  6 | 24.08 |  8.96 | 51.93 | 310 |  3.45234 |       NA | 0 | 1017.2 | 10 | 2013-01-02 06:00:00 |\n| EWR | 2013 | 1 | 2 |  7 | 24.98 | 10.04 | 52.50 | 300 |  6.90468 |       NA | 0 | 1017.6 | 10 | 2013-01-02 07:00:00 |\n| ⋮ | ⋮ | ⋮ | ⋮ | ⋮ | ⋮ | ⋮ | ⋮ | ⋮ | ⋮ | ⋮ | ⋮ | ⋮ | ⋮ | ⋮ |\n| LGA | 2013 | 12 | 29 | 13 | 42.80 | 37.94 | 88.76 |  70 | 12.65858 |       NA | 0.19 |     NA |  2.50 | 2013-12-29 13:00:00 |\n| LGA | 2013 | 12 | 29 | 14 | 41.00 | 37.94 | 93.19 |  60 | 18.41248 |       NA | 0.21 |     NA |  1.75 | 2013-12-29 14:00:00 |\n| LGA | 2013 | 12 | 29 | 15 | 41.00 | 39.02 | 92.59 |  40 | 13.80936 |       NA | 0.37 |  999.9 |  1.50 | 2013-12-29 15:00:00 |\n| LGA | 2013 | 12 | 29 | 16 | 41.00 | 37.94 | 88.76 | 350 |  8.05546 | 23.01560 | 0.28 |  998.7 |  1.50 | 2013-12-29 16:00:00 |\n| LGA | 2013 | 12 | 29 | 17 | 44.06 | 41.00 | 93.24 | 350 | 20.71404 |       NA | 0.04 |     NA |  5.00 | 2013-12-29 17:00:00 |\n| LGA | 2013 | 12 | 29 | 18 | 42.08 | 39.02 | 88.81 | 330 | 14.96014 |       NA | 0.00 |  997.2 |  3.00 | 2013-12-29 18:00:00 |\n| LGA | 2013 | 12 | 29 | 19 | 42.80 | 37.94 | 85.13 | 320 | 17.26170 |       NA | 0.00 |     NA |  8.00 | 2013-12-29 19:00:00 |\n| LGA | 2013 | 12 | 29 | 20 | 42.08 | 37.94 | 86.89 | 320 | 19.56326 |       NA | 0.00 |     NA | 10.00 | 2013-12-29 20:00:00 |\n| LGA | 2013 | 12 | 29 | 21 | 42.80 | 37.40 | 82.17 | 320 | 16.11092 |       NA | 0.00 |     NA | 10.00 | 2013-12-29 21:00:00 |\n| LGA | 2013 | 12 | 29 | 22 | 42.98 | 37.04 | 79.38 | 300 |  9.20624 |       NA | 0.00 | 1003.8 | 10.00 | 2013-12-29 22:00:00 |\n| LGA | 2013 | 12 | 29 | 23 | 42.98 | 35.06 | 73.39 | 310 | 17.26170 | 24.16638 | 0.00 | 1005.1 | 10.00 | 2013-12-29 23:00:00 |\n| LGA | 2013 | 12 | 30 |  0 | 42.08 | 33.98 | 72.78 | 320 | 11.50780 |       NA | 0.00 | 1005.9 | 10.00 | 2013-12-30 00:00:00 |\n| LGA | 2013 | 12 | 30 |  1 | 42.08 | 33.98 | 72.78 | 250 |  9.20624 |       NA | 0.00 | 1007.6 | 10.00 | 2013-12-30 01:00:00 |\n| LGA | 2013 | 12 | 30 |  2 | 41.00 | 33.98 | 75.88 | 240 |  8.05546 |       NA | 0.00 | 1008.3 | 10.00 | 2013-12-30 02:00:00 |\n| LGA | 2013 | 12 | 30 |  3 | 42.98 | 33.98 | 70.30 | 270 |  9.20624 |       NA | 0.00 | 1008.2 | 10.00 | 2013-12-30 03:00:00 |\n| LGA | 2013 | 12 | 30 |  4 | 41.00 | 33.08 | 73.19 |   0 |  0.00000 |       NA | 0.00 | 1008.9 | 10.00 | 2013-12-30 04:00:00 |\n| LGA | 2013 | 12 | 30 |  5 | 42.98 | 33.08 | 67.81 | 250 | 10.35702 |       NA | 0.00 | 1009.2 | 10.00 | 2013-12-30 05:00:00 |\n| LGA | 2013 | 12 | 30 |  6 | 42.98 | 33.98 | 70.30 | 230 |  6.90468 |       NA | 0.00 | 1010.8 | 10.00 | 2013-12-30 06:00:00 |\n| LGA | 2013 | 12 | 30 |  7 | 44.06 | 35.06 | 70.42 | 240 | 11.50780 |       NA | 0.00 | 1011.9 | 10.00 | 2013-12-30 07:00:00 |\n| LGA | 2013 | 12 | 30 |  8 | 44.06 | 33.98 | 67.45 | 260 | 11.50780 |       NA | 0.00 | 1012.9 | 10.00 | 2013-12-30 08:00:00 |\n| LGA | 2013 | 12 | 30 |  9 | 44.06 | 33.08 | 65.07 | 260 | 13.80936 |       NA | 0.00 | 1013.7 | 10.00 | 2013-12-30 09:00:00 |\n| LGA | 2013 | 12 | 30 | 10 | 42.98 | 33.80 | 70.28 | 330 | 16.11092 |       NA | 0.00 |     NA | 10.00 | 2013-12-30 10:00:00 |\n| LGA | 2013 | 12 | 30 | 11 | 41.00 | 28.40 | 62.21 | 340 | 13.80936 | 23.01560 | 0.00 |     NA | 10.00 | 2013-12-30 11:00:00 |\n| LGA | 2013 | 12 | 30 | 12 | 37.94 | 23.00 | 54.51 | 330 | 21.86482 | 27.61872 | 0.00 | 1015.7 | 10.00 | 2013-12-30 12:00:00 |\n| LGA | 2013 | 12 | 30 | 13 | 37.04 | 21.92 | 53.97 | 340 | 17.26170 | 20.71404 | 0.00 | 1016.5 | 10.00 | 2013-12-30 13:00:00 |\n| LGA | 2013 | 12 | 30 | 14 | 35.96 | 19.94 | 51.78 | 340 | 13.80936 | 21.86482 | 0.00 | 1017.1 | 10.00 | 2013-12-30 14:00:00 |\n| LGA | 2013 | 12 | 30 | 15 | 33.98 | 17.06 | 49.51 | 330 | 17.26170 | 21.86482 | 0.00 | 1018.8 | 10.00 | 2013-12-30 15:00:00 |\n| LGA | 2013 | 12 | 30 | 16 | 32.00 | 15.08 | 49.19 | 340 | 14.96014 | 23.01560 | 0.00 | 1019.5 | 10.00 | 2013-12-30 16:00:00 |\n| LGA | 2013 | 12 | 30 | 17 | 30.92 | 12.92 | 46.74 | 320 | 17.26170 |       NA | 0.00 | 1019.9 | 10.00 | 2013-12-30 17:00:00 |\n| LGA | 2013 | 12 | 30 | 18 | 28.94 | 10.94 | 46.41 | 330 | 18.41248 |       NA | 0.00 | 1020.9 | 10.00 | 2013-12-30 18:00:00 |\n\n",
            "text/latex": "A tibble: 26115 × 15\n\\begin{tabular}{lllllllllllllll}\n origin & year & month & day & hour & temp & dewp & humid & wind\\_dir & wind\\_speed & wind\\_gust & precip & pressure & visib & time\\_hour\\\\\n <chr> & <int> & <int> & <int> & <int> & <dbl> & <dbl> & <dbl> & <dbl> & <dbl> & <dbl> & <dbl> & <dbl> & <dbl> & <dttm>\\\\\n\\hline\n\t EWR & 2013 & 1 & 1 &  1 & 39.02 & 26.06 & 59.37 & 270 & 10.35702 &       NA & 0 & 1012.0 & 10 & 2013-01-01 01:00:00\\\\\n\t EWR & 2013 & 1 & 1 &  2 & 39.02 & 26.96 & 61.63 & 250 &  8.05546 &       NA & 0 & 1012.3 & 10 & 2013-01-01 02:00:00\\\\\n\t EWR & 2013 & 1 & 1 &  3 & 39.02 & 28.04 & 64.43 & 240 & 11.50780 &       NA & 0 & 1012.5 & 10 & 2013-01-01 03:00:00\\\\\n\t EWR & 2013 & 1 & 1 &  4 & 39.92 & 28.04 & 62.21 & 250 & 12.65858 &       NA & 0 & 1012.2 & 10 & 2013-01-01 04:00:00\\\\\n\t EWR & 2013 & 1 & 1 &  5 & 39.02 & 28.04 & 64.43 & 260 & 12.65858 &       NA & 0 & 1011.9 & 10 & 2013-01-01 05:00:00\\\\\n\t EWR & 2013 & 1 & 1 &  6 & 37.94 & 28.04 & 67.21 & 240 & 11.50780 &       NA & 0 & 1012.4 & 10 & 2013-01-01 06:00:00\\\\\n\t EWR & 2013 & 1 & 1 &  7 & 39.02 & 28.04 & 64.43 & 240 & 14.96014 &       NA & 0 & 1012.2 & 10 & 2013-01-01 07:00:00\\\\\n\t EWR & 2013 & 1 & 1 &  8 & 39.92 & 28.04 & 62.21 & 250 & 10.35702 &       NA & 0 & 1012.2 & 10 & 2013-01-01 08:00:00\\\\\n\t EWR & 2013 & 1 & 1 &  9 & 39.92 & 28.04 & 62.21 & 260 & 14.96014 &       NA & 0 & 1012.7 & 10 & 2013-01-01 09:00:00\\\\\n\t EWR & 2013 & 1 & 1 & 10 & 41.00 & 28.04 & 59.65 & 260 & 13.80936 &       NA & 0 & 1012.4 & 10 & 2013-01-01 10:00:00\\\\\n\t EWR & 2013 & 1 & 1 & 11 & 41.00 & 26.96 & 57.06 & 260 & 14.96014 &       NA & 0 & 1011.4 & 10 & 2013-01-01 11:00:00\\\\\n\t EWR & 2013 & 1 & 1 & 13 & 39.20 & 28.40 & 69.67 & 330 & 16.11092 &       NA & 0 &     NA & 10 & 2013-01-01 13:00:00\\\\\n\t EWR & 2013 & 1 & 1 & 14 & 39.02 & 24.08 & 54.68 & 280 & 13.80936 &       NA & 0 & 1010.8 & 10 & 2013-01-01 14:00:00\\\\\n\t EWR & 2013 & 1 & 1 & 15 & 37.94 & 24.08 & 57.04 & 290 &  9.20624 &       NA & 0 & 1011.9 & 10 & 2013-01-01 15:00:00\\\\\n\t EWR & 2013 & 1 & 1 & 16 & 37.04 & 19.94 & 49.62 & 300 & 13.80936 & 20.71404 & 0 & 1012.1 & 10 & 2013-01-01 16:00:00\\\\\n\t EWR & 2013 & 1 & 1 & 17 & 35.96 & 19.04 & 49.83 & 330 & 11.50780 &       NA & 0 & 1013.2 & 10 & 2013-01-01 17:00:00\\\\\n\t EWR & 2013 & 1 & 1 & 18 & 33.98 & 15.08 & 45.43 & 310 & 12.65858 & 25.31716 & 0 & 1014.1 & 10 & 2013-01-01 18:00:00\\\\\n\t EWR & 2013 & 1 & 1 & 19 & 33.08 & 12.92 & 42.84 & 320 & 10.35702 &       NA & 0 & 1014.4 & 10 & 2013-01-01 19:00:00\\\\\n\t EWR & 2013 & 1 & 1 & 20 & 32.00 & 15.08 & 49.19 & 310 & 14.96014 &       NA & 0 & 1015.2 & 10 & 2013-01-01 20:00:00\\\\\n\t EWR & 2013 & 1 & 1 & 21 & 30.02 & 12.92 & 48.48 & 320 & 18.41248 & 26.46794 & 0 & 1016.0 & 10 & 2013-01-01 21:00:00\\\\\n\t EWR & 2013 & 1 & 1 & 22 & 28.94 & 12.02 & 48.69 & 320 & 18.41248 & 25.31716 & 0 & 1016.5 & 10 & 2013-01-01 22:00:00\\\\\n\t EWR & 2013 & 1 & 1 & 23 & 28.04 & 10.94 & 48.15 & 310 & 16.11092 &       NA & 0 & 1016.4 & 10 & 2013-01-01 23:00:00\\\\\n\t EWR & 2013 & 1 & 2 &  0 & 26.96 & 10.94 & 50.34 & 310 & 14.96014 & 25.31716 & 0 & 1016.3 & 10 & 2013-01-02 00:00:00\\\\\n\t EWR & 2013 & 1 & 2 &  1 & 26.06 & 10.94 & 52.25 & 330 & 12.65858 & 24.16638 & 0 & 1016.3 & 10 & 2013-01-02 01:00:00\\\\\n\t EWR & 2013 & 1 & 2 &  2 & 24.98 & 10.94 & 54.65 & 330 & 13.80936 &       NA & 0 & 1017.0 & 10 & 2013-01-02 02:00:00\\\\\n\t EWR & 2013 & 1 & 2 &  3 & 24.08 &  8.96 & 51.93 & 320 & 14.96014 &       NA & 0 & 1016.6 & 10 & 2013-01-02 03:00:00\\\\\n\t EWR & 2013 & 1 & 2 &  4 & 24.08 &  8.96 & 51.93 & 330 & 12.65858 &       NA & 0 & 1016.9 & 10 & 2013-01-02 04:00:00\\\\\n\t EWR & 2013 & 1 & 2 &  5 & 24.08 &  8.96 & 51.93 & 330 &  6.90468 &       NA & 0 & 1016.9 & 10 & 2013-01-02 05:00:00\\\\\n\t EWR & 2013 & 1 & 2 &  6 & 24.08 &  8.96 & 51.93 & 310 &  3.45234 &       NA & 0 & 1017.2 & 10 & 2013-01-02 06:00:00\\\\\n\t EWR & 2013 & 1 & 2 &  7 & 24.98 & 10.04 & 52.50 & 300 &  6.90468 &       NA & 0 & 1017.6 & 10 & 2013-01-02 07:00:00\\\\\n\t ⋮ & ⋮ & ⋮ & ⋮ & ⋮ & ⋮ & ⋮ & ⋮ & ⋮ & ⋮ & ⋮ & ⋮ & ⋮ & ⋮ & ⋮\\\\\n\t LGA & 2013 & 12 & 29 & 13 & 42.80 & 37.94 & 88.76 &  70 & 12.65858 &       NA & 0.19 &     NA &  2.50 & 2013-12-29 13:00:00\\\\\n\t LGA & 2013 & 12 & 29 & 14 & 41.00 & 37.94 & 93.19 &  60 & 18.41248 &       NA & 0.21 &     NA &  1.75 & 2013-12-29 14:00:00\\\\\n\t LGA & 2013 & 12 & 29 & 15 & 41.00 & 39.02 & 92.59 &  40 & 13.80936 &       NA & 0.37 &  999.9 &  1.50 & 2013-12-29 15:00:00\\\\\n\t LGA & 2013 & 12 & 29 & 16 & 41.00 & 37.94 & 88.76 & 350 &  8.05546 & 23.01560 & 0.28 &  998.7 &  1.50 & 2013-12-29 16:00:00\\\\\n\t LGA & 2013 & 12 & 29 & 17 & 44.06 & 41.00 & 93.24 & 350 & 20.71404 &       NA & 0.04 &     NA &  5.00 & 2013-12-29 17:00:00\\\\\n\t LGA & 2013 & 12 & 29 & 18 & 42.08 & 39.02 & 88.81 & 330 & 14.96014 &       NA & 0.00 &  997.2 &  3.00 & 2013-12-29 18:00:00\\\\\n\t LGA & 2013 & 12 & 29 & 19 & 42.80 & 37.94 & 85.13 & 320 & 17.26170 &       NA & 0.00 &     NA &  8.00 & 2013-12-29 19:00:00\\\\\n\t LGA & 2013 & 12 & 29 & 20 & 42.08 & 37.94 & 86.89 & 320 & 19.56326 &       NA & 0.00 &     NA & 10.00 & 2013-12-29 20:00:00\\\\\n\t LGA & 2013 & 12 & 29 & 21 & 42.80 & 37.40 & 82.17 & 320 & 16.11092 &       NA & 0.00 &     NA & 10.00 & 2013-12-29 21:00:00\\\\\n\t LGA & 2013 & 12 & 29 & 22 & 42.98 & 37.04 & 79.38 & 300 &  9.20624 &       NA & 0.00 & 1003.8 & 10.00 & 2013-12-29 22:00:00\\\\\n\t LGA & 2013 & 12 & 29 & 23 & 42.98 & 35.06 & 73.39 & 310 & 17.26170 & 24.16638 & 0.00 & 1005.1 & 10.00 & 2013-12-29 23:00:00\\\\\n\t LGA & 2013 & 12 & 30 &  0 & 42.08 & 33.98 & 72.78 & 320 & 11.50780 &       NA & 0.00 & 1005.9 & 10.00 & 2013-12-30 00:00:00\\\\\n\t LGA & 2013 & 12 & 30 &  1 & 42.08 & 33.98 & 72.78 & 250 &  9.20624 &       NA & 0.00 & 1007.6 & 10.00 & 2013-12-30 01:00:00\\\\\n\t LGA & 2013 & 12 & 30 &  2 & 41.00 & 33.98 & 75.88 & 240 &  8.05546 &       NA & 0.00 & 1008.3 & 10.00 & 2013-12-30 02:00:00\\\\\n\t LGA & 2013 & 12 & 30 &  3 & 42.98 & 33.98 & 70.30 & 270 &  9.20624 &       NA & 0.00 & 1008.2 & 10.00 & 2013-12-30 03:00:00\\\\\n\t LGA & 2013 & 12 & 30 &  4 & 41.00 & 33.08 & 73.19 &   0 &  0.00000 &       NA & 0.00 & 1008.9 & 10.00 & 2013-12-30 04:00:00\\\\\n\t LGA & 2013 & 12 & 30 &  5 & 42.98 & 33.08 & 67.81 & 250 & 10.35702 &       NA & 0.00 & 1009.2 & 10.00 & 2013-12-30 05:00:00\\\\\n\t LGA & 2013 & 12 & 30 &  6 & 42.98 & 33.98 & 70.30 & 230 &  6.90468 &       NA & 0.00 & 1010.8 & 10.00 & 2013-12-30 06:00:00\\\\\n\t LGA & 2013 & 12 & 30 &  7 & 44.06 & 35.06 & 70.42 & 240 & 11.50780 &       NA & 0.00 & 1011.9 & 10.00 & 2013-12-30 07:00:00\\\\\n\t LGA & 2013 & 12 & 30 &  8 & 44.06 & 33.98 & 67.45 & 260 & 11.50780 &       NA & 0.00 & 1012.9 & 10.00 & 2013-12-30 08:00:00\\\\\n\t LGA & 2013 & 12 & 30 &  9 & 44.06 & 33.08 & 65.07 & 260 & 13.80936 &       NA & 0.00 & 1013.7 & 10.00 & 2013-12-30 09:00:00\\\\\n\t LGA & 2013 & 12 & 30 & 10 & 42.98 & 33.80 & 70.28 & 330 & 16.11092 &       NA & 0.00 &     NA & 10.00 & 2013-12-30 10:00:00\\\\\n\t LGA & 2013 & 12 & 30 & 11 & 41.00 & 28.40 & 62.21 & 340 & 13.80936 & 23.01560 & 0.00 &     NA & 10.00 & 2013-12-30 11:00:00\\\\\n\t LGA & 2013 & 12 & 30 & 12 & 37.94 & 23.00 & 54.51 & 330 & 21.86482 & 27.61872 & 0.00 & 1015.7 & 10.00 & 2013-12-30 12:00:00\\\\\n\t LGA & 2013 & 12 & 30 & 13 & 37.04 & 21.92 & 53.97 & 340 & 17.26170 & 20.71404 & 0.00 & 1016.5 & 10.00 & 2013-12-30 13:00:00\\\\\n\t LGA & 2013 & 12 & 30 & 14 & 35.96 & 19.94 & 51.78 & 340 & 13.80936 & 21.86482 & 0.00 & 1017.1 & 10.00 & 2013-12-30 14:00:00\\\\\n\t LGA & 2013 & 12 & 30 & 15 & 33.98 & 17.06 & 49.51 & 330 & 17.26170 & 21.86482 & 0.00 & 1018.8 & 10.00 & 2013-12-30 15:00:00\\\\\n\t LGA & 2013 & 12 & 30 & 16 & 32.00 & 15.08 & 49.19 & 340 & 14.96014 & 23.01560 & 0.00 & 1019.5 & 10.00 & 2013-12-30 16:00:00\\\\\n\t LGA & 2013 & 12 & 30 & 17 & 30.92 & 12.92 & 46.74 & 320 & 17.26170 &       NA & 0.00 & 1019.9 & 10.00 & 2013-12-30 17:00:00\\\\\n\t LGA & 2013 & 12 & 30 & 18 & 28.94 & 10.94 & 46.41 & 330 & 18.41248 &       NA & 0.00 & 1020.9 & 10.00 & 2013-12-30 18:00:00\\\\\n\\end{tabular}\n",
            "text/plain": [
              "      origin year month day hour temp  dewp  humid wind_dir wind_speed\n",
              "1     EWR    2013 1     1    1   39.02 26.06 59.37 270      10.35702  \n",
              "2     EWR    2013 1     1    2   39.02 26.96 61.63 250       8.05546  \n",
              "3     EWR    2013 1     1    3   39.02 28.04 64.43 240      11.50780  \n",
              "4     EWR    2013 1     1    4   39.92 28.04 62.21 250      12.65858  \n",
              "5     EWR    2013 1     1    5   39.02 28.04 64.43 260      12.65858  \n",
              "6     EWR    2013 1     1    6   37.94 28.04 67.21 240      11.50780  \n",
              "7     EWR    2013 1     1    7   39.02 28.04 64.43 240      14.96014  \n",
              "8     EWR    2013 1     1    8   39.92 28.04 62.21 250      10.35702  \n",
              "9     EWR    2013 1     1    9   39.92 28.04 62.21 260      14.96014  \n",
              "10    EWR    2013 1     1   10   41.00 28.04 59.65 260      13.80936  \n",
              "11    EWR    2013 1     1   11   41.00 26.96 57.06 260      14.96014  \n",
              "12    EWR    2013 1     1   13   39.20 28.40 69.67 330      16.11092  \n",
              "13    EWR    2013 1     1   14   39.02 24.08 54.68 280      13.80936  \n",
              "14    EWR    2013 1     1   15   37.94 24.08 57.04 290       9.20624  \n",
              "15    EWR    2013 1     1   16   37.04 19.94 49.62 300      13.80936  \n",
              "16    EWR    2013 1     1   17   35.96 19.04 49.83 330      11.50780  \n",
              "17    EWR    2013 1     1   18   33.98 15.08 45.43 310      12.65858  \n",
              "18    EWR    2013 1     1   19   33.08 12.92 42.84 320      10.35702  \n",
              "19    EWR    2013 1     1   20   32.00 15.08 49.19 310      14.96014  \n",
              "20    EWR    2013 1     1   21   30.02 12.92 48.48 320      18.41248  \n",
              "21    EWR    2013 1     1   22   28.94 12.02 48.69 320      18.41248  \n",
              "22    EWR    2013 1     1   23   28.04 10.94 48.15 310      16.11092  \n",
              "23    EWR    2013 1     2    0   26.96 10.94 50.34 310      14.96014  \n",
              "24    EWR    2013 1     2    1   26.06 10.94 52.25 330      12.65858  \n",
              "25    EWR    2013 1     2    2   24.98 10.94 54.65 330      13.80936  \n",
              "26    EWR    2013 1     2    3   24.08  8.96 51.93 320      14.96014  \n",
              "27    EWR    2013 1     2    4   24.08  8.96 51.93 330      12.65858  \n",
              "28    EWR    2013 1     2    5   24.08  8.96 51.93 330       6.90468  \n",
              "29    EWR    2013 1     2    6   24.08  8.96 51.93 310       3.45234  \n",
              "30    EWR    2013 1     2    7   24.98 10.04 52.50 300       6.90468  \n",
              "⋮     ⋮      ⋮    ⋮     ⋮   ⋮    ⋮     ⋮     ⋮     ⋮        ⋮         \n",
              "26086 LGA    2013 12    29  13   42.80 37.94 88.76  70      12.65858  \n",
              "26087 LGA    2013 12    29  14   41.00 37.94 93.19  60      18.41248  \n",
              "26088 LGA    2013 12    29  15   41.00 39.02 92.59  40      13.80936  \n",
              "26089 LGA    2013 12    29  16   41.00 37.94 88.76 350       8.05546  \n",
              "26090 LGA    2013 12    29  17   44.06 41.00 93.24 350      20.71404  \n",
              "26091 LGA    2013 12    29  18   42.08 39.02 88.81 330      14.96014  \n",
              "26092 LGA    2013 12    29  19   42.80 37.94 85.13 320      17.26170  \n",
              "26093 LGA    2013 12    29  20   42.08 37.94 86.89 320      19.56326  \n",
              "26094 LGA    2013 12    29  21   42.80 37.40 82.17 320      16.11092  \n",
              "26095 LGA    2013 12    29  22   42.98 37.04 79.38 300       9.20624  \n",
              "26096 LGA    2013 12    29  23   42.98 35.06 73.39 310      17.26170  \n",
              "26097 LGA    2013 12    30   0   42.08 33.98 72.78 320      11.50780  \n",
              "26098 LGA    2013 12    30   1   42.08 33.98 72.78 250       9.20624  \n",
              "26099 LGA    2013 12    30   2   41.00 33.98 75.88 240       8.05546  \n",
              "26100 LGA    2013 12    30   3   42.98 33.98 70.30 270       9.20624  \n",
              "26101 LGA    2013 12    30   4   41.00 33.08 73.19   0       0.00000  \n",
              "26102 LGA    2013 12    30   5   42.98 33.08 67.81 250      10.35702  \n",
              "26103 LGA    2013 12    30   6   42.98 33.98 70.30 230       6.90468  \n",
              "26104 LGA    2013 12    30   7   44.06 35.06 70.42 240      11.50780  \n",
              "26105 LGA    2013 12    30   8   44.06 33.98 67.45 260      11.50780  \n",
              "26106 LGA    2013 12    30   9   44.06 33.08 65.07 260      13.80936  \n",
              "26107 LGA    2013 12    30  10   42.98 33.80 70.28 330      16.11092  \n",
              "26108 LGA    2013 12    30  11   41.00 28.40 62.21 340      13.80936  \n",
              "26109 LGA    2013 12    30  12   37.94 23.00 54.51 330      21.86482  \n",
              "26110 LGA    2013 12    30  13   37.04 21.92 53.97 340      17.26170  \n",
              "26111 LGA    2013 12    30  14   35.96 19.94 51.78 340      13.80936  \n",
              "26112 LGA    2013 12    30  15   33.98 17.06 49.51 330      17.26170  \n",
              "26113 LGA    2013 12    30  16   32.00 15.08 49.19 340      14.96014  \n",
              "26114 LGA    2013 12    30  17   30.92 12.92 46.74 320      17.26170  \n",
              "26115 LGA    2013 12    30  18   28.94 10.94 46.41 330      18.41248  \n",
              "      wind_gust precip pressure visib time_hour          \n",
              "1           NA  0      1012.0   10    2013-01-01 01:00:00\n",
              "2           NA  0      1012.3   10    2013-01-01 02:00:00\n",
              "3           NA  0      1012.5   10    2013-01-01 03:00:00\n",
              "4           NA  0      1012.2   10    2013-01-01 04:00:00\n",
              "5           NA  0      1011.9   10    2013-01-01 05:00:00\n",
              "6           NA  0      1012.4   10    2013-01-01 06:00:00\n",
              "7           NA  0      1012.2   10    2013-01-01 07:00:00\n",
              "8           NA  0      1012.2   10    2013-01-01 08:00:00\n",
              "9           NA  0      1012.7   10    2013-01-01 09:00:00\n",
              "10          NA  0      1012.4   10    2013-01-01 10:00:00\n",
              "11          NA  0      1011.4   10    2013-01-01 11:00:00\n",
              "12          NA  0          NA   10    2013-01-01 13:00:00\n",
              "13          NA  0      1010.8   10    2013-01-01 14:00:00\n",
              "14          NA  0      1011.9   10    2013-01-01 15:00:00\n",
              "15    20.71404  0      1012.1   10    2013-01-01 16:00:00\n",
              "16          NA  0      1013.2   10    2013-01-01 17:00:00\n",
              "17    25.31716  0      1014.1   10    2013-01-01 18:00:00\n",
              "18          NA  0      1014.4   10    2013-01-01 19:00:00\n",
              "19          NA  0      1015.2   10    2013-01-01 20:00:00\n",
              "20    26.46794  0      1016.0   10    2013-01-01 21:00:00\n",
              "21    25.31716  0      1016.5   10    2013-01-01 22:00:00\n",
              "22          NA  0      1016.4   10    2013-01-01 23:00:00\n",
              "23    25.31716  0      1016.3   10    2013-01-02 00:00:00\n",
              "24    24.16638  0      1016.3   10    2013-01-02 01:00:00\n",
              "25          NA  0      1017.0   10    2013-01-02 02:00:00\n",
              "26          NA  0      1016.6   10    2013-01-02 03:00:00\n",
              "27          NA  0      1016.9   10    2013-01-02 04:00:00\n",
              "28          NA  0      1016.9   10    2013-01-02 05:00:00\n",
              "29          NA  0      1017.2   10    2013-01-02 06:00:00\n",
              "30          NA  0      1017.6   10    2013-01-02 07:00:00\n",
              "⋮     ⋮         ⋮      ⋮        ⋮     ⋮                  \n",
              "26086       NA  0.19       NA    2.50 2013-12-29 13:00:00\n",
              "26087       NA  0.21       NA    1.75 2013-12-29 14:00:00\n",
              "26088       NA  0.37    999.9    1.50 2013-12-29 15:00:00\n",
              "26089 23.01560  0.28    998.7    1.50 2013-12-29 16:00:00\n",
              "26090       NA  0.04       NA    5.00 2013-12-29 17:00:00\n",
              "26091       NA  0.00    997.2    3.00 2013-12-29 18:00:00\n",
              "26092       NA  0.00       NA    8.00 2013-12-29 19:00:00\n",
              "26093       NA  0.00       NA   10.00 2013-12-29 20:00:00\n",
              "26094       NA  0.00       NA   10.00 2013-12-29 21:00:00\n",
              "26095       NA  0.00   1003.8   10.00 2013-12-29 22:00:00\n",
              "26096 24.16638  0.00   1005.1   10.00 2013-12-29 23:00:00\n",
              "26097       NA  0.00   1005.9   10.00 2013-12-30 00:00:00\n",
              "26098       NA  0.00   1007.6   10.00 2013-12-30 01:00:00\n",
              "26099       NA  0.00   1008.3   10.00 2013-12-30 02:00:00\n",
              "26100       NA  0.00   1008.2   10.00 2013-12-30 03:00:00\n",
              "26101       NA  0.00   1008.9   10.00 2013-12-30 04:00:00\n",
              "26102       NA  0.00   1009.2   10.00 2013-12-30 05:00:00\n",
              "26103       NA  0.00   1010.8   10.00 2013-12-30 06:00:00\n",
              "26104       NA  0.00   1011.9   10.00 2013-12-30 07:00:00\n",
              "26105       NA  0.00   1012.9   10.00 2013-12-30 08:00:00\n",
              "26106       NA  0.00   1013.7   10.00 2013-12-30 09:00:00\n",
              "26107       NA  0.00       NA   10.00 2013-12-30 10:00:00\n",
              "26108 23.01560  0.00       NA   10.00 2013-12-30 11:00:00\n",
              "26109 27.61872  0.00   1015.7   10.00 2013-12-30 12:00:00\n",
              "26110 20.71404  0.00   1016.5   10.00 2013-12-30 13:00:00\n",
              "26111 21.86482  0.00   1017.1   10.00 2013-12-30 14:00:00\n",
              "26112 21.86482  0.00   1018.8   10.00 2013-12-30 15:00:00\n",
              "26113 23.01560  0.00   1019.5   10.00 2013-12-30 16:00:00\n",
              "26114       NA  0.00   1019.9   10.00 2013-12-30 17:00:00\n",
              "26115       NA  0.00   1020.9   10.00 2013-12-30 18:00:00"
            ]
          },
          "metadata": {}
        }
      ]
    },
    {
      "cell_type": "code",
      "source": [
        "df_f <- flights %>% \n",
        "  select(origin,dest,distance) \n",
        "df_f"
      ],
      "metadata": {
        "colab": {
          "base_uri": "https://localhost:8080/",
          "height": 443
        },
        "id": "j954jDA6_ASq",
        "outputId": "3293272d-2709-4ae9-b654-02dcb47ad22b"
      },
      "execution_count": null,
      "outputs": [
        {
          "output_type": "display_data",
          "data": {
            "text/html": [
              "<table class=\"dataframe\">\n",
              "<caption>A tibble: 336776 × 3</caption>\n",
              "<thead>\n",
              "\t<tr><th scope=col>origin</th><th scope=col>dest</th><th scope=col>distance</th></tr>\n",
              "\t<tr><th scope=col>&lt;chr&gt;</th><th scope=col>&lt;chr&gt;</th><th scope=col>&lt;dbl&gt;</th></tr>\n",
              "</thead>\n",
              "<tbody>\n",
              "\t<tr><td>EWR</td><td>IAH</td><td>1400</td></tr>\n",
              "\t<tr><td>LGA</td><td>IAH</td><td>1416</td></tr>\n",
              "\t<tr><td>JFK</td><td>MIA</td><td>1089</td></tr>\n",
              "\t<tr><td>JFK</td><td>BQN</td><td>1576</td></tr>\n",
              "\t<tr><td>LGA</td><td>ATL</td><td> 762</td></tr>\n",
              "\t<tr><td>⋮</td><td>⋮</td><td>⋮</td></tr>\n",
              "\t<tr><td>JFK</td><td>DCA</td><td>213</td></tr>\n",
              "\t<tr><td>LGA</td><td>SYR</td><td>198</td></tr>\n",
              "\t<tr><td>LGA</td><td>BNA</td><td>764</td></tr>\n",
              "\t<tr><td>LGA</td><td>CLE</td><td>419</td></tr>\n",
              "\t<tr><td>LGA</td><td>RDU</td><td>431</td></tr>\n",
              "</tbody>\n",
              "</table>\n"
            ],
            "text/markdown": "\nA tibble: 336776 × 3\n\n| origin &lt;chr&gt; | dest &lt;chr&gt; | distance &lt;dbl&gt; |\n|---|---|---|\n| EWR | IAH | 1400 |\n| LGA | IAH | 1416 |\n| JFK | MIA | 1089 |\n| JFK | BQN | 1576 |\n| LGA | ATL |  762 |\n| ⋮ | ⋮ | ⋮ |\n| JFK | DCA | 213 |\n| LGA | SYR | 198 |\n| LGA | BNA | 764 |\n| LGA | CLE | 419 |\n| LGA | RDU | 431 |\n\n",
            "text/latex": "A tibble: 336776 × 3\n\\begin{tabular}{lll}\n origin & dest & distance\\\\\n <chr> & <chr> & <dbl>\\\\\n\\hline\n\t EWR & IAH & 1400\\\\\n\t LGA & IAH & 1416\\\\\n\t JFK & MIA & 1089\\\\\n\t JFK & BQN & 1576\\\\\n\t LGA & ATL &  762\\\\\n\t ⋮ & ⋮ & ⋮\\\\\n\t JFK & DCA & 213\\\\\n\t LGA & SYR & 198\\\\\n\t LGA & BNA & 764\\\\\n\t LGA & CLE & 419\\\\\n\t LGA & RDU & 431\\\\\n\\end{tabular}\n",
            "text/plain": [
              "       origin dest distance\n",
              "1      EWR    IAH  1400    \n",
              "2      LGA    IAH  1416    \n",
              "3      JFK    MIA  1089    \n",
              "4      JFK    BQN  1576    \n",
              "5      LGA    ATL   762    \n",
              "⋮      ⋮      ⋮    ⋮       \n",
              "336772 JFK    DCA  213     \n",
              "336773 LGA    SYR  198     \n",
              "336774 LGA    BNA  764     \n",
              "336775 LGA    CLE  419     \n",
              "336776 LGA    RDU  431     "
            ]
          },
          "metadata": {}
        }
      ]
    },
    {
      "cell_type": "markdown",
      "source": [
        "What is the average distance for each months ? lets find the cheapest month to travel"
      ],
      "metadata": {
        "id": "-djnxw4tDbb0"
      }
    },
    {
      "cell_type": "code",
      "source": [
        "mean_distance <- flights %>%\n",
        "    select (month,origin,dest,distance) %>%\n",
        "    group_by(month) %>%\n",
        "    summarize(average_distance = mean(distance)) %>%\n",
        "    arrange(desc(average_distance)) \n",
        "mean_distance\n",
        "head(5)"
      ],
      "metadata": {
        "colab": {
          "base_uri": "https://localhost:8080/",
          "height": 443
        },
        "id": "G8IrvtnU9VYH",
        "outputId": "40235c73-22fd-4593-b956-5ec1b1a0efaf"
      },
      "execution_count": null,
      "outputs": [
        {
          "output_type": "display_data",
          "data": {
            "text/html": [
              "<table class=\"dataframe\">\n",
              "<caption>A tibble: 12 × 2</caption>\n",
              "<thead>\n",
              "\t<tr><th scope=col>month</th><th scope=col>average_distance</th></tr>\n",
              "\t<tr><th scope=col>&lt;int&gt;</th><th scope=col>&lt;dbl&gt;</th></tr>\n",
              "</thead>\n",
              "<tbody>\n",
              "\t<tr><td>12</td><td>1064.656</td></tr>\n",
              "\t<tr><td> 8</td><td>1062.138</td></tr>\n",
              "\t<tr><td> 7</td><td>1058.596</td></tr>\n",
              "\t<tr><td> 6</td><td>1057.125</td></tr>\n",
              "\t<tr><td>11</td><td>1050.305</td></tr>\n",
              "\t<tr><td>⋮</td><td>⋮</td></tr>\n",
              "\t<tr><td>10</td><td>1038.876</td></tr>\n",
              "\t<tr><td> 4</td><td>1038.733</td></tr>\n",
              "\t<tr><td> 3</td><td>1011.987</td></tr>\n",
              "\t<tr><td> 1</td><td>1006.844</td></tr>\n",
              "\t<tr><td> 2</td><td>1000.982</td></tr>\n",
              "</tbody>\n",
              "</table>\n"
            ],
            "text/markdown": "\nA tibble: 12 × 2\n\n| month &lt;int&gt; | average_distance &lt;dbl&gt; |\n|---|---|\n| 12 | 1064.656 |\n|  8 | 1062.138 |\n|  7 | 1058.596 |\n|  6 | 1057.125 |\n| 11 | 1050.305 |\n| ⋮ | ⋮ |\n| 10 | 1038.876 |\n|  4 | 1038.733 |\n|  3 | 1011.987 |\n|  1 | 1006.844 |\n|  2 | 1000.982 |\n\n",
            "text/latex": "A tibble: 12 × 2\n\\begin{tabular}{ll}\n month & average\\_distance\\\\\n <int> & <dbl>\\\\\n\\hline\n\t 12 & 1064.656\\\\\n\t  8 & 1062.138\\\\\n\t  7 & 1058.596\\\\\n\t  6 & 1057.125\\\\\n\t 11 & 1050.305\\\\\n\t ⋮ & ⋮\\\\\n\t 10 & 1038.876\\\\\n\t  4 & 1038.733\\\\\n\t  3 & 1011.987\\\\\n\t  1 & 1006.844\\\\\n\t  2 & 1000.982\\\\\n\\end{tabular}\n",
            "text/plain": [
              "   month average_distance\n",
              "1  12    1064.656        \n",
              "2   8    1062.138        \n",
              "3   7    1058.596        \n",
              "4   6    1057.125        \n",
              "5  11    1050.305        \n",
              "⋮  ⋮     ⋮               \n",
              "8  10    1038.876        \n",
              "9   4    1038.733        \n",
              "10  3    1011.987        \n",
              "11  1    1006.844        \n",
              "12  2    1000.982        "
            ]
          },
          "metadata": {}
        }
      ]
    },
    {
      "cell_type": "code",
      "source": [
        "mean_distance <- flights %>%\n",
        "    select (month,origin,dest,distance) %>%\n",
        "    group_by(month) %>%\n",
        "    summarize(average_distance = mean(distance)) %>%\n",
        "    arrange(desc(average_distance)) %>%\n",
        "    head(5)\n",
        "mean_distance\n"
      ],
      "metadata": {
        "colab": {
          "base_uri": "https://localhost:8080/",
          "height": 255
        },
        "id": "3sGEycrwEMxm",
        "outputId": "db69e870-4a1f-47d1-d669-2580f96456d0"
      },
      "execution_count": null,
      "outputs": [
        {
          "output_type": "display_data",
          "data": {
            "text/html": [
              "<table class=\"dataframe\">\n",
              "<caption>A tibble: 5 × 2</caption>\n",
              "<thead>\n",
              "\t<tr><th scope=col>month</th><th scope=col>average_distance</th></tr>\n",
              "\t<tr><th scope=col>&lt;int&gt;</th><th scope=col>&lt;dbl&gt;</th></tr>\n",
              "</thead>\n",
              "<tbody>\n",
              "\t<tr><td>12</td><td>1064.656</td></tr>\n",
              "\t<tr><td> 8</td><td>1062.138</td></tr>\n",
              "\t<tr><td> 7</td><td>1058.596</td></tr>\n",
              "\t<tr><td> 6</td><td>1057.125</td></tr>\n",
              "\t<tr><td>11</td><td>1050.305</td></tr>\n",
              "</tbody>\n",
              "</table>\n"
            ],
            "text/markdown": "\nA tibble: 5 × 2\n\n| month &lt;int&gt; | average_distance &lt;dbl&gt; |\n|---|---|\n| 12 | 1064.656 |\n|  8 | 1062.138 |\n|  7 | 1058.596 |\n|  6 | 1057.125 |\n| 11 | 1050.305 |\n\n",
            "text/latex": "A tibble: 5 × 2\n\\begin{tabular}{ll}\n month & average\\_distance\\\\\n <int> & <dbl>\\\\\n\\hline\n\t 12 & 1064.656\\\\\n\t  8 & 1062.138\\\\\n\t  7 & 1058.596\\\\\n\t  6 & 1057.125\\\\\n\t 11 & 1050.305\\\\\n\\end{tabular}\n",
            "text/plain": [
              "  month average_distance\n",
              "1 12    1064.656        \n",
              "2  8    1062.138        \n",
              "3  7    1058.596        \n",
              "4  6    1057.125        \n",
              "5 11    1050.305        "
            ]
          },
          "metadata": {}
        }
      ]
    },
    {
      "cell_type": "markdown",
      "source": [
        "most people => \n",
        "  month #12 >> travel time ,\n",
        "  month #1,2 >> work time \n",
        "\n",
        "---\n",
        "\n",
        "\n"
      ],
      "metadata": {
        "id": "Do3dIPWcDAvq"
      }
    },
    {
      "cell_type": "markdown",
      "source": [
        "Since December is the most popular month to travel , where do they go?"
      ],
      "metadata": {
        "id": "84iWiQXDN0I5"
      }
    },
    {
      "cell_type": "code",
      "source": [
        "top_month <- flights %>% \n",
        "  filter(month == 12) %>%\n",
        "  # select(dest) %>%\n",
        "  count(dest) %>%\n",
        "  arrange(desc(n))\n",
        "\n",
        "top_month "
      ],
      "metadata": {
        "colab": {
          "base_uri": "https://localhost:8080/",
          "height": 443
        },
        "id": "kN4LUa46OBfp",
        "outputId": "803f1085-a6da-4acb-b8c2-b08bffbb4ec4"
      },
      "execution_count": null,
      "outputs": [
        {
          "output_type": "display_data",
          "data": {
            "text/html": [
              "<table class=\"dataframe\">\n",
              "<caption>A tibble: 96 × 2</caption>\n",
              "<thead>\n",
              "\t<tr><th scope=col>dest</th><th scope=col>n</th></tr>\n",
              "\t<tr><th scope=col>&lt;chr&gt;</th><th scope=col>&lt;int&gt;</th></tr>\n",
              "</thead>\n",
              "<tbody>\n",
              "\t<tr><td>ATL</td><td>1463</td></tr>\n",
              "\t<tr><td>LAX</td><td>1408</td></tr>\n",
              "\t<tr><td>MCO</td><td>1219</td></tr>\n",
              "\t<tr><td>ORD</td><td>1196</td></tr>\n",
              "\t<tr><td>CLT</td><td>1193</td></tr>\n",
              "\t<tr><td>⋮</td><td>⋮</td></tr>\n",
              "\t<tr><td>BZN</td><td>4</td></tr>\n",
              "\t<tr><td>HDN</td><td>2</td></tr>\n",
              "\t<tr><td>MTJ</td><td>2</td></tr>\n",
              "\t<tr><td>PSP</td><td>2</td></tr>\n",
              "\t<tr><td>SBN</td><td>1</td></tr>\n",
              "</tbody>\n",
              "</table>\n"
            ],
            "text/markdown": "\nA tibble: 96 × 2\n\n| dest &lt;chr&gt; | n &lt;int&gt; |\n|---|---|\n| ATL | 1463 |\n| LAX | 1408 |\n| MCO | 1219 |\n| ORD | 1196 |\n| CLT | 1193 |\n| ⋮ | ⋮ |\n| BZN | 4 |\n| HDN | 2 |\n| MTJ | 2 |\n| PSP | 2 |\n| SBN | 1 |\n\n",
            "text/latex": "A tibble: 96 × 2\n\\begin{tabular}{ll}\n dest & n\\\\\n <chr> & <int>\\\\\n\\hline\n\t ATL & 1463\\\\\n\t LAX & 1408\\\\\n\t MCO & 1219\\\\\n\t ORD & 1196\\\\\n\t CLT & 1193\\\\\n\t ⋮ & ⋮\\\\\n\t BZN & 4\\\\\n\t HDN & 2\\\\\n\t MTJ & 2\\\\\n\t PSP & 2\\\\\n\t SBN & 1\\\\\n\\end{tabular}\n",
            "text/plain": [
              "   dest n   \n",
              "1  ATL  1463\n",
              "2  LAX  1408\n",
              "3  MCO  1219\n",
              "4  ORD  1196\n",
              "5  CLT  1193\n",
              "⋮  ⋮    ⋮   \n",
              "92 BZN  4   \n",
              "93 HDN  2   \n",
              "94 MTJ  2   \n",
              "95 PSP  2   \n",
              "96 SBN  1   "
            ]
          },
          "metadata": {}
        }
      ]
    },
    {
      "cell_type": "markdown",
      "source": [
        "The most common attraction is ATL aka atlanta airport, hmm... I wonder what are they going there for? Personally i thought LAX (clout city) would be the most popular,however, i am wrong \n",
        "\n",
        "---\n",
        "\n"
      ],
      "metadata": {
        "id": "EVM8VC_ZT_Lr"
      }
    },
    {
      "cell_type": "markdown",
      "source": [
        "What airline has the highest air time ?"
      ],
      "metadata": {
        "id": "vHGED5kCEcg-"
      }
    },
    {
      "cell_type": "code",
      "source": [
        "highest_airtime  <- flights %>%\n",
        "  \n",
        "  filter(!is.na(air_time)) %>%\n",
        "  arrange(desc(air_time))  %>% \n",
        "  left_join(airlines, by = \"carrier\") %>%\n",
        "  select(airline = name,\n",
        "         ID = carrier,\n",
        "         air_time  ) %>%\n",
        "  head(8)\n",
        "highest_airtime"
      ],
      "metadata": {
        "colab": {
          "base_uri": "https://localhost:8080/",
          "height": 349
        },
        "id": "vaE9Pj-sE670",
        "outputId": "deeb5ab1-d62e-4799-850a-12f285e20a95"
      },
      "execution_count": null,
      "outputs": [
        {
          "output_type": "display_data",
          "data": {
            "text/html": [
              "<table class=\"dataframe\">\n",
              "<caption>A tibble: 8 × 3</caption>\n",
              "<thead>\n",
              "\t<tr><th scope=col>airline</th><th scope=col>ID</th><th scope=col>air_time</th></tr>\n",
              "\t<tr><th scope=col>&lt;chr&gt;</th><th scope=col>&lt;chr&gt;</th><th scope=col>&lt;dbl&gt;</th></tr>\n",
              "</thead>\n",
              "<tbody>\n",
              "\t<tr><td>United Air Lines Inc. </td><td>UA</td><td>695</td></tr>\n",
              "\t<tr><td>Hawaiian Airlines Inc.</td><td>HA</td><td>691</td></tr>\n",
              "\t<tr><td>Hawaiian Airlines Inc.</td><td>HA</td><td>686</td></tr>\n",
              "\t<tr><td>Hawaiian Airlines Inc.</td><td>HA</td><td>686</td></tr>\n",
              "\t<tr><td>Hawaiian Airlines Inc.</td><td>HA</td><td>683</td></tr>\n",
              "\t<tr><td>Hawaiian Airlines Inc.</td><td>HA</td><td>679</td></tr>\n",
              "\t<tr><td>United Air Lines Inc. </td><td>UA</td><td>676</td></tr>\n",
              "\t<tr><td>Hawaiian Airlines Inc.</td><td>HA</td><td>676</td></tr>\n",
              "</tbody>\n",
              "</table>\n"
            ],
            "text/markdown": "\nA tibble: 8 × 3\n\n| airline &lt;chr&gt; | ID &lt;chr&gt; | air_time &lt;dbl&gt; |\n|---|---|---|\n| United Air Lines Inc.  | UA | 695 |\n| Hawaiian Airlines Inc. | HA | 691 |\n| Hawaiian Airlines Inc. | HA | 686 |\n| Hawaiian Airlines Inc. | HA | 686 |\n| Hawaiian Airlines Inc. | HA | 683 |\n| Hawaiian Airlines Inc. | HA | 679 |\n| United Air Lines Inc.  | UA | 676 |\n| Hawaiian Airlines Inc. | HA | 676 |\n\n",
            "text/latex": "A tibble: 8 × 3\n\\begin{tabular}{lll}\n airline & ID & air\\_time\\\\\n <chr> & <chr> & <dbl>\\\\\n\\hline\n\t United Air Lines Inc.  & UA & 695\\\\\n\t Hawaiian Airlines Inc. & HA & 691\\\\\n\t Hawaiian Airlines Inc. & HA & 686\\\\\n\t Hawaiian Airlines Inc. & HA & 686\\\\\n\t Hawaiian Airlines Inc. & HA & 683\\\\\n\t Hawaiian Airlines Inc. & HA & 679\\\\\n\t United Air Lines Inc.  & UA & 676\\\\\n\t Hawaiian Airlines Inc. & HA & 676\\\\\n\\end{tabular}\n",
            "text/plain": [
              "  airline                ID air_time\n",
              "1 United Air Lines Inc.  UA 695     \n",
              "2 Hawaiian Airlines Inc. HA 691     \n",
              "3 Hawaiian Airlines Inc. HA 686     \n",
              "4 Hawaiian Airlines Inc. HA 686     \n",
              "5 Hawaiian Airlines Inc. HA 683     \n",
              "6 Hawaiian Airlines Inc. HA 679     \n",
              "7 United Air Lines Inc.  UA 676     \n",
              "8 Hawaiian Airlines Inc. HA 676     "
            ]
          },
          "metadata": {}
        }
      ]
    },
    {
      "cell_type": "markdown",
      "source": [
        "United Air Lines Inc.\t(UA) won first place and recieved the prize while majority of the airline placed in top 8 is Hawaiian Airlines Inc. (HA)\n",
        "\n",
        "---\n",
        "\n"
      ],
      "metadata": {
        "id": "RTU5ws_pHQ2i"
      }
    },
    {
      "cell_type": "markdown",
      "source": [
        "what airline is the Worst?"
      ],
      "metadata": {
        "id": "8mMIrqa5JDck"
      }
    },
    {
      "cell_type": "code",
      "source": [
        "best_airline <- flights %>% \n",
        "  left_join(airlines, by = \"carrier\") %>%\n",
        "  select(name, carrier, dep_delay) %>%\n",
        "  filter(!is.na(dep_delay)) %>%\n",
        "  group_by(name, carrier) %>%\n",
        "  summarise(sum_dep_delay = sum(dep_delay), filght_count = n()) %>%\n",
        "  mutate(delay_per_flight = sum_dep_delay / filght_count) %>%\n",
        "  arrange(desc(delay_per_flight))%>%\n",
        "  head(8)\n",
        "\n",
        "best_airline"
      ],
      "metadata": {
        "colab": {
          "base_uri": "https://localhost:8080/",
          "height": 386
        },
        "id": "S02pQt5VI6rl",
        "outputId": "2e28b52f-d6a0-443b-d338-3a38d37e4093"
      },
      "execution_count": null,
      "outputs": [
        {
          "output_type": "stream",
          "name": "stderr",
          "text": [
            "\u001b[1m\u001b[22m`summarise()` has grouped output by 'name'. You can override using the\n",
            "`.groups` argument.\n"
          ]
        },
        {
          "output_type": "display_data",
          "data": {
            "text/html": [
              "<table class=\"dataframe\">\n",
              "<caption>A grouped_df: 8 × 5</caption>\n",
              "<thead>\n",
              "\t<tr><th scope=col>name</th><th scope=col>carrier</th><th scope=col>sum_dep_delay</th><th scope=col>filght_count</th><th scope=col>delay_per_flight</th></tr>\n",
              "\t<tr><th scope=col>&lt;chr&gt;</th><th scope=col>&lt;chr&gt;</th><th scope=col>&lt;dbl&gt;</th><th scope=col>&lt;int&gt;</th><th scope=col>&lt;dbl&gt;</th></tr>\n",
              "</thead>\n",
              "<tbody>\n",
              "\t<tr><td>Frontier Airlines Inc.     </td><td>F9</td><td>  13787</td><td>  682</td><td>20.21554</td></tr>\n",
              "\t<tr><td>ExpressJet Airlines Inc.   </td><td>EV</td><td>1024829</td><td>51356</td><td>19.95539</td></tr>\n",
              "\t<tr><td>Mesa Airlines Inc.         </td><td>YV</td><td>  10353</td><td>  545</td><td>18.99633</td></tr>\n",
              "\t<tr><td>AirTran Airways Corporation</td><td>FL</td><td>  59680</td><td> 3187</td><td>18.72607</td></tr>\n",
              "\t<tr><td>Southwest Airlines Co.     </td><td>WN</td><td> 214011</td><td>12083</td><td>17.71174</td></tr>\n",
              "\t<tr><td>Endeavor Air Inc.          </td><td>9E</td><td> 291296</td><td>17416</td><td>16.72577</td></tr>\n",
              "\t<tr><td>JetBlue Airways            </td><td>B6</td><td> 705417</td><td>54169</td><td>13.02252</td></tr>\n",
              "\t<tr><td>Virgin America             </td><td>VX</td><td>  66033</td><td> 5131</td><td>12.86942</td></tr>\n",
              "</tbody>\n",
              "</table>\n"
            ],
            "text/markdown": "\nA grouped_df: 8 × 5\n\n| name &lt;chr&gt; | carrier &lt;chr&gt; | sum_dep_delay &lt;dbl&gt; | filght_count &lt;int&gt; | delay_per_flight &lt;dbl&gt; |\n|---|---|---|---|---|\n| Frontier Airlines Inc.      | F9 |   13787 |   682 | 20.21554 |\n| ExpressJet Airlines Inc.    | EV | 1024829 | 51356 | 19.95539 |\n| Mesa Airlines Inc.          | YV |   10353 |   545 | 18.99633 |\n| AirTran Airways Corporation | FL |   59680 |  3187 | 18.72607 |\n| Southwest Airlines Co.      | WN |  214011 | 12083 | 17.71174 |\n| Endeavor Air Inc.           | 9E |  291296 | 17416 | 16.72577 |\n| JetBlue Airways             | B6 |  705417 | 54169 | 13.02252 |\n| Virgin America              | VX |   66033 |  5131 | 12.86942 |\n\n",
            "text/latex": "A grouped\\_df: 8 × 5\n\\begin{tabular}{lllll}\n name & carrier & sum\\_dep\\_delay & filght\\_count & delay\\_per\\_flight\\\\\n <chr> & <chr> & <dbl> & <int> & <dbl>\\\\\n\\hline\n\t Frontier Airlines Inc.      & F9 &   13787 &   682 & 20.21554\\\\\n\t ExpressJet Airlines Inc.    & EV & 1024829 & 51356 & 19.95539\\\\\n\t Mesa Airlines Inc.          & YV &   10353 &   545 & 18.99633\\\\\n\t AirTran Airways Corporation & FL &   59680 &  3187 & 18.72607\\\\\n\t Southwest Airlines Co.      & WN &  214011 & 12083 & 17.71174\\\\\n\t Endeavor Air Inc.           & 9E &  291296 & 17416 & 16.72577\\\\\n\t JetBlue Airways             & B6 &  705417 & 54169 & 13.02252\\\\\n\t Virgin America              & VX &   66033 &  5131 & 12.86942\\\\\n\\end{tabular}\n",
            "text/plain": [
              "  name                        carrier sum_dep_delay filght_count\n",
              "1 Frontier Airlines Inc.      F9        13787         682       \n",
              "2 ExpressJet Airlines Inc.    EV      1024829       51356       \n",
              "3 Mesa Airlines Inc.          YV        10353         545       \n",
              "4 AirTran Airways Corporation FL        59680        3187       \n",
              "5 Southwest Airlines Co.      WN       214011       12083       \n",
              "6 Endeavor Air Inc.           9E       291296       17416       \n",
              "7 JetBlue Airways             B6       705417       54169       \n",
              "8 Virgin America              VX        66033        5131       \n",
              "  delay_per_flight\n",
              "1 20.21554        \n",
              "2 19.95539        \n",
              "3 18.99633        \n",
              "4 18.72607        \n",
              "5 17.71174        \n",
              "6 16.72577        \n",
              "7 13.02252        \n",
              "8 12.86942        "
            ]
          },
          "metadata": {}
        }
      ]
    },
    {
      "cell_type": "markdown",
      "source": [
        "the absolute worst airline is Frontier Airlines Inc.\twhich average 20.21554 for (total) delay_per flight, please choose anything but this airline TwT\n",
        "\n",
        "---\n",
        "\n"
      ],
      "metadata": {
        "id": "Jt6lcZTJL7gN"
      }
    },
    {
      "cell_type": "markdown",
      "source": [
        "Lets make a slight detour toward the weather table/data, can't wait for winter season in 2023 , lets see why winter season is the best "
      ],
      "metadata": {
        "id": "a_FhwqRSIu99"
      }
    },
    {
      "cell_type": "code",
      "source": [
        "why_winter_best <- weather %>%\n",
        "    select (month, temp) %>%\n",
        "    filter(!is.na(temp)) %>%\n",
        "    group_by(month) %>%\n",
        "    summarize(mean_temp = mean(temp), sd_temp = sd(temp)) %>%\n",
        "    dplyr::arrange(mean_temp)%>%\n",
        "    head(3)\n",
        "why_winter_best"
      ],
      "metadata": {
        "colab": {
          "base_uri": "https://localhost:8080/",
          "height": 192
        },
        "id": "wT5TtY0DE65T",
        "outputId": "4bdc5421-2efe-40ed-dc31-a1ba3c350fef"
      },
      "execution_count": null,
      "outputs": [
        {
          "output_type": "display_data",
          "data": {
            "text/html": [
              "<table class=\"dataframe\">\n",
              "<caption>A tibble: 3 × 3</caption>\n",
              "<thead>\n",
              "\t<tr><th scope=col>month</th><th scope=col>mean_temp</th><th scope=col>sd_temp</th></tr>\n",
              "\t<tr><th scope=col>&lt;int&gt;</th><th scope=col>&lt;dbl&gt;</th><th scope=col>&lt;dbl&gt;</th></tr>\n",
              "</thead>\n",
              "<tbody>\n",
              "\t<tr><td> 2</td><td>34.27060</td><td> 6.982378</td></tr>\n",
              "\t<tr><td> 1</td><td>35.63566</td><td>10.224635</td></tr>\n",
              "\t<tr><td>12</td><td>38.44180</td><td> 9.982432</td></tr>\n",
              "</tbody>\n",
              "</table>\n"
            ],
            "text/markdown": "\nA tibble: 3 × 3\n\n| month &lt;int&gt; | mean_temp &lt;dbl&gt; | sd_temp &lt;dbl&gt; |\n|---|---|---|\n|  2 | 34.27060 |  6.982378 |\n|  1 | 35.63566 | 10.224635 |\n| 12 | 38.44180 |  9.982432 |\n\n",
            "text/latex": "A tibble: 3 × 3\n\\begin{tabular}{lll}\n month & mean\\_temp & sd\\_temp\\\\\n <int> & <dbl> & <dbl>\\\\\n\\hline\n\t  2 & 34.27060 &  6.982378\\\\\n\t  1 & 35.63566 & 10.224635\\\\\n\t 12 & 38.44180 &  9.982432\\\\\n\\end{tabular}\n",
            "text/plain": [
              "  month mean_temp sd_temp  \n",
              "1  2    34.27060   6.982378\n",
              "2  1    35.63566  10.224635\n",
              "3 12    38.44180   9.982432"
            ]
          },
          "metadata": {}
        }
      ]
    },
    {
      "cell_type": "markdown",
      "source": [
        "that goes without saying, 3 best months of the year ,winter season, surely is the best. Thats probably why most people travels in this period too\n"
      ],
      "metadata": {
        "id": "J4MBKgNwWn7U"
      }
    },
    {
      "cell_type": "code",
      "source": [],
      "metadata": {
        "id": "6QU9jI9hE6vA"
      },
      "execution_count": null,
      "outputs": []
    }
  ]
}